{
 "cells": [
  {
   "cell_type": "code",
   "execution_count": 1,
   "metadata": {},
   "outputs": [],
   "source": [
    "import sys\n",
    "sys.path.append('scripts')\n",
    "from lib import *\n",
    "from sklearn.metrics import confusion_matrix, classification_report\n",
    "from math import ceil\n",
    "import plotly.express as px\n",
    "from plotly.subplots import make_subplots\n",
    "import plotly.graph_objects as go"
   ]
  },
  {
   "cell_type": "code",
   "execution_count": 2,
   "metadata": {},
   "outputs": [],
   "source": [
    "image_columname = 'filename'"
   ]
  },
  {
   "cell_type": "code",
   "execution_count": 3,
   "metadata": {},
   "outputs": [],
   "source": [
    "dfs, available_classes, available_models = read_raw_reports(os.path.join('..',raw_reports_path))\n",
    "\n",
    "# replacing spaces with underscores:\n",
    "available_classes = [cname.replace(' ', '_') for cname in available_classes]"
   ]
  },
  {
   "cell_type": "code",
   "execution_count": 4,
   "metadata": {},
   "outputs": [],
   "source": [
    "# having it reverse for plot:\n",
    "available_classes_r = available_classes[::-1]\n",
    "\n",
    "available_classes_r_upper = [cname.upper() for cname in available_classes_r]"
   ]
  },
  {
   "cell_type": "code",
   "execution_count": 5,
   "metadata": {},
   "outputs": [
    {
     "data": {
      "text/plain": [
       "['ViT-bigG-14-CLIPA-336',\n",
       " 'RN101',\n",
       " 'RN50x64',\n",
       " 'ViT-L_14',\n",
       " 'ViT-B_32',\n",
       " 'EVA02-E-14-plus',\n",
       " 'ViT-SO400M-14-SigLIP-384',\n",
       " 'ViT-H-14-378-quickgelu']"
      ]
     },
     "execution_count": 5,
     "metadata": {},
     "output_type": "execute_result"
    }
   ],
   "source": [
    "available_models"
   ]
  },
  {
   "cell_type": "code",
   "execution_count": 6,
   "metadata": {},
   "outputs": [
    {
     "data": {
      "text/plain": [
       "['asphalt',\n",
       " 'cobblestone',\n",
       " 'compacted',\n",
       " 'concrete',\n",
       " 'concrete_plates',\n",
       " 'grass',\n",
       " 'gravel',\n",
       " 'ground',\n",
       " 'paving_stones',\n",
       " 'sett']"
      ]
     },
     "execution_count": 6,
     "metadata": {},
     "output_type": "execute_result"
    }
   ],
   "source": [
    "available_classes"
   ]
  },
  {
   "cell_type": "code",
   "execution_count": 7,
   "metadata": {},
   "outputs": [],
   "source": [
    "all_dfs = []\n",
    "modelwise_dfs = {}\n",
    "\n",
    "for class_dict in dfs:\n",
    "    for model_name in dfs[class_dict]:\n",
    "        model_df = dfs[class_dict][model_name]\n",
    "        all_dfs.append(model_df)\n",
    "\n",
    "        if not model_name in modelwise_dfs:\n",
    "            modelwise_dfs[model_name] = []\n",
    "\n",
    "        modelwise_dfs[model_name].append(model_df)\n",
    "\n",
    "\n",
    "for model_name in modelwise_dfs:\n",
    "    modelwise_dfs[model_name] = pd.concat(modelwise_dfs[model_name]).copy()"
   ]
  },
  {
   "cell_type": "code",
   "execution_count": 8,
   "metadata": {},
   "outputs": [
    {
     "data": {
      "text/plain": [
       "{'EVA02-E-14-plus': 5000,\n",
       " 'RN101': 5000,\n",
       " 'RN50x64': 5000,\n",
       " 'ViT-bigG-14-CLIPA-336': 5000,\n",
       " 'ViT-B_32': 5000,\n",
       " 'ViT-H-14-378-quickgelu': 5000,\n",
       " 'ViT-L_14': 5000,\n",
       " 'ViT-SO400M-14-SigLIP-384': 5000}"
      ]
     },
     "execution_count": 8,
     "metadata": {},
     "output_type": "execute_result"
    }
   ],
   "source": [
    "{model_name: len(modelwise_dfs[model_name]) for model_name in modelwise_dfs}"
   ]
  },
  {
   "cell_type": "code",
   "execution_count": 9,
   "metadata": {},
   "outputs": [],
   "source": [
    "merged_df = pd.concat(all_dfs)"
   ]
  },
  {
   "cell_type": "code",
   "execution_count": 10,
   "metadata": {},
   "outputs": [],
   "source": [
    "true_classes = merged_df.groupby(image_columname).agg('first')[class_label] #.str.replace('_', ' ')\n",
    "merged_pred = merged_df.groupby(image_columname).sum(numeric_only=True)\n",
    "\n",
    "merged_pred[prediction_label] = merged_pred.idxmax(axis=1)\n",
    "merged_pred[class_label] = true_classes\n"
   ]
  },
  {
   "cell_type": "code",
   "execution_count": 11,
   "metadata": {},
   "outputs": [
    {
     "data": {
      "text/html": [
       "<div>\n",
       "<style scoped>\n",
       "    .dataframe tbody tr th:only-of-type {\n",
       "        vertical-align: middle;\n",
       "    }\n",
       "\n",
       "    .dataframe tbody tr th {\n",
       "        vertical-align: top;\n",
       "    }\n",
       "\n",
       "    .dataframe thead th {\n",
       "        text-align: right;\n",
       "    }\n",
       "</style>\n",
       "<table border=\"1\" class=\"dataframe\">\n",
       "  <thead>\n",
       "    <tr style=\"text-align: right;\">\n",
       "      <th></th>\n",
       "      <th>asphalt</th>\n",
       "      <th>cobblestone</th>\n",
       "      <th>compacted</th>\n",
       "      <th>concrete</th>\n",
       "      <th>concrete_plates</th>\n",
       "      <th>grass</th>\n",
       "      <th>gravel</th>\n",
       "      <th>ground</th>\n",
       "      <th>paving_stones</th>\n",
       "      <th>sett</th>\n",
       "      <th>prediction</th>\n",
       "      <th>class</th>\n",
       "    </tr>\n",
       "    <tr>\n",
       "      <th>filename</th>\n",
       "      <th></th>\n",
       "      <th></th>\n",
       "      <th></th>\n",
       "      <th></th>\n",
       "      <th></th>\n",
       "      <th></th>\n",
       "      <th></th>\n",
       "      <th></th>\n",
       "      <th></th>\n",
       "      <th></th>\n",
       "      <th></th>\n",
       "      <th></th>\n",
       "    </tr>\n",
       "  </thead>\n",
       "  <tbody>\n",
       "    <tr>\n",
       "      <th>000111e2b580f09ee3c82e741e5fc402.png</th>\n",
       "      <td>1.119566</td>\n",
       "      <td>0.626668</td>\n",
       "      <td>0.315340</td>\n",
       "      <td>1.067032</td>\n",
       "      <td>0.571635</td>\n",
       "      <td>0.535103</td>\n",
       "      <td>1.142461</td>\n",
       "      <td>2.085953</td>\n",
       "      <td>0.282286</td>\n",
       "      <td>0.254142</td>\n",
       "      <td>ground</td>\n",
       "      <td>compacted</td>\n",
       "    </tr>\n",
       "    <tr>\n",
       "      <th>00098db7c6cd6ee36d590ff0d5db7ad1.png</th>\n",
       "      <td>0.173628</td>\n",
       "      <td>0.301090</td>\n",
       "      <td>0.151611</td>\n",
       "      <td>4.517852</td>\n",
       "      <td>0.835243</td>\n",
       "      <td>0.017109</td>\n",
       "      <td>0.375464</td>\n",
       "      <td>0.582497</td>\n",
       "      <td>1.040450</td>\n",
       "      <td>0.004802</td>\n",
       "      <td>concrete</td>\n",
       "      <td>concrete</td>\n",
       "    </tr>\n",
       "    <tr>\n",
       "      <th>000a02ec8efd2faef1315a54af697dcc.png</th>\n",
       "      <td>2.389232</td>\n",
       "      <td>0.799234</td>\n",
       "      <td>0.210236</td>\n",
       "      <td>0.417047</td>\n",
       "      <td>0.689314</td>\n",
       "      <td>0.430098</td>\n",
       "      <td>0.552883</td>\n",
       "      <td>1.448259</td>\n",
       "      <td>0.545268</td>\n",
       "      <td>0.518487</td>\n",
       "      <td>asphalt</td>\n",
       "      <td>concrete_plates</td>\n",
       "    </tr>\n",
       "    <tr>\n",
       "      <th>001449cde8a4959f753aa0e5e4fe1166.png</th>\n",
       "      <td>0.105323</td>\n",
       "      <td>4.306164</td>\n",
       "      <td>0.028392</td>\n",
       "      <td>0.075611</td>\n",
       "      <td>0.035851</td>\n",
       "      <td>0.009307</td>\n",
       "      <td>2.192703</td>\n",
       "      <td>0.402684</td>\n",
       "      <td>0.827460</td>\n",
       "      <td>0.016294</td>\n",
       "      <td>cobblestone</td>\n",
       "      <td>cobblestone</td>\n",
       "    </tr>\n",
       "    <tr>\n",
       "      <th>00157343508e08f1dbc0efc1f8066f3d.png</th>\n",
       "      <td>0.183626</td>\n",
       "      <td>0.938241</td>\n",
       "      <td>1.219646</td>\n",
       "      <td>0.116098</td>\n",
       "      <td>0.209043</td>\n",
       "      <td>0.352456</td>\n",
       "      <td>1.834101</td>\n",
       "      <td>1.943612</td>\n",
       "      <td>1.109219</td>\n",
       "      <td>0.093870</td>\n",
       "      <td>ground</td>\n",
       "      <td>ground</td>\n",
       "    </tr>\n",
       "    <tr>\n",
       "      <th>...</th>\n",
       "      <td>...</td>\n",
       "      <td>...</td>\n",
       "      <td>...</td>\n",
       "      <td>...</td>\n",
       "      <td>...</td>\n",
       "      <td>...</td>\n",
       "      <td>...</td>\n",
       "      <td>...</td>\n",
       "      <td>...</td>\n",
       "      <td>...</td>\n",
       "      <td>...</td>\n",
       "      <td>...</td>\n",
       "    </tr>\n",
       "    <tr>\n",
       "      <th>ffd4bc27fe750ca5fedac61da4f7a397.png</th>\n",
       "      <td>0.214579</td>\n",
       "      <td>0.517436</td>\n",
       "      <td>1.046109</td>\n",
       "      <td>0.079391</td>\n",
       "      <td>0.429189</td>\n",
       "      <td>0.172434</td>\n",
       "      <td>1.197481</td>\n",
       "      <td>3.117920</td>\n",
       "      <td>1.065587</td>\n",
       "      <td>0.160118</td>\n",
       "      <td>ground</td>\n",
       "      <td>ground</td>\n",
       "    </tr>\n",
       "    <tr>\n",
       "      <th>ffdf02c1935b18874b5b6d30b163f5aa.png</th>\n",
       "      <td>0.437350</td>\n",
       "      <td>0.380334</td>\n",
       "      <td>0.249078</td>\n",
       "      <td>2.987426</td>\n",
       "      <td>1.886027</td>\n",
       "      <td>0.086050</td>\n",
       "      <td>0.648325</td>\n",
       "      <td>0.557583</td>\n",
       "      <td>0.703132</td>\n",
       "      <td>0.064330</td>\n",
       "      <td>concrete</td>\n",
       "      <td>compacted</td>\n",
       "    </tr>\n",
       "    <tr>\n",
       "      <th>ffeebe48ab30925a6b36cd74dd6228c4.png</th>\n",
       "      <td>0.575448</td>\n",
       "      <td>0.543808</td>\n",
       "      <td>0.473006</td>\n",
       "      <td>2.530337</td>\n",
       "      <td>0.915317</td>\n",
       "      <td>0.603612</td>\n",
       "      <td>0.980028</td>\n",
       "      <td>0.552140</td>\n",
       "      <td>0.178257</td>\n",
       "      <td>0.648179</td>\n",
       "      <td>concrete</td>\n",
       "      <td>concrete</td>\n",
       "    </tr>\n",
       "    <tr>\n",
       "      <th>fff2773854e0aee66f7e0a9ccf671da6.png</th>\n",
       "      <td>0.520339</td>\n",
       "      <td>0.440215</td>\n",
       "      <td>0.320692</td>\n",
       "      <td>3.311443</td>\n",
       "      <td>1.289879</td>\n",
       "      <td>0.188658</td>\n",
       "      <td>0.803764</td>\n",
       "      <td>0.277243</td>\n",
       "      <td>0.313545</td>\n",
       "      <td>0.534352</td>\n",
       "      <td>concrete</td>\n",
       "      <td>concrete</td>\n",
       "    </tr>\n",
       "    <tr>\n",
       "      <th>fffa1b0f4a84eac27348445194dbd104.png</th>\n",
       "      <td>0.010011</td>\n",
       "      <td>4.943651</td>\n",
       "      <td>0.057159</td>\n",
       "      <td>0.017778</td>\n",
       "      <td>0.044278</td>\n",
       "      <td>0.000213</td>\n",
       "      <td>0.196388</td>\n",
       "      <td>0.077180</td>\n",
       "      <td>2.593851</td>\n",
       "      <td>0.059383</td>\n",
       "      <td>cobblestone</td>\n",
       "      <td>cobblestone</td>\n",
       "    </tr>\n",
       "  </tbody>\n",
       "</table>\n",
       "<p>5000 rows × 12 columns</p>\n",
       "</div>"
      ],
      "text/plain": [
       "                                       asphalt  cobblestone  compacted  \\\n",
       "filename                                                                 \n",
       "000111e2b580f09ee3c82e741e5fc402.png  1.119566     0.626668   0.315340   \n",
       "00098db7c6cd6ee36d590ff0d5db7ad1.png  0.173628     0.301090   0.151611   \n",
       "000a02ec8efd2faef1315a54af697dcc.png  2.389232     0.799234   0.210236   \n",
       "001449cde8a4959f753aa0e5e4fe1166.png  0.105323     4.306164   0.028392   \n",
       "00157343508e08f1dbc0efc1f8066f3d.png  0.183626     0.938241   1.219646   \n",
       "...                                        ...          ...        ...   \n",
       "ffd4bc27fe750ca5fedac61da4f7a397.png  0.214579     0.517436   1.046109   \n",
       "ffdf02c1935b18874b5b6d30b163f5aa.png  0.437350     0.380334   0.249078   \n",
       "ffeebe48ab30925a6b36cd74dd6228c4.png  0.575448     0.543808   0.473006   \n",
       "fff2773854e0aee66f7e0a9ccf671da6.png  0.520339     0.440215   0.320692   \n",
       "fffa1b0f4a84eac27348445194dbd104.png  0.010011     4.943651   0.057159   \n",
       "\n",
       "                                      concrete  concrete_plates     grass  \\\n",
       "filename                                                                    \n",
       "000111e2b580f09ee3c82e741e5fc402.png  1.067032         0.571635  0.535103   \n",
       "00098db7c6cd6ee36d590ff0d5db7ad1.png  4.517852         0.835243  0.017109   \n",
       "000a02ec8efd2faef1315a54af697dcc.png  0.417047         0.689314  0.430098   \n",
       "001449cde8a4959f753aa0e5e4fe1166.png  0.075611         0.035851  0.009307   \n",
       "00157343508e08f1dbc0efc1f8066f3d.png  0.116098         0.209043  0.352456   \n",
       "...                                        ...              ...       ...   \n",
       "ffd4bc27fe750ca5fedac61da4f7a397.png  0.079391         0.429189  0.172434   \n",
       "ffdf02c1935b18874b5b6d30b163f5aa.png  2.987426         1.886027  0.086050   \n",
       "ffeebe48ab30925a6b36cd74dd6228c4.png  2.530337         0.915317  0.603612   \n",
       "fff2773854e0aee66f7e0a9ccf671da6.png  3.311443         1.289879  0.188658   \n",
       "fffa1b0f4a84eac27348445194dbd104.png  0.017778         0.044278  0.000213   \n",
       "\n",
       "                                        gravel    ground  paving_stones  \\\n",
       "filename                                                                  \n",
       "000111e2b580f09ee3c82e741e5fc402.png  1.142461  2.085953       0.282286   \n",
       "00098db7c6cd6ee36d590ff0d5db7ad1.png  0.375464  0.582497       1.040450   \n",
       "000a02ec8efd2faef1315a54af697dcc.png  0.552883  1.448259       0.545268   \n",
       "001449cde8a4959f753aa0e5e4fe1166.png  2.192703  0.402684       0.827460   \n",
       "00157343508e08f1dbc0efc1f8066f3d.png  1.834101  1.943612       1.109219   \n",
       "...                                        ...       ...            ...   \n",
       "ffd4bc27fe750ca5fedac61da4f7a397.png  1.197481  3.117920       1.065587   \n",
       "ffdf02c1935b18874b5b6d30b163f5aa.png  0.648325  0.557583       0.703132   \n",
       "ffeebe48ab30925a6b36cd74dd6228c4.png  0.980028  0.552140       0.178257   \n",
       "fff2773854e0aee66f7e0a9ccf671da6.png  0.803764  0.277243       0.313545   \n",
       "fffa1b0f4a84eac27348445194dbd104.png  0.196388  0.077180       2.593851   \n",
       "\n",
       "                                          sett   prediction            class  \n",
       "filename                                                                      \n",
       "000111e2b580f09ee3c82e741e5fc402.png  0.254142       ground        compacted  \n",
       "00098db7c6cd6ee36d590ff0d5db7ad1.png  0.004802     concrete         concrete  \n",
       "000a02ec8efd2faef1315a54af697dcc.png  0.518487      asphalt  concrete_plates  \n",
       "001449cde8a4959f753aa0e5e4fe1166.png  0.016294  cobblestone      cobblestone  \n",
       "00157343508e08f1dbc0efc1f8066f3d.png  0.093870       ground           ground  \n",
       "...                                        ...          ...              ...  \n",
       "ffd4bc27fe750ca5fedac61da4f7a397.png  0.160118       ground           ground  \n",
       "ffdf02c1935b18874b5b6d30b163f5aa.png  0.064330     concrete        compacted  \n",
       "ffeebe48ab30925a6b36cd74dd6228c4.png  0.648179     concrete         concrete  \n",
       "fff2773854e0aee66f7e0a9ccf671da6.png  0.534352     concrete         concrete  \n",
       "fffa1b0f4a84eac27348445194dbd104.png  0.059383  cobblestone      cobblestone  \n",
       "\n",
       "[5000 rows x 12 columns]"
      ]
     },
     "execution_count": 11,
     "metadata": {},
     "output_type": "execute_result"
    }
   ],
   "source": [
    "merged_pred"
   ]
  },
  {
   "cell_type": "code",
   "execution_count": 12,
   "metadata": {},
   "outputs": [],
   "source": [
    "true_labels =      merged_pred[class_label]#.tolist()\n",
    "predicted_labels = merged_pred[prediction_label]#.tolist()\n",
    "\n",
    "c_mat = confusion_matrix(true_labels,\n",
    "                         predicted_labels,\n",
    "                         labels=available_classes_r,\n",
    "                           normalize='true'\n",
    "                           ) * 100\n",
    "c_mat = c_mat.round(3)"
   ]
  },
  {
   "cell_type": "code",
   "execution_count": 13,
   "metadata": {},
   "outputs": [
    {
     "data": {
      "application/vnd.plotly.v1+json": {
       "config": {
        "plotlyServerURL": "https://plot.ly"
       },
       "data": [
        {
         "coloraxis": "coloraxis",
         "hovertemplate": "Prediction: %{x}<br>Class: %{y}<br>color: %{z}<extra></extra>",
         "name": "0",
         "texttemplate": "%{z}",
         "type": "heatmap",
         "x": [
          "sett",
          "paving_stones",
          "ground",
          "gravel",
          "grass",
          "concrete_plates",
          "concrete",
          "compacted",
          "cobblestone",
          "asphalt"
         ],
         "xaxis": "x",
         "y": [
          "sett",
          "paving_stones",
          "ground",
          "gravel",
          "grass",
          "concrete_plates",
          "concrete",
          "compacted",
          "cobblestone",
          "asphalt"
         ],
         "yaxis": "y",
         "z": [
          [
           0,
           30.6,
           6,
           0.4,
           0.2,
           0,
           0.6,
           0,
           61.6,
           0.6
          ],
          [
           0,
           92.2,
           0.8,
           0.2,
           0.2,
           0,
           0.2,
           0,
           5.2,
           1.2
          ],
          [
           0,
           0.4,
           88.4,
           7.2,
           0,
           0,
           0,
           3,
           0.2,
           0.8
          ],
          [
           0,
           0.2,
           7.6,
           87.8,
           0,
           0,
           0,
           0,
           0.6,
           3.8
          ],
          [
           0,
           0,
           1,
           0,
           98.6,
           0,
           0,
           0,
           0,
           0.4
          ],
          [
           0,
           43,
           18.4,
           1,
           2,
           9,
           5.6,
           0,
           12.2,
           8.8
          ],
          [
           0.8,
           1,
           13.2,
           3,
           1.2,
           3,
           71.8,
           0,
           0.6,
           5.4
          ],
          [
           0,
           0,
           53.6,
           3.8,
           0,
           0.4,
           38.4,
           0,
           0.2,
           3.6
          ],
          [
           0,
           2,
           3.4,
           9,
           0,
           0.2,
           0.2,
           0,
           84.4,
           0.8
          ],
          [
           0.6,
           0,
           9.2,
           0.4,
           2.8,
           2,
           20.8,
           0,
           0.8,
           63.4
          ]
         ]
        }
       ],
       "layout": {
        "coloraxis": {
         "colorscale": [
          [
           0,
           "rgb(255, 198, 196)"
          ],
          [
           0.16666666666666666,
           "rgb(244, 163, 168)"
          ],
          [
           0.3333333333333333,
           "rgb(227, 129, 145)"
          ],
          [
           0.5,
           "rgb(204, 96, 125)"
          ],
          [
           0.6666666666666666,
           "rgb(173, 70, 108)"
          ],
          [
           0.8333333333333334,
           "rgb(139, 48, 88)"
          ],
          [
           1,
           "rgb(103, 32, 68)"
          ]
         ]
        },
        "height": 700,
        "margin": {
         "t": 60
        },
        "template": {
         "data": {
          "bar": [
           {
            "error_x": {
             "color": "#2a3f5f"
            },
            "error_y": {
             "color": "#2a3f5f"
            },
            "marker": {
             "line": {
              "color": "#E5ECF6",
              "width": 0.5
             },
             "pattern": {
              "fillmode": "overlay",
              "size": 10,
              "solidity": 0.2
             }
            },
            "type": "bar"
           }
          ],
          "barpolar": [
           {
            "marker": {
             "line": {
              "color": "#E5ECF6",
              "width": 0.5
             },
             "pattern": {
              "fillmode": "overlay",
              "size": 10,
              "solidity": 0.2
             }
            },
            "type": "barpolar"
           }
          ],
          "carpet": [
           {
            "aaxis": {
             "endlinecolor": "#2a3f5f",
             "gridcolor": "white",
             "linecolor": "white",
             "minorgridcolor": "white",
             "startlinecolor": "#2a3f5f"
            },
            "baxis": {
             "endlinecolor": "#2a3f5f",
             "gridcolor": "white",
             "linecolor": "white",
             "minorgridcolor": "white",
             "startlinecolor": "#2a3f5f"
            },
            "type": "carpet"
           }
          ],
          "choropleth": [
           {
            "colorbar": {
             "outlinewidth": 0,
             "ticks": ""
            },
            "type": "choropleth"
           }
          ],
          "contour": [
           {
            "colorbar": {
             "outlinewidth": 0,
             "ticks": ""
            },
            "colorscale": [
             [
              0,
              "#0d0887"
             ],
             [
              0.1111111111111111,
              "#46039f"
             ],
             [
              0.2222222222222222,
              "#7201a8"
             ],
             [
              0.3333333333333333,
              "#9c179e"
             ],
             [
              0.4444444444444444,
              "#bd3786"
             ],
             [
              0.5555555555555556,
              "#d8576b"
             ],
             [
              0.6666666666666666,
              "#ed7953"
             ],
             [
              0.7777777777777778,
              "#fb9f3a"
             ],
             [
              0.8888888888888888,
              "#fdca26"
             ],
             [
              1,
              "#f0f921"
             ]
            ],
            "type": "contour"
           }
          ],
          "contourcarpet": [
           {
            "colorbar": {
             "outlinewidth": 0,
             "ticks": ""
            },
            "type": "contourcarpet"
           }
          ],
          "heatmap": [
           {
            "colorbar": {
             "outlinewidth": 0,
             "ticks": ""
            },
            "colorscale": [
             [
              0,
              "#0d0887"
             ],
             [
              0.1111111111111111,
              "#46039f"
             ],
             [
              0.2222222222222222,
              "#7201a8"
             ],
             [
              0.3333333333333333,
              "#9c179e"
             ],
             [
              0.4444444444444444,
              "#bd3786"
             ],
             [
              0.5555555555555556,
              "#d8576b"
             ],
             [
              0.6666666666666666,
              "#ed7953"
             ],
             [
              0.7777777777777778,
              "#fb9f3a"
             ],
             [
              0.8888888888888888,
              "#fdca26"
             ],
             [
              1,
              "#f0f921"
             ]
            ],
            "type": "heatmap"
           }
          ],
          "heatmapgl": [
           {
            "colorbar": {
             "outlinewidth": 0,
             "ticks": ""
            },
            "colorscale": [
             [
              0,
              "#0d0887"
             ],
             [
              0.1111111111111111,
              "#46039f"
             ],
             [
              0.2222222222222222,
              "#7201a8"
             ],
             [
              0.3333333333333333,
              "#9c179e"
             ],
             [
              0.4444444444444444,
              "#bd3786"
             ],
             [
              0.5555555555555556,
              "#d8576b"
             ],
             [
              0.6666666666666666,
              "#ed7953"
             ],
             [
              0.7777777777777778,
              "#fb9f3a"
             ],
             [
              0.8888888888888888,
              "#fdca26"
             ],
             [
              1,
              "#f0f921"
             ]
            ],
            "type": "heatmapgl"
           }
          ],
          "histogram": [
           {
            "marker": {
             "pattern": {
              "fillmode": "overlay",
              "size": 10,
              "solidity": 0.2
             }
            },
            "type": "histogram"
           }
          ],
          "histogram2d": [
           {
            "colorbar": {
             "outlinewidth": 0,
             "ticks": ""
            },
            "colorscale": [
             [
              0,
              "#0d0887"
             ],
             [
              0.1111111111111111,
              "#46039f"
             ],
             [
              0.2222222222222222,
              "#7201a8"
             ],
             [
              0.3333333333333333,
              "#9c179e"
             ],
             [
              0.4444444444444444,
              "#bd3786"
             ],
             [
              0.5555555555555556,
              "#d8576b"
             ],
             [
              0.6666666666666666,
              "#ed7953"
             ],
             [
              0.7777777777777778,
              "#fb9f3a"
             ],
             [
              0.8888888888888888,
              "#fdca26"
             ],
             [
              1,
              "#f0f921"
             ]
            ],
            "type": "histogram2d"
           }
          ],
          "histogram2dcontour": [
           {
            "colorbar": {
             "outlinewidth": 0,
             "ticks": ""
            },
            "colorscale": [
             [
              0,
              "#0d0887"
             ],
             [
              0.1111111111111111,
              "#46039f"
             ],
             [
              0.2222222222222222,
              "#7201a8"
             ],
             [
              0.3333333333333333,
              "#9c179e"
             ],
             [
              0.4444444444444444,
              "#bd3786"
             ],
             [
              0.5555555555555556,
              "#d8576b"
             ],
             [
              0.6666666666666666,
              "#ed7953"
             ],
             [
              0.7777777777777778,
              "#fb9f3a"
             ],
             [
              0.8888888888888888,
              "#fdca26"
             ],
             [
              1,
              "#f0f921"
             ]
            ],
            "type": "histogram2dcontour"
           }
          ],
          "mesh3d": [
           {
            "colorbar": {
             "outlinewidth": 0,
             "ticks": ""
            },
            "type": "mesh3d"
           }
          ],
          "parcoords": [
           {
            "line": {
             "colorbar": {
              "outlinewidth": 0,
              "ticks": ""
             }
            },
            "type": "parcoords"
           }
          ],
          "pie": [
           {
            "automargin": true,
            "type": "pie"
           }
          ],
          "scatter": [
           {
            "fillpattern": {
             "fillmode": "overlay",
             "size": 10,
             "solidity": 0.2
            },
            "type": "scatter"
           }
          ],
          "scatter3d": [
           {
            "line": {
             "colorbar": {
              "outlinewidth": 0,
              "ticks": ""
             }
            },
            "marker": {
             "colorbar": {
              "outlinewidth": 0,
              "ticks": ""
             }
            },
            "type": "scatter3d"
           }
          ],
          "scattercarpet": [
           {
            "marker": {
             "colorbar": {
              "outlinewidth": 0,
              "ticks": ""
             }
            },
            "type": "scattercarpet"
           }
          ],
          "scattergeo": [
           {
            "marker": {
             "colorbar": {
              "outlinewidth": 0,
              "ticks": ""
             }
            },
            "type": "scattergeo"
           }
          ],
          "scattergl": [
           {
            "marker": {
             "colorbar": {
              "outlinewidth": 0,
              "ticks": ""
             }
            },
            "type": "scattergl"
           }
          ],
          "scattermapbox": [
           {
            "marker": {
             "colorbar": {
              "outlinewidth": 0,
              "ticks": ""
             }
            },
            "type": "scattermapbox"
           }
          ],
          "scatterpolar": [
           {
            "marker": {
             "colorbar": {
              "outlinewidth": 0,
              "ticks": ""
             }
            },
            "type": "scatterpolar"
           }
          ],
          "scatterpolargl": [
           {
            "marker": {
             "colorbar": {
              "outlinewidth": 0,
              "ticks": ""
             }
            },
            "type": "scatterpolargl"
           }
          ],
          "scatterternary": [
           {
            "marker": {
             "colorbar": {
              "outlinewidth": 0,
              "ticks": ""
             }
            },
            "type": "scatterternary"
           }
          ],
          "surface": [
           {
            "colorbar": {
             "outlinewidth": 0,
             "ticks": ""
            },
            "colorscale": [
             [
              0,
              "#0d0887"
             ],
             [
              0.1111111111111111,
              "#46039f"
             ],
             [
              0.2222222222222222,
              "#7201a8"
             ],
             [
              0.3333333333333333,
              "#9c179e"
             ],
             [
              0.4444444444444444,
              "#bd3786"
             ],
             [
              0.5555555555555556,
              "#d8576b"
             ],
             [
              0.6666666666666666,
              "#ed7953"
             ],
             [
              0.7777777777777778,
              "#fb9f3a"
             ],
             [
              0.8888888888888888,
              "#fdca26"
             ],
             [
              1,
              "#f0f921"
             ]
            ],
            "type": "surface"
           }
          ],
          "table": [
           {
            "cells": {
             "fill": {
              "color": "#EBF0F8"
             },
             "line": {
              "color": "white"
             }
            },
            "header": {
             "fill": {
              "color": "#C8D4E3"
             },
             "line": {
              "color": "white"
             }
            },
            "type": "table"
           }
          ]
         },
         "layout": {
          "annotationdefaults": {
           "arrowcolor": "#2a3f5f",
           "arrowhead": 0,
           "arrowwidth": 1
          },
          "autotypenumbers": "strict",
          "coloraxis": {
           "colorbar": {
            "outlinewidth": 0,
            "ticks": ""
           }
          },
          "colorscale": {
           "diverging": [
            [
             0,
             "#8e0152"
            ],
            [
             0.1,
             "#c51b7d"
            ],
            [
             0.2,
             "#de77ae"
            ],
            [
             0.3,
             "#f1b6da"
            ],
            [
             0.4,
             "#fde0ef"
            ],
            [
             0.5,
             "#f7f7f7"
            ],
            [
             0.6,
             "#e6f5d0"
            ],
            [
             0.7,
             "#b8e186"
            ],
            [
             0.8,
             "#7fbc41"
            ],
            [
             0.9,
             "#4d9221"
            ],
            [
             1,
             "#276419"
            ]
           ],
           "sequential": [
            [
             0,
             "#0d0887"
            ],
            [
             0.1111111111111111,
             "#46039f"
            ],
            [
             0.2222222222222222,
             "#7201a8"
            ],
            [
             0.3333333333333333,
             "#9c179e"
            ],
            [
             0.4444444444444444,
             "#bd3786"
            ],
            [
             0.5555555555555556,
             "#d8576b"
            ],
            [
             0.6666666666666666,
             "#ed7953"
            ],
            [
             0.7777777777777778,
             "#fb9f3a"
            ],
            [
             0.8888888888888888,
             "#fdca26"
            ],
            [
             1,
             "#f0f921"
            ]
           ],
           "sequentialminus": [
            [
             0,
             "#0d0887"
            ],
            [
             0.1111111111111111,
             "#46039f"
            ],
            [
             0.2222222222222222,
             "#7201a8"
            ],
            [
             0.3333333333333333,
             "#9c179e"
            ],
            [
             0.4444444444444444,
             "#bd3786"
            ],
            [
             0.5555555555555556,
             "#d8576b"
            ],
            [
             0.6666666666666666,
             "#ed7953"
            ],
            [
             0.7777777777777778,
             "#fb9f3a"
            ],
            [
             0.8888888888888888,
             "#fdca26"
            ],
            [
             1,
             "#f0f921"
            ]
           ]
          },
          "colorway": [
           "#636efa",
           "#EF553B",
           "#00cc96",
           "#ab63fa",
           "#FFA15A",
           "#19d3f3",
           "#FF6692",
           "#B6E880",
           "#FF97FF",
           "#FECB52"
          ],
          "font": {
           "color": "#2a3f5f"
          },
          "geo": {
           "bgcolor": "white",
           "lakecolor": "white",
           "landcolor": "#E5ECF6",
           "showlakes": true,
           "showland": true,
           "subunitcolor": "white"
          },
          "hoverlabel": {
           "align": "left"
          },
          "hovermode": "closest",
          "mapbox": {
           "style": "light"
          },
          "paper_bgcolor": "white",
          "plot_bgcolor": "#E5ECF6",
          "polar": {
           "angularaxis": {
            "gridcolor": "white",
            "linecolor": "white",
            "ticks": ""
           },
           "bgcolor": "#E5ECF6",
           "radialaxis": {
            "gridcolor": "white",
            "linecolor": "white",
            "ticks": ""
           }
          },
          "scene": {
           "xaxis": {
            "backgroundcolor": "#E5ECF6",
            "gridcolor": "white",
            "gridwidth": 2,
            "linecolor": "white",
            "showbackground": true,
            "ticks": "",
            "zerolinecolor": "white"
           },
           "yaxis": {
            "backgroundcolor": "#E5ECF6",
            "gridcolor": "white",
            "gridwidth": 2,
            "linecolor": "white",
            "showbackground": true,
            "ticks": "",
            "zerolinecolor": "white"
           },
           "zaxis": {
            "backgroundcolor": "#E5ECF6",
            "gridcolor": "white",
            "gridwidth": 2,
            "linecolor": "white",
            "showbackground": true,
            "ticks": "",
            "zerolinecolor": "white"
           }
          },
          "shapedefaults": {
           "line": {
            "color": "#2a3f5f"
           }
          },
          "ternary": {
           "aaxis": {
            "gridcolor": "white",
            "linecolor": "white",
            "ticks": ""
           },
           "baxis": {
            "gridcolor": "white",
            "linecolor": "white",
            "ticks": ""
           },
           "bgcolor": "#E5ECF6",
           "caxis": {
            "gridcolor": "white",
            "linecolor": "white",
            "ticks": ""
           }
          },
          "title": {
           "x": 0.05
          },
          "xaxis": {
           "automargin": true,
           "gridcolor": "white",
           "linecolor": "white",
           "ticks": "",
           "title": {
            "standoff": 15
           },
           "zerolinecolor": "white",
           "zerolinewidth": 2
          },
          "yaxis": {
           "automargin": true,
           "gridcolor": "white",
           "linecolor": "white",
           "ticks": "",
           "title": {
            "standoff": 15
           },
           "zerolinecolor": "white",
           "zerolinewidth": 2
          }
         }
        },
        "width": 700,
        "xaxis": {
         "anchor": "y",
         "constrain": "domain",
         "domain": [
          0,
          1
         ],
         "scaleanchor": "y",
         "side": "top",
         "title": {
          "text": "Prediction"
         }
        },
        "yaxis": {
         "anchor": "x",
         "autorange": "reversed",
         "constrain": "domain",
         "domain": [
          0,
          1
         ],
         "title": {
          "text": "Class"
         }
        }
       }
      }
     },
     "metadata": {},
     "output_type": "display_data"
    }
   ],
   "source": [
    "fig = px.imshow(c_mat,\n",
    "                labels=dict(x=\"Prediction\", y=\"Class\"),\n",
    "                x=available_classes_r,\n",
    "                y=available_classes_r,\n",
    "                text_auto=True, \n",
    "            #    aspect=\"auto\",\n",
    "                color_continuous_scale=px.colors.sequential.Burg,\n",
    "                width=700,\n",
    "                height=700,\n",
    "               )\n",
    "fig.update_xaxes(side=\"top\")\n",
    "\n",
    "# fig['layout']['xaxis']['autorange'] = \"reversed\"\n",
    "\n",
    "fig.show()"
   ]
  },
  {
   "cell_type": "code",
   "execution_count": 14,
   "metadata": {},
   "outputs": [
    {
     "data": {
      "text/plain": [
       "{'sett': {'precision': 0.0, 'recall': 0.0, 'f1-score': 0.0, 'support': 500.0},\n",
       " 'paving_stones': {'precision': 0.5442739079102715,\n",
       "  'recall': 0.922,\n",
       "  'f1-score': 0.6844840386043058,\n",
       "  'support': 500.0},\n",
       " 'ground': {'precision': 0.4384920634920635,\n",
       "  'recall': 0.884,\n",
       "  'f1-score': 0.5862068965517241,\n",
       "  'support': 500.0},\n",
       " 'gravel': {'precision': 0.7783687943262412,\n",
       "  'recall': 0.878,\n",
       "  'f1-score': 0.825187969924812,\n",
       "  'support': 500.0},\n",
       " 'grass': {'precision': 0.939047619047619,\n",
       "  'recall': 0.986,\n",
       "  'f1-score': 0.9619512195121951,\n",
       "  'support': 500.0},\n",
       " 'concrete_plates': {'precision': 0.6164383561643836,\n",
       "  'recall': 0.09,\n",
       "  'f1-score': 0.15706806282722513,\n",
       "  'support': 500.0},\n",
       " 'concrete': {'precision': 0.5218023255813954,\n",
       "  'recall': 0.718,\n",
       "  'f1-score': 0.6043771043771043,\n",
       "  'support': 500.0},\n",
       " 'compacted': {'precision': 0.0,\n",
       "  'recall': 0.0,\n",
       "  'f1-score': 0.0,\n",
       "  'support': 500.0},\n",
       " 'cobblestone': {'precision': 0.5090470446320868,\n",
       "  'recall': 0.844,\n",
       "  'f1-score': 0.6350639578630549,\n",
       "  'support': 500.0},\n",
       " 'asphalt': {'precision': 0.713963963963964,\n",
       "  'recall': 0.634,\n",
       "  'f1-score': 0.6716101694915254,\n",
       "  'support': 500.0},\n",
       " 'accuracy': 0.5956,\n",
       " 'macro avg': {'precision': 0.5061434075118025,\n",
       "  'recall': 0.5956,\n",
       "  'f1-score': 0.5125949419151947,\n",
       "  'support': 5000.0},\n",
       " 'weighted avg': {'precision': 0.5061434075118024,\n",
       "  'recall': 0.5956,\n",
       "  'f1-score': 0.5125949419151947,\n",
       "  'support': 5000.0}}"
      ]
     },
     "execution_count": 14,
     "metadata": {},
     "output_type": "execute_result"
    }
   ],
   "source": [
    "classification_report(\n",
    "    true_labels,\n",
    "    predicted_labels,\n",
    "    labels=available_classes_r,\n",
    "    output_dict=True\n",
    ")"
   ]
  },
  {
   "cell_type": "code",
   "execution_count": 15,
   "metadata": {},
   "outputs": [],
   "source": [
    "n_rows = int(ceil(len(available_models)/2))"
   ]
  },
  {
   "cell_type": "code",
   "execution_count": 16,
   "metadata": {},
   "outputs": [],
   "source": [
    "modelwise_confusion_matrices = {}\n",
    "\n",
    "for model in modelwise_dfs:\n",
    "    true_labels =      modelwise_dfs[model][class_label]#.tolist()\n",
    "    predicted_labels = modelwise_dfs[model][prediction_label]#.tolist()\n",
    "\n",
    "    modelwise_confusion_matrices[model] = confusion_matrix(\n",
    "        true_labels,\n",
    "        predicted_labels,\n",
    "        labels=available_classes,\n",
    "        normalize='true'\n",
    "        ) *  100\n",
    "    modelwise_confusion_matrices[model] = modelwise_confusion_matrices[model].round(3)"
   ]
  },
  {
   "cell_type": "code",
   "execution_count": 17,
   "metadata": {},
   "outputs": [
    {
     "data": {
      "text/plain": [
       "{'EVA02-E-14-plus': array([[58.6,  4.2,  0. , 23.4,  0.8,  3.8,  2.6,  4.8,  0. ,  1.8],\n",
       "        [ 0.6, 72.2,  0. ,  0. ,  0.2,  0. , 15.4,  1.6, 10. ,  0. ],\n",
       "        [ 6. ,  0.4,  7. , 48.6,  0.4,  0.6,  7. , 29.6,  0.2,  0.2],\n",
       "        [13. ,  0.2,  0.4, 65.8,  0.8,  6.4,  6.8,  6.2,  0. ,  0.4],\n",
       "        [16. , 15.8,  0. , 28.2,  2.6,  4.8,  0. , 19.2, 13.4,  0. ],\n",
       "        [ 0.4,  0. ,  0. ,  0.4,  0. , 98.4,  0. ,  0.8,  0. ,  0. ],\n",
       "        [ 4.6,  0. ,  0.2,  0. ,  0. ,  0. , 91.6,  3.4,  0. ,  0.2],\n",
       "        [ 2.6,  1.4, 27.6,  0.2,  0. ,  0.4, 19.6, 45.6,  0.2,  2.4],\n",
       "        [ 5.8,  9.8,  0. ,  0.6,  0. ,  0.4,  0.4,  2.8, 80.2,  0. ],\n",
       "        [ 1.6, 61.6,  0. ,  0.8,  0. ,  0.6,  1.4,  4.6, 29.4,  0. ]]),\n",
       " 'RN101': array([[26. ,  0. , 11.6,  0. , 29.8,  1.2, 12.4, 10.4,  4.6,  4. ],\n",
       "        [ 0.6, 62. ,  1.4,  0. ,  0.4,  0.4, 17.4,  0.6, 17.2,  0. ],\n",
       "        [ 6.6,  3.2, 14. ,  0.2, 24.2,  0. , 14.2, 21.4, 15.8,  0.4],\n",
       "        [ 2. ,  0.6, 21. ,  0.6, 47.2,  2. ,  5.8,  3.6, 17. ,  0.2],\n",
       "        [ 3.6, 11.8, 17.2,  0.4, 31.6,  1. ,  1.8,  3.8, 28.8,  0. ],\n",
       "        [ 0. ,  0. ,  1. ,  0. ,  0.8, 84.4,  1.2, 12.4,  0.2,  0. ],\n",
       "        [ 2.4, 13.4,  1. ,  0. , 11.4,  0. , 35.8,  0. , 36. ,  0. ],\n",
       "        [ 0.6,  1. , 42.6,  0. ,  2. ,  0.6,  8.6, 37.2,  7.2,  0.2],\n",
       "        [ 1.2,  9. ,  2.6,  0.2,  2.8,  0. ,  0.6,  0.8, 82.8,  0. ],\n",
       "        [ 1.6, 52.6,  1.8,  0. ,  2.8,  0.6,  2.6,  1.2, 36.6,  0.2]]),\n",
       " 'RN50x64': array([[ 5.4, 17. ,  0. , 23. ,  0.2,  8.4, 39. ,  1.2,  0.4,  5.4],\n",
       "        [ 0.4, 55.6,  0. ,  6.8,  0.4,  0.4, 34. ,  0.6,  1.8,  0. ],\n",
       "        [ 0. ,  3. ,  0. , 33.8,  0. ,  1.2, 53.4,  7. ,  0. ,  1.6],\n",
       "        [ 0. ,  9.2,  0. , 36.8,  0. ,  4.4, 22.8,  0.8,  7.4, 18.6],\n",
       "        [ 1. , 27.6,  0. , 12.8,  0. ,  3.2, 33.2,  5.6, 16.4,  0.2],\n",
       "        [ 0. ,  0.8,  0. ,  0. ,  0. , 88.6,  0.2,  9.4,  0.8,  0.2],\n",
       "        [ 1. ,  3.2,  0. ,  3.4,  0. ,  0. , 76.4,  4.4, 11.6,  0. ],\n",
       "        [ 0.6,  5.4,  0. ,  7.8,  0. ,  5.6, 69.4,  7.2,  2.2,  1.8],\n",
       "        [ 2. , 19. ,  0. , 15.2,  0. ,  0.2,  3.6,  1. , 59. ,  0. ],\n",
       "        [ 0.6, 65.8,  0. ,  2.8,  0. ,  1.4, 13.4,  2.2, 13.8,  0. ]]),\n",
       " 'ViT-bigG-14-CLIPA-336': array([[69.6,  0.4,  0.4, 22. ,  0.2,  0. ,  0. ,  7. ,  0. ,  0.4],\n",
       "        [ 0.6, 86.4,  0. ,  0.2,  0. ,  0. ,  4.6,  2.2,  6. ,  0. ],\n",
       "        [ 6.8,  0.8,  0. , 43.6,  0. ,  0. ,  2.6, 45.6,  0. ,  0.6],\n",
       "        [ 6.8,  5.2,  0.6, 71.2,  1. ,  0.4,  1. , 13.2,  0.4,  0.2],\n",
       "        [12.2,  7. ,  0. ,  6.6,  1.6,  0.2,  0.2, 16.8, 55.4,  0. ],\n",
       "        [ 0.8,  0.2,  0. ,  0. ,  0. , 89.8,  0. ,  9.2,  0. ,  0. ],\n",
       "        [11.4,  1.6,  0. ,  0.2,  0. ,  0. , 80. ,  6.8,  0. ,  0. ],\n",
       "        [26. ,  2.4,  1. ,  0.4,  0. ,  0. ,  2. , 67.8,  0.4,  0. ],\n",
       "        [ 1. ,  3.2,  0. ,  0. ,  0.2,  0. ,  0. ,  1.6, 94. ,  0. ],\n",
       "        [ 0.6, 57.4,  0. ,  1.2,  0. ,  0. ,  0. ,  2.8, 38. ,  0. ]]),\n",
       " 'ViT-B_32': array([[16.2,  0.6,  0.6,  0. ,  8. ,  1.8, 67.2,  1.6,  3.8,  0.2],\n",
       "        [ 0. ,  7.2,  0. ,  0. ,  5.2,  0. , 29.4,  0. , 57.8,  0.4],\n",
       "        [ 0.4,  0.2,  0. ,  0. , 18.4,  0. , 65. ,  1.8, 14.2,  0. ],\n",
       "        [ 1.6,  0. ,  2.6,  0.2, 28.8,  0.4, 62.6,  0. ,  3.8,  0. ],\n",
       "        [ 0.8,  0.6,  0. ,  0. , 12.6,  1.2, 41.2,  0. , 43.6,  0. ],\n",
       "        [ 0. ,  0. ,  0. ,  0. ,  0. , 97.4,  1.6,  1. ,  0. ,  0. ],\n",
       "        [ 0.6,  0.4,  2. ,  0. , 20.8,  0. , 39.2,  0.2, 36.8,  0. ],\n",
       "        [ 0.4,  0.4,  5.2,  0. ,  6.6,  0. , 81.2,  2. ,  4. ,  0.2],\n",
       "        [ 1.4,  3.4,  0. ,  0. ,  7. ,  0. ,  6.2,  0. , 82. ,  0. ],\n",
       "        [ 0. , 11.2,  0.2,  0. ,  3.2,  0. , 12.8,  0. , 72.6,  0. ]]),\n",
       " 'ViT-H-14-378-quickgelu': array([[46.6,  0. ,  1.2,  4.8, 19.8,  2.2,  0.2, 24.4,  0. ,  0.8],\n",
       "        [ 1. , 82.4,  0.2,  0. ,  0.8,  0. ,  3.2,  9.8,  1.8,  0.8],\n",
       "        [ 2.8,  0. ,  0. ,  7.8,  7.4,  0. ,  0. , 81.6,  0. ,  0.4],\n",
       "        [ 7.6,  0.2,  0.2, 25.6, 39.2,  0. ,  0.2, 24.2,  0.2,  2.6],\n",
       "        [ 3. ,  0. ,  0.2,  0.4, 38.2,  0.2,  0. , 14. , 27.6, 16.4],\n",
       "        [ 0. ,  0. ,  0.2,  0. ,  0.2, 96.8,  0. ,  2.8,  0. ,  0. ],\n",
       "        [ 4.6,  1.8,  0. ,  0. ,  0.2,  0. , 72. , 19.2,  0.2,  2. ],\n",
       "        [ 0.2,  0. ,  9.4,  0. ,  0.4,  0. ,  0. , 90. ,  0. ,  0. ],\n",
       "        [ 0.2,  0.4,  0. ,  0. ,  1.4,  0. ,  0. ,  1.4, 48.6, 48. ],\n",
       "        [ 0.6, 22.2,  0. ,  0. ,  1.8,  0. ,  0. , 11. , 26. , 38.4]]),\n",
       " 'ViT-L_14': array([[26. ,  9.4,  0. ,  5. ,  1.2,  4.8,  9.6, 41.8,  1.4,  0.8],\n",
       "        [ 0.8, 20.4,  0. ,  0.2,  0.4,  0.8, 13.6,  6. , 57.8,  0. ],\n",
       "        [ 1.8,  0.6,  0. ,  5.8,  0.6,  0.8, 13.8, 71.6,  4.4,  0.6],\n",
       "        [ 2. ,  1.4,  0.6, 25. , 14.8,  2.8,  3.4, 37. ,  9.8,  3.2],\n",
       "        [ 0.6, 15. ,  0. ,  1.4,  0.4,  3.6,  0.6, 38.2, 40. ,  0.2],\n",
       "        [ 0. ,  0. ,  0. ,  0. ,  0. , 92.6,  0. ,  7.4,  0. ,  0. ],\n",
       "        [ 1.6,  1.2,  0.4,  5.8,  0. ,  0. , 80.8,  8.2,  2. ,  0. ],\n",
       "        [ 1.4,  1.2,  0. ,  0.2,  0.2,  0.8,  6.2, 89. ,  1. ,  0. ],\n",
       "        [ 0.2, 13. ,  0. ,  0. ,  0.2,  0.2,  0.6,  2.2, 83.6,  0. ],\n",
       "        [ 0. , 43. ,  0. ,  0. ,  0.6,  0.8,  1. ,  9.8, 44.8,  0. ]]),\n",
       " 'ViT-SO400M-14-SigLIP-384': array([[48.8,  3.2,  0. , 37.8,  0. ,  5.8,  0. ,  4.4,  0. ,  0. ],\n",
       "        [ 1.6, 89.4,  0.6,  0.4,  0. ,  0. ,  6.8,  1.2,  0. ,  0. ],\n",
       "        [ 7. , 10.4,  3.8, 62. ,  0. ,  0.6,  0.2, 16. ,  0. ,  0. ],\n",
       "        [ 3.8,  3.6,  3. , 83.8,  0. ,  3.4,  0. ,  2.4,  0. ,  0. ],\n",
       "        [13.2, 33.8,  5.8, 20.4,  0.8,  4.6,  0. , 10.8, 10.6,  0. ],\n",
       "        [ 0. ,  0. ,  0. ,  0. ,  0. , 99. ,  0. ,  1. ,  0. ,  0. ],\n",
       "        [ 6.4,  9.8,  2. ,  1.8,  0. ,  0.2, 71.2,  8.6,  0. ,  0. ],\n",
       "        [ 0.4,  3. , 56. ,  6.6,  0. ,  2.4,  0.2, 31.2,  0.2,  0. ],\n",
       "        [ 6.8, 27.6,  2.4,  2.4,  0.8,  0.6,  0. ,  1. , 58.4,  0. ],\n",
       "        [ 2.6, 76.2,  1. ,  2.4,  0. ,  0.8,  0.2,  4.6, 12.2,  0. ]])}"
      ]
     },
     "execution_count": 17,
     "metadata": {},
     "output_type": "execute_result"
    }
   ],
   "source": [
    "modelwise_confusion_matrices"
   ]
  },
  {
   "cell_type": "code",
   "execution_count": 18,
   "metadata": {},
   "outputs": [
    {
     "data": {
      "application/vnd.plotly.v1+json": {
       "config": {
        "plotlyServerURL": "https://plot.ly"
       },
       "data": [
        {
         "coloraxis": "coloraxis",
         "hovertemplate": "x: %{x}<br>y: %{y}<br>color: %{z}<extra></extra>",
         "name": "0",
         "texttemplate": "%{z}",
         "type": "heatmap",
         "x": [
          "asphalt",
          "cobblestone",
          "compacted",
          "concrete",
          "concrete_plates",
          "grass",
          "gravel",
          "ground",
          "paving_stones",
          "sett"
         ],
         "xaxis": "x",
         "y": [
          "asphalt",
          "cobblestone",
          "compacted",
          "concrete",
          "concrete_plates",
          "grass",
          "gravel",
          "ground",
          "paving_stones",
          "sett"
         ],
         "yaxis": "y",
         "z": [
          [
           58.6,
           4.2,
           0,
           23.4,
           0.8,
           3.8,
           2.6,
           4.8,
           0,
           1.8
          ],
          [
           0.6,
           72.2,
           0,
           0,
           0.2,
           0,
           15.4,
           1.6,
           10,
           0
          ],
          [
           6,
           0.4,
           7,
           48.6,
           0.4,
           0.6,
           7,
           29.6,
           0.2,
           0.2
          ],
          [
           13,
           0.2,
           0.4,
           65.8,
           0.8,
           6.4,
           6.8,
           6.2,
           0,
           0.4
          ],
          [
           16,
           15.8,
           0,
           28.2,
           2.6,
           4.8,
           0,
           19.2,
           13.4,
           0
          ],
          [
           0.4,
           0,
           0,
           0.4,
           0,
           98.4,
           0,
           0.8,
           0,
           0
          ],
          [
           4.6,
           0,
           0.2,
           0,
           0,
           0,
           91.6,
           3.4,
           0,
           0.2
          ],
          [
           2.6,
           1.4,
           27.6,
           0.2,
           0,
           0.4,
           19.6,
           45.6,
           0.2,
           2.4
          ],
          [
           5.8,
           9.8,
           0,
           0.6,
           0,
           0.4,
           0.4,
           2.8,
           80.2,
           0
          ],
          [
           1.6,
           61.6,
           0,
           0.8,
           0,
           0.6,
           1.4,
           4.6,
           29.4,
           0
          ]
         ]
        },
        {
         "coloraxis": "coloraxis",
         "hovertemplate": "x: %{x}<br>y: %{y}<br>color: %{z}<extra></extra>",
         "name": "0",
         "texttemplate": "%{z}",
         "type": "heatmap",
         "x": [
          "asphalt",
          "cobblestone",
          "compacted",
          "concrete",
          "concrete_plates",
          "grass",
          "gravel",
          "ground",
          "paving_stones",
          "sett"
         ],
         "xaxis": "x2",
         "y": [
          "asphalt",
          "cobblestone",
          "compacted",
          "concrete",
          "concrete_plates",
          "grass",
          "gravel",
          "ground",
          "paving_stones",
          "sett"
         ],
         "yaxis": "y2",
         "z": [
          [
           26,
           0,
           11.6,
           0,
           29.8,
           1.2,
           12.4,
           10.4,
           4.6,
           4
          ],
          [
           0.6,
           62,
           1.4,
           0,
           0.4,
           0.4,
           17.4,
           0.6,
           17.2,
           0
          ],
          [
           6.6,
           3.2,
           14,
           0.2,
           24.2,
           0,
           14.2,
           21.4,
           15.8,
           0.4
          ],
          [
           2,
           0.6,
           21,
           0.6,
           47.2,
           2,
           5.8,
           3.6,
           17,
           0.2
          ],
          [
           3.6,
           11.8,
           17.2,
           0.4,
           31.6,
           1,
           1.8,
           3.8,
           28.8,
           0
          ],
          [
           0,
           0,
           1,
           0,
           0.8,
           84.4,
           1.2,
           12.4,
           0.2,
           0
          ],
          [
           2.4,
           13.4,
           1,
           0,
           11.4,
           0,
           35.8,
           0,
           36,
           0
          ],
          [
           0.6,
           1,
           42.6,
           0,
           2,
           0.6,
           8.6,
           37.2,
           7.2,
           0.2
          ],
          [
           1.2,
           9,
           2.6,
           0.2,
           2.8,
           0,
           0.6,
           0.8,
           82.8,
           0
          ],
          [
           1.6,
           52.6,
           1.8,
           0,
           2.8,
           0.6,
           2.6,
           1.2,
           36.6,
           0.2
          ]
         ]
        },
        {
         "coloraxis": "coloraxis",
         "hovertemplate": "x: %{x}<br>y: %{y}<br>color: %{z}<extra></extra>",
         "name": "0",
         "texttemplate": "%{z}",
         "type": "heatmap",
         "x": [
          "asphalt",
          "cobblestone",
          "compacted",
          "concrete",
          "concrete_plates",
          "grass",
          "gravel",
          "ground",
          "paving_stones",
          "sett"
         ],
         "xaxis": "x3",
         "y": [
          "asphalt",
          "cobblestone",
          "compacted",
          "concrete",
          "concrete_plates",
          "grass",
          "gravel",
          "ground",
          "paving_stones",
          "sett"
         ],
         "yaxis": "y3",
         "z": [
          [
           5.4,
           17,
           0,
           23,
           0.2,
           8.4,
           39,
           1.2,
           0.4,
           5.4
          ],
          [
           0.4,
           55.6,
           0,
           6.8,
           0.4,
           0.4,
           34,
           0.6,
           1.8,
           0
          ],
          [
           0,
           3,
           0,
           33.8,
           0,
           1.2,
           53.4,
           7,
           0,
           1.6
          ],
          [
           0,
           9.2,
           0,
           36.8,
           0,
           4.4,
           22.8,
           0.8,
           7.4,
           18.6
          ],
          [
           1,
           27.6,
           0,
           12.8,
           0,
           3.2,
           33.2,
           5.6,
           16.4,
           0.2
          ],
          [
           0,
           0.8,
           0,
           0,
           0,
           88.6,
           0.2,
           9.4,
           0.8,
           0.2
          ],
          [
           1,
           3.2,
           0,
           3.4,
           0,
           0,
           76.4,
           4.4,
           11.6,
           0
          ],
          [
           0.6,
           5.4,
           0,
           7.8,
           0,
           5.6,
           69.4,
           7.2,
           2.2,
           1.8
          ],
          [
           2,
           19,
           0,
           15.2,
           0,
           0.2,
           3.6,
           1,
           59,
           0
          ],
          [
           0.6,
           65.8,
           0,
           2.8,
           0,
           1.4,
           13.4,
           2.2,
           13.8,
           0
          ]
         ]
        },
        {
         "coloraxis": "coloraxis",
         "hovertemplate": "x: %{x}<br>y: %{y}<br>color: %{z}<extra></extra>",
         "name": "0",
         "texttemplate": "%{z}",
         "type": "heatmap",
         "x": [
          "asphalt",
          "cobblestone",
          "compacted",
          "concrete",
          "concrete_plates",
          "grass",
          "gravel",
          "ground",
          "paving_stones",
          "sett"
         ],
         "xaxis": "x4",
         "y": [
          "asphalt",
          "cobblestone",
          "compacted",
          "concrete",
          "concrete_plates",
          "grass",
          "gravel",
          "ground",
          "paving_stones",
          "sett"
         ],
         "yaxis": "y4",
         "z": [
          [
           69.6,
           0.4,
           0.4,
           22,
           0.2,
           0,
           0,
           7,
           0,
           0.4
          ],
          [
           0.6,
           86.4,
           0,
           0.2,
           0,
           0,
           4.6,
           2.2,
           6,
           0
          ],
          [
           6.8,
           0.8,
           0,
           43.6,
           0,
           0,
           2.6,
           45.6,
           0,
           0.6
          ],
          [
           6.8,
           5.2,
           0.6,
           71.2,
           1,
           0.4,
           1,
           13.2,
           0.4,
           0.2
          ],
          [
           12.2,
           7,
           0,
           6.6,
           1.6,
           0.2,
           0.2,
           16.8,
           55.4,
           0
          ],
          [
           0.8,
           0.2,
           0,
           0,
           0,
           89.8,
           0,
           9.2,
           0,
           0
          ],
          [
           11.4,
           1.6,
           0,
           0.2,
           0,
           0,
           80,
           6.8,
           0,
           0
          ],
          [
           26,
           2.4,
           1,
           0.4,
           0,
           0,
           2,
           67.8,
           0.4,
           0
          ],
          [
           1,
           3.2,
           0,
           0,
           0.2,
           0,
           0,
           1.6,
           94,
           0
          ],
          [
           0.6,
           57.4,
           0,
           1.2,
           0,
           0,
           0,
           2.8,
           38,
           0
          ]
         ]
        },
        {
         "coloraxis": "coloraxis",
         "hovertemplate": "x: %{x}<br>y: %{y}<br>color: %{z}<extra></extra>",
         "name": "0",
         "texttemplate": "%{z}",
         "type": "heatmap",
         "x": [
          "asphalt",
          "cobblestone",
          "compacted",
          "concrete",
          "concrete_plates",
          "grass",
          "gravel",
          "ground",
          "paving_stones",
          "sett"
         ],
         "xaxis": "x5",
         "y": [
          "asphalt",
          "cobblestone",
          "compacted",
          "concrete",
          "concrete_plates",
          "grass",
          "gravel",
          "ground",
          "paving_stones",
          "sett"
         ],
         "yaxis": "y5",
         "z": [
          [
           16.2,
           0.6,
           0.6,
           0,
           8,
           1.8,
           67.2,
           1.6,
           3.8,
           0.2
          ],
          [
           0,
           7.2,
           0,
           0,
           5.2,
           0,
           29.4,
           0,
           57.8,
           0.4
          ],
          [
           0.4,
           0.2,
           0,
           0,
           18.4,
           0,
           65,
           1.8,
           14.2,
           0
          ],
          [
           1.6,
           0,
           2.6,
           0.2,
           28.8,
           0.4,
           62.6,
           0,
           3.8,
           0
          ],
          [
           0.8,
           0.6,
           0,
           0,
           12.6,
           1.2,
           41.2,
           0,
           43.6,
           0
          ],
          [
           0,
           0,
           0,
           0,
           0,
           97.4,
           1.6,
           1,
           0,
           0
          ],
          [
           0.6,
           0.4,
           2,
           0,
           20.8,
           0,
           39.2,
           0.2,
           36.8,
           0
          ],
          [
           0.4,
           0.4,
           5.2,
           0,
           6.6,
           0,
           81.2,
           2,
           4,
           0.2
          ],
          [
           1.4,
           3.4,
           0,
           0,
           7,
           0,
           6.2,
           0,
           82,
           0
          ],
          [
           0,
           11.2,
           0.2,
           0,
           3.2,
           0,
           12.8,
           0,
           72.6,
           0
          ]
         ]
        },
        {
         "coloraxis": "coloraxis",
         "hovertemplate": "x: %{x}<br>y: %{y}<br>color: %{z}<extra></extra>",
         "name": "0",
         "texttemplate": "%{z}",
         "type": "heatmap",
         "x": [
          "asphalt",
          "cobblestone",
          "compacted",
          "concrete",
          "concrete_plates",
          "grass",
          "gravel",
          "ground",
          "paving_stones",
          "sett"
         ],
         "xaxis": "x6",
         "y": [
          "asphalt",
          "cobblestone",
          "compacted",
          "concrete",
          "concrete_plates",
          "grass",
          "gravel",
          "ground",
          "paving_stones",
          "sett"
         ],
         "yaxis": "y6",
         "z": [
          [
           46.6,
           0,
           1.2,
           4.8,
           19.8,
           2.2,
           0.2,
           24.4,
           0,
           0.8
          ],
          [
           1,
           82.4,
           0.2,
           0,
           0.8,
           0,
           3.2,
           9.8,
           1.8,
           0.8
          ],
          [
           2.8,
           0,
           0,
           7.8,
           7.4,
           0,
           0,
           81.6,
           0,
           0.4
          ],
          [
           7.6,
           0.2,
           0.2,
           25.6,
           39.2,
           0,
           0.2,
           24.2,
           0.2,
           2.6
          ],
          [
           3,
           0,
           0.2,
           0.4,
           38.2,
           0.2,
           0,
           14,
           27.6,
           16.4
          ],
          [
           0,
           0,
           0.2,
           0,
           0.2,
           96.8,
           0,
           2.8,
           0,
           0
          ],
          [
           4.6,
           1.8,
           0,
           0,
           0.2,
           0,
           72,
           19.2,
           0.2,
           2
          ],
          [
           0.2,
           0,
           9.4,
           0,
           0.4,
           0,
           0,
           90,
           0,
           0
          ],
          [
           0.2,
           0.4,
           0,
           0,
           1.4,
           0,
           0,
           1.4,
           48.6,
           48
          ],
          [
           0.6,
           22.2,
           0,
           0,
           1.8,
           0,
           0,
           11,
           26,
           38.4
          ]
         ]
        },
        {
         "coloraxis": "coloraxis",
         "hovertemplate": "x: %{x}<br>y: %{y}<br>color: %{z}<extra></extra>",
         "name": "0",
         "texttemplate": "%{z}",
         "type": "heatmap",
         "x": [
          "asphalt",
          "cobblestone",
          "compacted",
          "concrete",
          "concrete_plates",
          "grass",
          "gravel",
          "ground",
          "paving_stones",
          "sett"
         ],
         "xaxis": "x7",
         "y": [
          "asphalt",
          "cobblestone",
          "compacted",
          "concrete",
          "concrete_plates",
          "grass",
          "gravel",
          "ground",
          "paving_stones",
          "sett"
         ],
         "yaxis": "y7",
         "z": [
          [
           26,
           9.4,
           0,
           5,
           1.2,
           4.8,
           9.6,
           41.8,
           1.4,
           0.8
          ],
          [
           0.8,
           20.4,
           0,
           0.2,
           0.4,
           0.8,
           13.6,
           6,
           57.8,
           0
          ],
          [
           1.8,
           0.6,
           0,
           5.8,
           0.6,
           0.8,
           13.8,
           71.6,
           4.4,
           0.6
          ],
          [
           2,
           1.4,
           0.6,
           25,
           14.8,
           2.8,
           3.4,
           37,
           9.8,
           3.2
          ],
          [
           0.6,
           15,
           0,
           1.4,
           0.4,
           3.6,
           0.6,
           38.2,
           40,
           0.2
          ],
          [
           0,
           0,
           0,
           0,
           0,
           92.6,
           0,
           7.4,
           0,
           0
          ],
          [
           1.6,
           1.2,
           0.4,
           5.8,
           0,
           0,
           80.8,
           8.2,
           2,
           0
          ],
          [
           1.4,
           1.2,
           0,
           0.2,
           0.2,
           0.8,
           6.2,
           89,
           1,
           0
          ],
          [
           0.2,
           13,
           0,
           0,
           0.2,
           0.2,
           0.6,
           2.2,
           83.6,
           0
          ],
          [
           0,
           43,
           0,
           0,
           0.6,
           0.8,
           1,
           9.8,
           44.8,
           0
          ]
         ]
        },
        {
         "coloraxis": "coloraxis",
         "hovertemplate": "x: %{x}<br>y: %{y}<br>color: %{z}<extra></extra>",
         "name": "0",
         "texttemplate": "%{z}",
         "type": "heatmap",
         "x": [
          "asphalt",
          "cobblestone",
          "compacted",
          "concrete",
          "concrete_plates",
          "grass",
          "gravel",
          "ground",
          "paving_stones",
          "sett"
         ],
         "xaxis": "x8",
         "y": [
          "asphalt",
          "cobblestone",
          "compacted",
          "concrete",
          "concrete_plates",
          "grass",
          "gravel",
          "ground",
          "paving_stones",
          "sett"
         ],
         "yaxis": "y8",
         "z": [
          [
           48.8,
           3.2,
           0,
           37.8,
           0,
           5.8,
           0,
           4.4,
           0,
           0
          ],
          [
           1.6,
           89.4,
           0.6,
           0.4,
           0,
           0,
           6.8,
           1.2,
           0,
           0
          ],
          [
           7,
           10.4,
           3.8,
           62,
           0,
           0.6,
           0.2,
           16,
           0,
           0
          ],
          [
           3.8,
           3.6,
           3,
           83.8,
           0,
           3.4,
           0,
           2.4,
           0,
           0
          ],
          [
           13.2,
           33.8,
           5.8,
           20.4,
           0.8,
           4.6,
           0,
           10.8,
           10.6,
           0
          ],
          [
           0,
           0,
           0,
           0,
           0,
           99,
           0,
           1,
           0,
           0
          ],
          [
           6.4,
           9.8,
           2,
           1.8,
           0,
           0.2,
           71.2,
           8.6,
           0,
           0
          ],
          [
           0.4,
           3,
           56,
           6.6,
           0,
           2.4,
           0.2,
           31.2,
           0.2,
           0
          ],
          [
           6.8,
           27.6,
           2.4,
           2.4,
           0.8,
           0.6,
           0,
           1,
           58.4,
           0
          ],
          [
           2.6,
           76.2,
           1,
           2.4,
           0,
           0.8,
           0.2,
           4.6,
           12.2,
           0
          ]
         ]
        }
       ],
       "layout": {
        "annotations": [
         {
          "font": {
           "size": 16
          },
          "showarrow": false,
          "text": "EVA02-E-14-plus",
          "x": 0.2475,
          "xanchor": "center",
          "xref": "paper",
          "y": 1,
          "yanchor": "bottom",
          "yref": "paper"
         },
         {
          "font": {
           "size": 16
          },
          "showarrow": false,
          "text": "RN101",
          "x": 0.7525,
          "xanchor": "center",
          "xref": "paper",
          "y": 1,
          "yanchor": "bottom",
          "yref": "paper"
         },
         {
          "font": {
           "size": 16
          },
          "showarrow": false,
          "text": "RN50x64",
          "x": 0.2475,
          "xanchor": "center",
          "xref": "paper",
          "y": 0.74625,
          "yanchor": "bottom",
          "yref": "paper"
         },
         {
          "font": {
           "size": 16
          },
          "showarrow": false,
          "text": "ViT-bigG-14-CLIPA-336",
          "x": 0.7525,
          "xanchor": "center",
          "xref": "paper",
          "y": 0.74625,
          "yanchor": "bottom",
          "yref": "paper"
         },
         {
          "font": {
           "size": 16
          },
          "showarrow": false,
          "text": "ViT-B_32",
          "x": 0.2475,
          "xanchor": "center",
          "xref": "paper",
          "y": 0.49249999999999994,
          "yanchor": "bottom",
          "yref": "paper"
         },
         {
          "font": {
           "size": 16
          },
          "showarrow": false,
          "text": "ViT-H-14-378-quickgelu",
          "x": 0.7525,
          "xanchor": "center",
          "xref": "paper",
          "y": 0.49249999999999994,
          "yanchor": "bottom",
          "yref": "paper"
         },
         {
          "font": {
           "size": 16
          },
          "showarrow": false,
          "text": "ViT-L_14",
          "x": 0.2475,
          "xanchor": "center",
          "xref": "paper",
          "y": 0.23875,
          "yanchor": "bottom",
          "yref": "paper"
         },
         {
          "font": {
           "size": 16
          },
          "showarrow": false,
          "text": "ViT-SO400M-14-SigLIP-384",
          "x": 0.7525,
          "xanchor": "center",
          "xref": "paper",
          "y": 0.23875,
          "yanchor": "bottom",
          "yref": "paper"
         }
        ],
        "coloraxis": {
         "colorscale": [
          [
           0,
           "rgb(255, 198, 196)"
          ],
          [
           0.16666666666666666,
           "rgb(244, 163, 168)"
          ],
          [
           0.3333333333333333,
           "rgb(227, 129, 145)"
          ],
          [
           0.5,
           "rgb(204, 96, 125)"
          ],
          [
           0.6666666666666666,
           "rgb(173, 70, 108)"
          ],
          [
           0.8333333333333334,
           "rgb(139, 48, 88)"
          ],
          [
           1,
           "rgb(103, 32, 68)"
          ]
         ]
        },
        "height": 1600,
        "showlegend": true,
        "template": {
         "data": {
          "bar": [
           {
            "error_x": {
             "color": "#2a3f5f"
            },
            "error_y": {
             "color": "#2a3f5f"
            },
            "marker": {
             "line": {
              "color": "#E5ECF6",
              "width": 0.5
             },
             "pattern": {
              "fillmode": "overlay",
              "size": 10,
              "solidity": 0.2
             }
            },
            "type": "bar"
           }
          ],
          "barpolar": [
           {
            "marker": {
             "line": {
              "color": "#E5ECF6",
              "width": 0.5
             },
             "pattern": {
              "fillmode": "overlay",
              "size": 10,
              "solidity": 0.2
             }
            },
            "type": "barpolar"
           }
          ],
          "carpet": [
           {
            "aaxis": {
             "endlinecolor": "#2a3f5f",
             "gridcolor": "white",
             "linecolor": "white",
             "minorgridcolor": "white",
             "startlinecolor": "#2a3f5f"
            },
            "baxis": {
             "endlinecolor": "#2a3f5f",
             "gridcolor": "white",
             "linecolor": "white",
             "minorgridcolor": "white",
             "startlinecolor": "#2a3f5f"
            },
            "type": "carpet"
           }
          ],
          "choropleth": [
           {
            "colorbar": {
             "outlinewidth": 0,
             "ticks": ""
            },
            "type": "choropleth"
           }
          ],
          "contour": [
           {
            "colorbar": {
             "outlinewidth": 0,
             "ticks": ""
            },
            "colorscale": [
             [
              0,
              "#0d0887"
             ],
             [
              0.1111111111111111,
              "#46039f"
             ],
             [
              0.2222222222222222,
              "#7201a8"
             ],
             [
              0.3333333333333333,
              "#9c179e"
             ],
             [
              0.4444444444444444,
              "#bd3786"
             ],
             [
              0.5555555555555556,
              "#d8576b"
             ],
             [
              0.6666666666666666,
              "#ed7953"
             ],
             [
              0.7777777777777778,
              "#fb9f3a"
             ],
             [
              0.8888888888888888,
              "#fdca26"
             ],
             [
              1,
              "#f0f921"
             ]
            ],
            "type": "contour"
           }
          ],
          "contourcarpet": [
           {
            "colorbar": {
             "outlinewidth": 0,
             "ticks": ""
            },
            "type": "contourcarpet"
           }
          ],
          "heatmap": [
           {
            "colorbar": {
             "outlinewidth": 0,
             "ticks": ""
            },
            "colorscale": [
             [
              0,
              "#0d0887"
             ],
             [
              0.1111111111111111,
              "#46039f"
             ],
             [
              0.2222222222222222,
              "#7201a8"
             ],
             [
              0.3333333333333333,
              "#9c179e"
             ],
             [
              0.4444444444444444,
              "#bd3786"
             ],
             [
              0.5555555555555556,
              "#d8576b"
             ],
             [
              0.6666666666666666,
              "#ed7953"
             ],
             [
              0.7777777777777778,
              "#fb9f3a"
             ],
             [
              0.8888888888888888,
              "#fdca26"
             ],
             [
              1,
              "#f0f921"
             ]
            ],
            "type": "heatmap"
           }
          ],
          "heatmapgl": [
           {
            "colorbar": {
             "outlinewidth": 0,
             "ticks": ""
            },
            "colorscale": [
             [
              0,
              "#0d0887"
             ],
             [
              0.1111111111111111,
              "#46039f"
             ],
             [
              0.2222222222222222,
              "#7201a8"
             ],
             [
              0.3333333333333333,
              "#9c179e"
             ],
             [
              0.4444444444444444,
              "#bd3786"
             ],
             [
              0.5555555555555556,
              "#d8576b"
             ],
             [
              0.6666666666666666,
              "#ed7953"
             ],
             [
              0.7777777777777778,
              "#fb9f3a"
             ],
             [
              0.8888888888888888,
              "#fdca26"
             ],
             [
              1,
              "#f0f921"
             ]
            ],
            "type": "heatmapgl"
           }
          ],
          "histogram": [
           {
            "marker": {
             "pattern": {
              "fillmode": "overlay",
              "size": 10,
              "solidity": 0.2
             }
            },
            "type": "histogram"
           }
          ],
          "histogram2d": [
           {
            "colorbar": {
             "outlinewidth": 0,
             "ticks": ""
            },
            "colorscale": [
             [
              0,
              "#0d0887"
             ],
             [
              0.1111111111111111,
              "#46039f"
             ],
             [
              0.2222222222222222,
              "#7201a8"
             ],
             [
              0.3333333333333333,
              "#9c179e"
             ],
             [
              0.4444444444444444,
              "#bd3786"
             ],
             [
              0.5555555555555556,
              "#d8576b"
             ],
             [
              0.6666666666666666,
              "#ed7953"
             ],
             [
              0.7777777777777778,
              "#fb9f3a"
             ],
             [
              0.8888888888888888,
              "#fdca26"
             ],
             [
              1,
              "#f0f921"
             ]
            ],
            "type": "histogram2d"
           }
          ],
          "histogram2dcontour": [
           {
            "colorbar": {
             "outlinewidth": 0,
             "ticks": ""
            },
            "colorscale": [
             [
              0,
              "#0d0887"
             ],
             [
              0.1111111111111111,
              "#46039f"
             ],
             [
              0.2222222222222222,
              "#7201a8"
             ],
             [
              0.3333333333333333,
              "#9c179e"
             ],
             [
              0.4444444444444444,
              "#bd3786"
             ],
             [
              0.5555555555555556,
              "#d8576b"
             ],
             [
              0.6666666666666666,
              "#ed7953"
             ],
             [
              0.7777777777777778,
              "#fb9f3a"
             ],
             [
              0.8888888888888888,
              "#fdca26"
             ],
             [
              1,
              "#f0f921"
             ]
            ],
            "type": "histogram2dcontour"
           }
          ],
          "mesh3d": [
           {
            "colorbar": {
             "outlinewidth": 0,
             "ticks": ""
            },
            "type": "mesh3d"
           }
          ],
          "parcoords": [
           {
            "line": {
             "colorbar": {
              "outlinewidth": 0,
              "ticks": ""
             }
            },
            "type": "parcoords"
           }
          ],
          "pie": [
           {
            "automargin": true,
            "type": "pie"
           }
          ],
          "scatter": [
           {
            "fillpattern": {
             "fillmode": "overlay",
             "size": 10,
             "solidity": 0.2
            },
            "type": "scatter"
           }
          ],
          "scatter3d": [
           {
            "line": {
             "colorbar": {
              "outlinewidth": 0,
              "ticks": ""
             }
            },
            "marker": {
             "colorbar": {
              "outlinewidth": 0,
              "ticks": ""
             }
            },
            "type": "scatter3d"
           }
          ],
          "scattercarpet": [
           {
            "marker": {
             "colorbar": {
              "outlinewidth": 0,
              "ticks": ""
             }
            },
            "type": "scattercarpet"
           }
          ],
          "scattergeo": [
           {
            "marker": {
             "colorbar": {
              "outlinewidth": 0,
              "ticks": ""
             }
            },
            "type": "scattergeo"
           }
          ],
          "scattergl": [
           {
            "marker": {
             "colorbar": {
              "outlinewidth": 0,
              "ticks": ""
             }
            },
            "type": "scattergl"
           }
          ],
          "scattermapbox": [
           {
            "marker": {
             "colorbar": {
              "outlinewidth": 0,
              "ticks": ""
             }
            },
            "type": "scattermapbox"
           }
          ],
          "scatterpolar": [
           {
            "marker": {
             "colorbar": {
              "outlinewidth": 0,
              "ticks": ""
             }
            },
            "type": "scatterpolar"
           }
          ],
          "scatterpolargl": [
           {
            "marker": {
             "colorbar": {
              "outlinewidth": 0,
              "ticks": ""
             }
            },
            "type": "scatterpolargl"
           }
          ],
          "scatterternary": [
           {
            "marker": {
             "colorbar": {
              "outlinewidth": 0,
              "ticks": ""
             }
            },
            "type": "scatterternary"
           }
          ],
          "surface": [
           {
            "colorbar": {
             "outlinewidth": 0,
             "ticks": ""
            },
            "colorscale": [
             [
              0,
              "#0d0887"
             ],
             [
              0.1111111111111111,
              "#46039f"
             ],
             [
              0.2222222222222222,
              "#7201a8"
             ],
             [
              0.3333333333333333,
              "#9c179e"
             ],
             [
              0.4444444444444444,
              "#bd3786"
             ],
             [
              0.5555555555555556,
              "#d8576b"
             ],
             [
              0.6666666666666666,
              "#ed7953"
             ],
             [
              0.7777777777777778,
              "#fb9f3a"
             ],
             [
              0.8888888888888888,
              "#fdca26"
             ],
             [
              1,
              "#f0f921"
             ]
            ],
            "type": "surface"
           }
          ],
          "table": [
           {
            "cells": {
             "fill": {
              "color": "#EBF0F8"
             },
             "line": {
              "color": "white"
             }
            },
            "header": {
             "fill": {
              "color": "#C8D4E3"
             },
             "line": {
              "color": "white"
             }
            },
            "type": "table"
           }
          ]
         },
         "layout": {
          "annotationdefaults": {
           "arrowcolor": "#2a3f5f",
           "arrowhead": 0,
           "arrowwidth": 1
          },
          "autotypenumbers": "strict",
          "coloraxis": {
           "colorbar": {
            "outlinewidth": 0,
            "ticks": ""
           }
          },
          "colorscale": {
           "diverging": [
            [
             0,
             "#8e0152"
            ],
            [
             0.1,
             "#c51b7d"
            ],
            [
             0.2,
             "#de77ae"
            ],
            [
             0.3,
             "#f1b6da"
            ],
            [
             0.4,
             "#fde0ef"
            ],
            [
             0.5,
             "#f7f7f7"
            ],
            [
             0.6,
             "#e6f5d0"
            ],
            [
             0.7,
             "#b8e186"
            ],
            [
             0.8,
             "#7fbc41"
            ],
            [
             0.9,
             "#4d9221"
            ],
            [
             1,
             "#276419"
            ]
           ],
           "sequential": [
            [
             0,
             "#0d0887"
            ],
            [
             0.1111111111111111,
             "#46039f"
            ],
            [
             0.2222222222222222,
             "#7201a8"
            ],
            [
             0.3333333333333333,
             "#9c179e"
            ],
            [
             0.4444444444444444,
             "#bd3786"
            ],
            [
             0.5555555555555556,
             "#d8576b"
            ],
            [
             0.6666666666666666,
             "#ed7953"
            ],
            [
             0.7777777777777778,
             "#fb9f3a"
            ],
            [
             0.8888888888888888,
             "#fdca26"
            ],
            [
             1,
             "#f0f921"
            ]
           ],
           "sequentialminus": [
            [
             0,
             "#0d0887"
            ],
            [
             0.1111111111111111,
             "#46039f"
            ],
            [
             0.2222222222222222,
             "#7201a8"
            ],
            [
             0.3333333333333333,
             "#9c179e"
            ],
            [
             0.4444444444444444,
             "#bd3786"
            ],
            [
             0.5555555555555556,
             "#d8576b"
            ],
            [
             0.6666666666666666,
             "#ed7953"
            ],
            [
             0.7777777777777778,
             "#fb9f3a"
            ],
            [
             0.8888888888888888,
             "#fdca26"
            ],
            [
             1,
             "#f0f921"
            ]
           ]
          },
          "colorway": [
           "#636efa",
           "#EF553B",
           "#00cc96",
           "#ab63fa",
           "#FFA15A",
           "#19d3f3",
           "#FF6692",
           "#B6E880",
           "#FF97FF",
           "#FECB52"
          ],
          "font": {
           "color": "#2a3f5f"
          },
          "geo": {
           "bgcolor": "white",
           "lakecolor": "white",
           "landcolor": "#E5ECF6",
           "showlakes": true,
           "showland": true,
           "subunitcolor": "white"
          },
          "hoverlabel": {
           "align": "left"
          },
          "hovermode": "closest",
          "mapbox": {
           "style": "light"
          },
          "paper_bgcolor": "white",
          "plot_bgcolor": "#E5ECF6",
          "polar": {
           "angularaxis": {
            "gridcolor": "white",
            "linecolor": "white",
            "ticks": ""
           },
           "bgcolor": "#E5ECF6",
           "radialaxis": {
            "gridcolor": "white",
            "linecolor": "white",
            "ticks": ""
           }
          },
          "scene": {
           "xaxis": {
            "backgroundcolor": "#E5ECF6",
            "gridcolor": "white",
            "gridwidth": 2,
            "linecolor": "white",
            "showbackground": true,
            "ticks": "",
            "zerolinecolor": "white"
           },
           "yaxis": {
            "backgroundcolor": "#E5ECF6",
            "gridcolor": "white",
            "gridwidth": 2,
            "linecolor": "white",
            "showbackground": true,
            "ticks": "",
            "zerolinecolor": "white"
           },
           "zaxis": {
            "backgroundcolor": "#E5ECF6",
            "gridcolor": "white",
            "gridwidth": 2,
            "linecolor": "white",
            "showbackground": true,
            "ticks": "",
            "zerolinecolor": "white"
           }
          },
          "shapedefaults": {
           "line": {
            "color": "#2a3f5f"
           }
          },
          "ternary": {
           "aaxis": {
            "gridcolor": "white",
            "linecolor": "white",
            "ticks": ""
           },
           "baxis": {
            "gridcolor": "white",
            "linecolor": "white",
            "ticks": ""
           },
           "bgcolor": "#E5ECF6",
           "caxis": {
            "gridcolor": "white",
            "linecolor": "white",
            "ticks": ""
           }
          },
          "title": {
           "x": 0.05
          },
          "xaxis": {
           "automargin": true,
           "gridcolor": "white",
           "linecolor": "white",
           "ticks": "",
           "title": {
            "standoff": 15
           },
           "zerolinecolor": "white",
           "zerolinewidth": 2
          },
          "yaxis": {
           "automargin": true,
           "gridcolor": "white",
           "linecolor": "white",
           "ticks": "",
           "title": {
            "standoff": 15
           },
           "zerolinecolor": "white",
           "zerolinewidth": 2
          }
         }
        },
        "width": 800,
        "xaxis": {
         "anchor": "y",
         "autorange": "reversed",
         "domain": [
          0,
          0.495
         ],
         "matches": "x7",
         "showticklabels": false,
         "title": {
          "text": "Prediction"
         }
        },
        "xaxis2": {
         "anchor": "y2",
         "autorange": "reversed",
         "domain": [
          0.505,
          1
         ],
         "matches": "x8",
         "showticklabels": false
        },
        "xaxis3": {
         "anchor": "y3",
         "autorange": "reversed",
         "domain": [
          0,
          0.495
         ],
         "matches": "x7",
         "showticklabels": false
        },
        "xaxis4": {
         "anchor": "y4",
         "autorange": "reversed",
         "domain": [
          0.505,
          1
         ],
         "matches": "x8",
         "showticklabels": false
        },
        "xaxis5": {
         "anchor": "y5",
         "autorange": "reversed",
         "domain": [
          0,
          0.495
         ],
         "matches": "x7",
         "showticklabels": false
        },
        "xaxis6": {
         "anchor": "y6",
         "autorange": "reversed",
         "domain": [
          0.505,
          1
         ],
         "matches": "x8",
         "showticklabels": false
        },
        "xaxis7": {
         "anchor": "y7",
         "autorange": "reversed",
         "domain": [
          0,
          0.495
         ]
        },
        "xaxis8": {
         "anchor": "y8",
         "autorange": "reversed",
         "domain": [
          0.505,
          1
         ]
        },
        "yaxis": {
         "anchor": "x",
         "domain": [
          0.76125,
          1
         ],
         "title": {
          "text": "Class"
         }
        },
        "yaxis2": {
         "anchor": "x2",
         "domain": [
          0.76125,
          1
         ],
         "matches": "y",
         "showticklabels": false
        },
        "yaxis3": {
         "anchor": "x3",
         "domain": [
          0.5075,
          0.74625
         ]
        },
        "yaxis4": {
         "anchor": "x4",
         "domain": [
          0.5075,
          0.74625
         ],
         "matches": "y3",
         "showticklabels": false
        },
        "yaxis5": {
         "anchor": "x5",
         "domain": [
          0.25375,
          0.49249999999999994
         ]
        },
        "yaxis6": {
         "anchor": "x6",
         "domain": [
          0.25375,
          0.49249999999999994
         ],
         "matches": "y5",
         "showticklabels": false
        },
        "yaxis7": {
         "anchor": "x7",
         "domain": [
          0,
          0.23875
         ]
        },
        "yaxis8": {
         "anchor": "x8",
         "domain": [
          0,
          0.23875
         ],
         "matches": "y7",
         "showticklabels": false
        }
       }
      }
     },
     "metadata": {},
     "output_type": "display_data"
    }
   ],
   "source": [
    "# fig = go.Figure().set_subplots(rows=n_rows, cols=2, shared_xaxes=True, shared_yaxes=True, vertical_spacing=0.05, horizontal_spacing=0.01)\n",
    "fig = make_subplots(rows=n_rows, cols=2, \n",
    "                    shared_xaxes=True, \n",
    "                    shared_yaxes=True,\n",
    "                    subplot_titles=list(modelwise_confusion_matrices.keys()),\n",
    "                    vertical_spacing=0.015, \n",
    "                    horizontal_spacing=0.01,\n",
    "                    # x_title=\"Prediction\",\n",
    "                    # y_title=\"Class\",\n",
    "                    )\n",
    "\n",
    "for i,modelname in enumerate(modelwise_confusion_matrices):\n",
    "    subplot = px.imshow(modelwise_confusion_matrices[modelname],\n",
    "                \n",
    "                x=available_classes,\n",
    "                y=available_classes,\n",
    "              text_auto=True, \n",
    "              #  aspect=\"auto\",\n",
    "               )\n",
    "    \n",
    "    # print(i//2+1,i%2+1)\n",
    "    subplot['layout']['xaxis']['autorange'] = \"reversed\"\n",
    "\n",
    "    fig.add_trace(subplot.data[0], row=i//2+1, col=i%2+1)\n",
    "    fig.update_xaxes(row=i//2+1, col=i%2+1, autorange='reversed')\n",
    "    # fig.append_trace(subplot.data[0], row=i//2+1, col=i%2+1)\n",
    "\n",
    "fig.update_coloraxes(colorscale=px.colors.sequential.Burg)\n",
    "fig.update_layout(height=400*n_rows, width=400*2,\n",
    "                  xaxis_title=\"Prediction\",\n",
    "                  yaxis_title=\"Class\",\n",
    "                  showlegend=True,)\n",
    "fig.show()\n"
   ]
  },
  {
   "cell_type": "code",
   "execution_count": 19,
   "metadata": {},
   "outputs": [
    {
     "data": {
      "text/html": [
       "<div>\n",
       "<style scoped>\n",
       "    .dataframe tbody tr th:only-of-type {\n",
       "        vertical-align: middle;\n",
       "    }\n",
       "\n",
       "    .dataframe tbody tr th {\n",
       "        vertical-align: top;\n",
       "    }\n",
       "\n",
       "    .dataframe thead th {\n",
       "        text-align: right;\n",
       "    }\n",
       "</style>\n",
       "<table border=\"1\" class=\"dataframe\">\n",
       "  <thead>\n",
       "    <tr style=\"text-align: right;\">\n",
       "      <th></th>\n",
       "      <th>model_name</th>\n",
       "      <th>score</th>\n",
       "    </tr>\n",
       "  </thead>\n",
       "  <tbody>\n",
       "    <tr>\n",
       "      <th>8</th>\n",
       "      <td>combined</td>\n",
       "      <td>74.45</td>\n",
       "    </tr>\n",
       "    <tr>\n",
       "      <th>3</th>\n",
       "      <td>ViT-bigG-14-CLIPA-336</td>\n",
       "      <td>70.05</td>\n",
       "    </tr>\n",
       "    <tr>\n",
       "      <th>5</th>\n",
       "      <td>ViT-H-14-378-quickgelu</td>\n",
       "      <td>67.32</td>\n",
       "    </tr>\n",
       "    <tr>\n",
       "      <th>0</th>\n",
       "      <td>EVA02-E-14-plus</td>\n",
       "      <td>65.25</td>\n",
       "    </tr>\n",
       "    <tr>\n",
       "      <th>7</th>\n",
       "      <td>ViT-SO400M-14-SigLIP-384</td>\n",
       "      <td>60.80</td>\n",
       "    </tr>\n",
       "    <tr>\n",
       "      <th>6</th>\n",
       "      <td>ViT-L_14</td>\n",
       "      <td>52.23</td>\n",
       "    </tr>\n",
       "    <tr>\n",
       "      <th>1</th>\n",
       "      <td>RN101</td>\n",
       "      <td>46.82</td>\n",
       "    </tr>\n",
       "    <tr>\n",
       "      <th>2</th>\n",
       "      <td>RN50x64</td>\n",
       "      <td>41.12</td>\n",
       "    </tr>\n",
       "    <tr>\n",
       "      <th>4</th>\n",
       "      <td>ViT-B_32</td>\n",
       "      <td>32.10</td>\n",
       "    </tr>\n",
       "  </tbody>\n",
       "</table>\n",
       "</div>"
      ],
      "text/plain": [
       "                 model_name  score\n",
       "8                  combined  74.45\n",
       "3     ViT-bigG-14-CLIPA-336  70.05\n",
       "5    ViT-H-14-378-quickgelu  67.32\n",
       "0           EVA02-E-14-plus  65.25\n",
       "7  ViT-SO400M-14-SigLIP-384  60.80\n",
       "6                  ViT-L_14  52.23\n",
       "1                     RN101  46.82\n",
       "2                   RN50x64  41.12\n",
       "4                  ViT-B_32  32.10"
      ]
     },
     "execution_count": 19,
     "metadata": {},
     "output_type": "execute_result"
    }
   ],
   "source": [
    "# getting the diagonal sum of the confusion matrix:\n",
    "diagonals = {}\n",
    "\n",
    "for model in modelwise_confusion_matrices:\n",
    "    diagonals[model] = modelwise_confusion_matrices[model].diagonal().sum()\n",
    "\n",
    "diagonals['combined'] = c_mat.diagonal().sum() \n",
    "\n",
    "diagonals_df = pd.DataFrame.from_dict(diagonals, orient='index',columns=['score']).reset_index().rename(columns={'index':'model_name'}).sort_values(by='score', ascending=False)\n",
    "\n",
    "diagonals_df['score'] = round(100 *  diagonals_df['score'] / (len(available_models) * 100),2)\n",
    "\n",
    "diagonals_df"
   ]
  },
  {
   "cell_type": "code",
   "execution_count": 20,
   "metadata": {},
   "outputs": [
    {
     "data": {
      "application/vnd.plotly.v1+json": {
       "config": {
        "plotlyServerURL": "https://plot.ly"
       },
       "data": [
        {
         "alignmentgroup": "True",
         "hovertemplate": "model_name=%{x}<br>score=%{y}<extra></extra>",
         "legendgroup": "",
         "marker": {
          "color": "#636efa",
          "pattern": {
           "shape": ""
          }
         },
         "name": "",
         "offsetgroup": "",
         "orientation": "v",
         "showlegend": false,
         "textposition": "auto",
         "texttemplate": "%{y}",
         "type": "bar",
         "x": [
          "combined",
          "ViT-bigG-14-CLIPA-336",
          "ViT-H-14-378-quickgelu",
          "EVA02-E-14-plus",
          "ViT-SO400M-14-SigLIP-384",
          "ViT-L_14",
          "RN101",
          "RN50x64",
          "ViT-B_32"
         ],
         "xaxis": "x",
         "y": [
          74.45,
          70.05,
          67.32,
          65.25,
          60.8,
          52.23,
          46.82,
          41.12,
          32.1
         ],
         "yaxis": "y"
        }
       ],
       "layout": {
        "barmode": "relative",
        "legend": {
         "tracegroupgap": 0
        },
        "margin": {
         "t": 60
        },
        "template": {
         "data": {
          "bar": [
           {
            "error_x": {
             "color": "#2a3f5f"
            },
            "error_y": {
             "color": "#2a3f5f"
            },
            "marker": {
             "line": {
              "color": "#E5ECF6",
              "width": 0.5
             },
             "pattern": {
              "fillmode": "overlay",
              "size": 10,
              "solidity": 0.2
             }
            },
            "type": "bar"
           }
          ],
          "barpolar": [
           {
            "marker": {
             "line": {
              "color": "#E5ECF6",
              "width": 0.5
             },
             "pattern": {
              "fillmode": "overlay",
              "size": 10,
              "solidity": 0.2
             }
            },
            "type": "barpolar"
           }
          ],
          "carpet": [
           {
            "aaxis": {
             "endlinecolor": "#2a3f5f",
             "gridcolor": "white",
             "linecolor": "white",
             "minorgridcolor": "white",
             "startlinecolor": "#2a3f5f"
            },
            "baxis": {
             "endlinecolor": "#2a3f5f",
             "gridcolor": "white",
             "linecolor": "white",
             "minorgridcolor": "white",
             "startlinecolor": "#2a3f5f"
            },
            "type": "carpet"
           }
          ],
          "choropleth": [
           {
            "colorbar": {
             "outlinewidth": 0,
             "ticks": ""
            },
            "type": "choropleth"
           }
          ],
          "contour": [
           {
            "colorbar": {
             "outlinewidth": 0,
             "ticks": ""
            },
            "colorscale": [
             [
              0,
              "#0d0887"
             ],
             [
              0.1111111111111111,
              "#46039f"
             ],
             [
              0.2222222222222222,
              "#7201a8"
             ],
             [
              0.3333333333333333,
              "#9c179e"
             ],
             [
              0.4444444444444444,
              "#bd3786"
             ],
             [
              0.5555555555555556,
              "#d8576b"
             ],
             [
              0.6666666666666666,
              "#ed7953"
             ],
             [
              0.7777777777777778,
              "#fb9f3a"
             ],
             [
              0.8888888888888888,
              "#fdca26"
             ],
             [
              1,
              "#f0f921"
             ]
            ],
            "type": "contour"
           }
          ],
          "contourcarpet": [
           {
            "colorbar": {
             "outlinewidth": 0,
             "ticks": ""
            },
            "type": "contourcarpet"
           }
          ],
          "heatmap": [
           {
            "colorbar": {
             "outlinewidth": 0,
             "ticks": ""
            },
            "colorscale": [
             [
              0,
              "#0d0887"
             ],
             [
              0.1111111111111111,
              "#46039f"
             ],
             [
              0.2222222222222222,
              "#7201a8"
             ],
             [
              0.3333333333333333,
              "#9c179e"
             ],
             [
              0.4444444444444444,
              "#bd3786"
             ],
             [
              0.5555555555555556,
              "#d8576b"
             ],
             [
              0.6666666666666666,
              "#ed7953"
             ],
             [
              0.7777777777777778,
              "#fb9f3a"
             ],
             [
              0.8888888888888888,
              "#fdca26"
             ],
             [
              1,
              "#f0f921"
             ]
            ],
            "type": "heatmap"
           }
          ],
          "heatmapgl": [
           {
            "colorbar": {
             "outlinewidth": 0,
             "ticks": ""
            },
            "colorscale": [
             [
              0,
              "#0d0887"
             ],
             [
              0.1111111111111111,
              "#46039f"
             ],
             [
              0.2222222222222222,
              "#7201a8"
             ],
             [
              0.3333333333333333,
              "#9c179e"
             ],
             [
              0.4444444444444444,
              "#bd3786"
             ],
             [
              0.5555555555555556,
              "#d8576b"
             ],
             [
              0.6666666666666666,
              "#ed7953"
             ],
             [
              0.7777777777777778,
              "#fb9f3a"
             ],
             [
              0.8888888888888888,
              "#fdca26"
             ],
             [
              1,
              "#f0f921"
             ]
            ],
            "type": "heatmapgl"
           }
          ],
          "histogram": [
           {
            "marker": {
             "pattern": {
              "fillmode": "overlay",
              "size": 10,
              "solidity": 0.2
             }
            },
            "type": "histogram"
           }
          ],
          "histogram2d": [
           {
            "colorbar": {
             "outlinewidth": 0,
             "ticks": ""
            },
            "colorscale": [
             [
              0,
              "#0d0887"
             ],
             [
              0.1111111111111111,
              "#46039f"
             ],
             [
              0.2222222222222222,
              "#7201a8"
             ],
             [
              0.3333333333333333,
              "#9c179e"
             ],
             [
              0.4444444444444444,
              "#bd3786"
             ],
             [
              0.5555555555555556,
              "#d8576b"
             ],
             [
              0.6666666666666666,
              "#ed7953"
             ],
             [
              0.7777777777777778,
              "#fb9f3a"
             ],
             [
              0.8888888888888888,
              "#fdca26"
             ],
             [
              1,
              "#f0f921"
             ]
            ],
            "type": "histogram2d"
           }
          ],
          "histogram2dcontour": [
           {
            "colorbar": {
             "outlinewidth": 0,
             "ticks": ""
            },
            "colorscale": [
             [
              0,
              "#0d0887"
             ],
             [
              0.1111111111111111,
              "#46039f"
             ],
             [
              0.2222222222222222,
              "#7201a8"
             ],
             [
              0.3333333333333333,
              "#9c179e"
             ],
             [
              0.4444444444444444,
              "#bd3786"
             ],
             [
              0.5555555555555556,
              "#d8576b"
             ],
             [
              0.6666666666666666,
              "#ed7953"
             ],
             [
              0.7777777777777778,
              "#fb9f3a"
             ],
             [
              0.8888888888888888,
              "#fdca26"
             ],
             [
              1,
              "#f0f921"
             ]
            ],
            "type": "histogram2dcontour"
           }
          ],
          "mesh3d": [
           {
            "colorbar": {
             "outlinewidth": 0,
             "ticks": ""
            },
            "type": "mesh3d"
           }
          ],
          "parcoords": [
           {
            "line": {
             "colorbar": {
              "outlinewidth": 0,
              "ticks": ""
             }
            },
            "type": "parcoords"
           }
          ],
          "pie": [
           {
            "automargin": true,
            "type": "pie"
           }
          ],
          "scatter": [
           {
            "fillpattern": {
             "fillmode": "overlay",
             "size": 10,
             "solidity": 0.2
            },
            "type": "scatter"
           }
          ],
          "scatter3d": [
           {
            "line": {
             "colorbar": {
              "outlinewidth": 0,
              "ticks": ""
             }
            },
            "marker": {
             "colorbar": {
              "outlinewidth": 0,
              "ticks": ""
             }
            },
            "type": "scatter3d"
           }
          ],
          "scattercarpet": [
           {
            "marker": {
             "colorbar": {
              "outlinewidth": 0,
              "ticks": ""
             }
            },
            "type": "scattercarpet"
           }
          ],
          "scattergeo": [
           {
            "marker": {
             "colorbar": {
              "outlinewidth": 0,
              "ticks": ""
             }
            },
            "type": "scattergeo"
           }
          ],
          "scattergl": [
           {
            "marker": {
             "colorbar": {
              "outlinewidth": 0,
              "ticks": ""
             }
            },
            "type": "scattergl"
           }
          ],
          "scattermapbox": [
           {
            "marker": {
             "colorbar": {
              "outlinewidth": 0,
              "ticks": ""
             }
            },
            "type": "scattermapbox"
           }
          ],
          "scatterpolar": [
           {
            "marker": {
             "colorbar": {
              "outlinewidth": 0,
              "ticks": ""
             }
            },
            "type": "scatterpolar"
           }
          ],
          "scatterpolargl": [
           {
            "marker": {
             "colorbar": {
              "outlinewidth": 0,
              "ticks": ""
             }
            },
            "type": "scatterpolargl"
           }
          ],
          "scatterternary": [
           {
            "marker": {
             "colorbar": {
              "outlinewidth": 0,
              "ticks": ""
             }
            },
            "type": "scatterternary"
           }
          ],
          "surface": [
           {
            "colorbar": {
             "outlinewidth": 0,
             "ticks": ""
            },
            "colorscale": [
             [
              0,
              "#0d0887"
             ],
             [
              0.1111111111111111,
              "#46039f"
             ],
             [
              0.2222222222222222,
              "#7201a8"
             ],
             [
              0.3333333333333333,
              "#9c179e"
             ],
             [
              0.4444444444444444,
              "#bd3786"
             ],
             [
              0.5555555555555556,
              "#d8576b"
             ],
             [
              0.6666666666666666,
              "#ed7953"
             ],
             [
              0.7777777777777778,
              "#fb9f3a"
             ],
             [
              0.8888888888888888,
              "#fdca26"
             ],
             [
              1,
              "#f0f921"
             ]
            ],
            "type": "surface"
           }
          ],
          "table": [
           {
            "cells": {
             "fill": {
              "color": "#EBF0F8"
             },
             "line": {
              "color": "white"
             }
            },
            "header": {
             "fill": {
              "color": "#C8D4E3"
             },
             "line": {
              "color": "white"
             }
            },
            "type": "table"
           }
          ]
         },
         "layout": {
          "annotationdefaults": {
           "arrowcolor": "#2a3f5f",
           "arrowhead": 0,
           "arrowwidth": 1
          },
          "autotypenumbers": "strict",
          "coloraxis": {
           "colorbar": {
            "outlinewidth": 0,
            "ticks": ""
           }
          },
          "colorscale": {
           "diverging": [
            [
             0,
             "#8e0152"
            ],
            [
             0.1,
             "#c51b7d"
            ],
            [
             0.2,
             "#de77ae"
            ],
            [
             0.3,
             "#f1b6da"
            ],
            [
             0.4,
             "#fde0ef"
            ],
            [
             0.5,
             "#f7f7f7"
            ],
            [
             0.6,
             "#e6f5d0"
            ],
            [
             0.7,
             "#b8e186"
            ],
            [
             0.8,
             "#7fbc41"
            ],
            [
             0.9,
             "#4d9221"
            ],
            [
             1,
             "#276419"
            ]
           ],
           "sequential": [
            [
             0,
             "#0d0887"
            ],
            [
             0.1111111111111111,
             "#46039f"
            ],
            [
             0.2222222222222222,
             "#7201a8"
            ],
            [
             0.3333333333333333,
             "#9c179e"
            ],
            [
             0.4444444444444444,
             "#bd3786"
            ],
            [
             0.5555555555555556,
             "#d8576b"
            ],
            [
             0.6666666666666666,
             "#ed7953"
            ],
            [
             0.7777777777777778,
             "#fb9f3a"
            ],
            [
             0.8888888888888888,
             "#fdca26"
            ],
            [
             1,
             "#f0f921"
            ]
           ],
           "sequentialminus": [
            [
             0,
             "#0d0887"
            ],
            [
             0.1111111111111111,
             "#46039f"
            ],
            [
             0.2222222222222222,
             "#7201a8"
            ],
            [
             0.3333333333333333,
             "#9c179e"
            ],
            [
             0.4444444444444444,
             "#bd3786"
            ],
            [
             0.5555555555555556,
             "#d8576b"
            ],
            [
             0.6666666666666666,
             "#ed7953"
            ],
            [
             0.7777777777777778,
             "#fb9f3a"
            ],
            [
             0.8888888888888888,
             "#fdca26"
            ],
            [
             1,
             "#f0f921"
            ]
           ]
          },
          "colorway": [
           "#636efa",
           "#EF553B",
           "#00cc96",
           "#ab63fa",
           "#FFA15A",
           "#19d3f3",
           "#FF6692",
           "#B6E880",
           "#FF97FF",
           "#FECB52"
          ],
          "font": {
           "color": "#2a3f5f"
          },
          "geo": {
           "bgcolor": "white",
           "lakecolor": "white",
           "landcolor": "#E5ECF6",
           "showlakes": true,
           "showland": true,
           "subunitcolor": "white"
          },
          "hoverlabel": {
           "align": "left"
          },
          "hovermode": "closest",
          "mapbox": {
           "style": "light"
          },
          "paper_bgcolor": "white",
          "plot_bgcolor": "#E5ECF6",
          "polar": {
           "angularaxis": {
            "gridcolor": "white",
            "linecolor": "white",
            "ticks": ""
           },
           "bgcolor": "#E5ECF6",
           "radialaxis": {
            "gridcolor": "white",
            "linecolor": "white",
            "ticks": ""
           }
          },
          "scene": {
           "xaxis": {
            "backgroundcolor": "#E5ECF6",
            "gridcolor": "white",
            "gridwidth": 2,
            "linecolor": "white",
            "showbackground": true,
            "ticks": "",
            "zerolinecolor": "white"
           },
           "yaxis": {
            "backgroundcolor": "#E5ECF6",
            "gridcolor": "white",
            "gridwidth": 2,
            "linecolor": "white",
            "showbackground": true,
            "ticks": "",
            "zerolinecolor": "white"
           },
           "zaxis": {
            "backgroundcolor": "#E5ECF6",
            "gridcolor": "white",
            "gridwidth": 2,
            "linecolor": "white",
            "showbackground": true,
            "ticks": "",
            "zerolinecolor": "white"
           }
          },
          "shapedefaults": {
           "line": {
            "color": "#2a3f5f"
           }
          },
          "ternary": {
           "aaxis": {
            "gridcolor": "white",
            "linecolor": "white",
            "ticks": ""
           },
           "baxis": {
            "gridcolor": "white",
            "linecolor": "white",
            "ticks": ""
           },
           "bgcolor": "#E5ECF6",
           "caxis": {
            "gridcolor": "white",
            "linecolor": "white",
            "ticks": ""
           }
          },
          "title": {
           "x": 0.05
          },
          "xaxis": {
           "automargin": true,
           "gridcolor": "white",
           "linecolor": "white",
           "ticks": "",
           "title": {
            "standoff": 15
           },
           "zerolinecolor": "white",
           "zerolinewidth": 2
          },
          "yaxis": {
           "automargin": true,
           "gridcolor": "white",
           "linecolor": "white",
           "ticks": "",
           "title": {
            "standoff": 15
           },
           "zerolinecolor": "white",
           "zerolinewidth": 2
          }
         }
        },
        "xaxis": {
         "anchor": "y",
         "domain": [
          0,
          1
         ],
         "title": {
          "text": "model_name"
         }
        },
        "yaxis": {
         "anchor": "x",
         "domain": [
          0,
          1
         ],
         "title": {
          "text": "score"
         }
        }
       }
      }
     },
     "metadata": {},
     "output_type": "display_data"
    }
   ],
   "source": [
    "fig = px.bar(diagonals_df,x='model_name', y='score', text_auto=True)\n",
    "fig.show()\n"
   ]
  },
  {
   "cell_type": "code",
   "execution_count": 21,
   "metadata": {},
   "outputs": [],
   "source": [
    "selected_models = {}\n",
    "\n",
    "for modelname in ['ViT-H-14-378-quickgelu', 'ViT-SO400M-14-SigLIP-384', 'EVA02-E-14-plus']:\n",
    "    selected_models[modelname] = modelwise_dfs[modelname]"
   ]
  },
  {
   "cell_type": "code",
   "execution_count": 22,
   "metadata": {},
   "outputs": [],
   "source": [
    "merged_selected = pd.concat(selected_models).reset_index()"
   ]
  },
  {
   "cell_type": "code",
   "execution_count": 23,
   "metadata": {},
   "outputs": [],
   "source": [
    "true_classes = merged_selected.groupby(image_columname).agg('first')[class_label] #.str.replace('_', ' ') #.reset_index().rename(columns={class_label:'class'})"
   ]
  },
  {
   "cell_type": "code",
   "execution_count": 24,
   "metadata": {},
   "outputs": [],
   "source": [
    "merged_selected = merged_selected.groupby(image_columname).sum(numeric_only=True)"
   ]
  },
  {
   "cell_type": "code",
   "execution_count": 25,
   "metadata": {},
   "outputs": [],
   "source": [
    "merged_selected.drop(columns=['level_1'], inplace=True)"
   ]
  },
  {
   "cell_type": "code",
   "execution_count": 26,
   "metadata": {},
   "outputs": [],
   "source": [
    "merged_pred[prediction_label] = merged_selected.idxmax(axis=1)\n",
    "merged_pred[class_label] = true_classes.tolist()"
   ]
  },
  {
   "cell_type": "code",
   "execution_count": 27,
   "metadata": {},
   "outputs": [],
   "source": [
    "# computing the confusion matrix:\n",
    "true_labels =      merged_pred[class_label]#.tolist()\n",
    "predicted_labels = merged_pred[prediction_label]#.tolist()\n",
    "\n",
    "c_mat = confusion_matrix(true_labels,predicted_labels,labels=available_classes_r,\n",
    "                          normalize='true'\n",
    "                          ) * 100\n",
    "c_mat = c_mat.round(3)"
   ]
  },
  {
   "cell_type": "code",
   "execution_count": 28,
   "metadata": {},
   "outputs": [
    {
     "data": {
      "application/vnd.plotly.v1+json": {
       "config": {
        "plotlyServerURL": "https://plot.ly"
       },
       "data": [
        {
         "coloraxis": "coloraxis",
         "hovertemplate": "Prediction: %{x}<br>Class: %{y}<br>color: %{z}<extra></extra>",
         "name": "0",
         "texttemplate": "%{z}",
         "type": "heatmap",
         "x": [
          "sett",
          "paving_stones",
          "ground",
          "gravel",
          "grass",
          "concrete_plates",
          "concrete",
          "compacted",
          "cobblestone",
          "asphalt"
         ],
         "xaxis": "x",
         "y": [
          "sett",
          "paving_stones",
          "ground",
          "gravel",
          "grass",
          "concrete_plates",
          "concrete",
          "compacted",
          "cobblestone",
          "asphalt"
         ],
         "yaxis": "y",
         "z": [
          [
           0.4,
           22.4,
           7.6,
           0.2,
           0.4,
           0.6,
           0.6,
           0,
           66.6,
           1.2
          ],
          [
           1.4,
           82.8,
           1.6,
           0.2,
           0.4,
           0.2,
           0.8,
           0,
           9.2,
           3.4
          ],
          [
           0.2,
           0,
           86.6,
           0,
           0,
           0,
           0,
           12.2,
           0.2,
           0.8
          ],
          [
           0.4,
           0,
           12.4,
           81.8,
           0,
           0,
           0,
           0,
           0.6,
           4.8
          ],
          [
           0,
           0,
           0.8,
           0,
           99.2,
           0,
           0,
           0,
           0,
           0
          ],
          [
           3.6,
           24,
           18,
           0,
           1.4,
           23.2,
           7.4,
           0,
           10.8,
           11.6
          ],
          [
           0,
           0,
           11.2,
           1.2,
           1.4,
           5,
           72,
           0.4,
           0.8,
           8
          ],
          [
           0,
           0,
           54.8,
           0,
           0,
           0.6,
           41.6,
           0,
           0,
           3
          ],
          [
           0,
           0.2,
           5.2,
           6.8,
           0,
           0.2,
           0,
           0.2,
           86.4,
           1
          ],
          [
           0.2,
           0,
           11,
           0,
           2.8,
           3.8,
           21.8,
           0,
           0.4,
           60
          ]
         ]
        }
       ],
       "layout": {
        "coloraxis": {
         "colorscale": [
          [
           0,
           "rgb(255, 198, 196)"
          ],
          [
           0.16666666666666666,
           "rgb(244, 163, 168)"
          ],
          [
           0.3333333333333333,
           "rgb(227, 129, 145)"
          ],
          [
           0.5,
           "rgb(204, 96, 125)"
          ],
          [
           0.6666666666666666,
           "rgb(173, 70, 108)"
          ],
          [
           0.8333333333333334,
           "rgb(139, 48, 88)"
          ],
          [
           1,
           "rgb(103, 32, 68)"
          ]
         ]
        },
        "height": 700,
        "margin": {
         "t": 60
        },
        "template": {
         "data": {
          "bar": [
           {
            "error_x": {
             "color": "#2a3f5f"
            },
            "error_y": {
             "color": "#2a3f5f"
            },
            "marker": {
             "line": {
              "color": "#E5ECF6",
              "width": 0.5
             },
             "pattern": {
              "fillmode": "overlay",
              "size": 10,
              "solidity": 0.2
             }
            },
            "type": "bar"
           }
          ],
          "barpolar": [
           {
            "marker": {
             "line": {
              "color": "#E5ECF6",
              "width": 0.5
             },
             "pattern": {
              "fillmode": "overlay",
              "size": 10,
              "solidity": 0.2
             }
            },
            "type": "barpolar"
           }
          ],
          "carpet": [
           {
            "aaxis": {
             "endlinecolor": "#2a3f5f",
             "gridcolor": "white",
             "linecolor": "white",
             "minorgridcolor": "white",
             "startlinecolor": "#2a3f5f"
            },
            "baxis": {
             "endlinecolor": "#2a3f5f",
             "gridcolor": "white",
             "linecolor": "white",
             "minorgridcolor": "white",
             "startlinecolor": "#2a3f5f"
            },
            "type": "carpet"
           }
          ],
          "choropleth": [
           {
            "colorbar": {
             "outlinewidth": 0,
             "ticks": ""
            },
            "type": "choropleth"
           }
          ],
          "contour": [
           {
            "colorbar": {
             "outlinewidth": 0,
             "ticks": ""
            },
            "colorscale": [
             [
              0,
              "#0d0887"
             ],
             [
              0.1111111111111111,
              "#46039f"
             ],
             [
              0.2222222222222222,
              "#7201a8"
             ],
             [
              0.3333333333333333,
              "#9c179e"
             ],
             [
              0.4444444444444444,
              "#bd3786"
             ],
             [
              0.5555555555555556,
              "#d8576b"
             ],
             [
              0.6666666666666666,
              "#ed7953"
             ],
             [
              0.7777777777777778,
              "#fb9f3a"
             ],
             [
              0.8888888888888888,
              "#fdca26"
             ],
             [
              1,
              "#f0f921"
             ]
            ],
            "type": "contour"
           }
          ],
          "contourcarpet": [
           {
            "colorbar": {
             "outlinewidth": 0,
             "ticks": ""
            },
            "type": "contourcarpet"
           }
          ],
          "heatmap": [
           {
            "colorbar": {
             "outlinewidth": 0,
             "ticks": ""
            },
            "colorscale": [
             [
              0,
              "#0d0887"
             ],
             [
              0.1111111111111111,
              "#46039f"
             ],
             [
              0.2222222222222222,
              "#7201a8"
             ],
             [
              0.3333333333333333,
              "#9c179e"
             ],
             [
              0.4444444444444444,
              "#bd3786"
             ],
             [
              0.5555555555555556,
              "#d8576b"
             ],
             [
              0.6666666666666666,
              "#ed7953"
             ],
             [
              0.7777777777777778,
              "#fb9f3a"
             ],
             [
              0.8888888888888888,
              "#fdca26"
             ],
             [
              1,
              "#f0f921"
             ]
            ],
            "type": "heatmap"
           }
          ],
          "heatmapgl": [
           {
            "colorbar": {
             "outlinewidth": 0,
             "ticks": ""
            },
            "colorscale": [
             [
              0,
              "#0d0887"
             ],
             [
              0.1111111111111111,
              "#46039f"
             ],
             [
              0.2222222222222222,
              "#7201a8"
             ],
             [
              0.3333333333333333,
              "#9c179e"
             ],
             [
              0.4444444444444444,
              "#bd3786"
             ],
             [
              0.5555555555555556,
              "#d8576b"
             ],
             [
              0.6666666666666666,
              "#ed7953"
             ],
             [
              0.7777777777777778,
              "#fb9f3a"
             ],
             [
              0.8888888888888888,
              "#fdca26"
             ],
             [
              1,
              "#f0f921"
             ]
            ],
            "type": "heatmapgl"
           }
          ],
          "histogram": [
           {
            "marker": {
             "pattern": {
              "fillmode": "overlay",
              "size": 10,
              "solidity": 0.2
             }
            },
            "type": "histogram"
           }
          ],
          "histogram2d": [
           {
            "colorbar": {
             "outlinewidth": 0,
             "ticks": ""
            },
            "colorscale": [
             [
              0,
              "#0d0887"
             ],
             [
              0.1111111111111111,
              "#46039f"
             ],
             [
              0.2222222222222222,
              "#7201a8"
             ],
             [
              0.3333333333333333,
              "#9c179e"
             ],
             [
              0.4444444444444444,
              "#bd3786"
             ],
             [
              0.5555555555555556,
              "#d8576b"
             ],
             [
              0.6666666666666666,
              "#ed7953"
             ],
             [
              0.7777777777777778,
              "#fb9f3a"
             ],
             [
              0.8888888888888888,
              "#fdca26"
             ],
             [
              1,
              "#f0f921"
             ]
            ],
            "type": "histogram2d"
           }
          ],
          "histogram2dcontour": [
           {
            "colorbar": {
             "outlinewidth": 0,
             "ticks": ""
            },
            "colorscale": [
             [
              0,
              "#0d0887"
             ],
             [
              0.1111111111111111,
              "#46039f"
             ],
             [
              0.2222222222222222,
              "#7201a8"
             ],
             [
              0.3333333333333333,
              "#9c179e"
             ],
             [
              0.4444444444444444,
              "#bd3786"
             ],
             [
              0.5555555555555556,
              "#d8576b"
             ],
             [
              0.6666666666666666,
              "#ed7953"
             ],
             [
              0.7777777777777778,
              "#fb9f3a"
             ],
             [
              0.8888888888888888,
              "#fdca26"
             ],
             [
              1,
              "#f0f921"
             ]
            ],
            "type": "histogram2dcontour"
           }
          ],
          "mesh3d": [
           {
            "colorbar": {
             "outlinewidth": 0,
             "ticks": ""
            },
            "type": "mesh3d"
           }
          ],
          "parcoords": [
           {
            "line": {
             "colorbar": {
              "outlinewidth": 0,
              "ticks": ""
             }
            },
            "type": "parcoords"
           }
          ],
          "pie": [
           {
            "automargin": true,
            "type": "pie"
           }
          ],
          "scatter": [
           {
            "fillpattern": {
             "fillmode": "overlay",
             "size": 10,
             "solidity": 0.2
            },
            "type": "scatter"
           }
          ],
          "scatter3d": [
           {
            "line": {
             "colorbar": {
              "outlinewidth": 0,
              "ticks": ""
             }
            },
            "marker": {
             "colorbar": {
              "outlinewidth": 0,
              "ticks": ""
             }
            },
            "type": "scatter3d"
           }
          ],
          "scattercarpet": [
           {
            "marker": {
             "colorbar": {
              "outlinewidth": 0,
              "ticks": ""
             }
            },
            "type": "scattercarpet"
           }
          ],
          "scattergeo": [
           {
            "marker": {
             "colorbar": {
              "outlinewidth": 0,
              "ticks": ""
             }
            },
            "type": "scattergeo"
           }
          ],
          "scattergl": [
           {
            "marker": {
             "colorbar": {
              "outlinewidth": 0,
              "ticks": ""
             }
            },
            "type": "scattergl"
           }
          ],
          "scattermapbox": [
           {
            "marker": {
             "colorbar": {
              "outlinewidth": 0,
              "ticks": ""
             }
            },
            "type": "scattermapbox"
           }
          ],
          "scatterpolar": [
           {
            "marker": {
             "colorbar": {
              "outlinewidth": 0,
              "ticks": ""
             }
            },
            "type": "scatterpolar"
           }
          ],
          "scatterpolargl": [
           {
            "marker": {
             "colorbar": {
              "outlinewidth": 0,
              "ticks": ""
             }
            },
            "type": "scatterpolargl"
           }
          ],
          "scatterternary": [
           {
            "marker": {
             "colorbar": {
              "outlinewidth": 0,
              "ticks": ""
             }
            },
            "type": "scatterternary"
           }
          ],
          "surface": [
           {
            "colorbar": {
             "outlinewidth": 0,
             "ticks": ""
            },
            "colorscale": [
             [
              0,
              "#0d0887"
             ],
             [
              0.1111111111111111,
              "#46039f"
             ],
             [
              0.2222222222222222,
              "#7201a8"
             ],
             [
              0.3333333333333333,
              "#9c179e"
             ],
             [
              0.4444444444444444,
              "#bd3786"
             ],
             [
              0.5555555555555556,
              "#d8576b"
             ],
             [
              0.6666666666666666,
              "#ed7953"
             ],
             [
              0.7777777777777778,
              "#fb9f3a"
             ],
             [
              0.8888888888888888,
              "#fdca26"
             ],
             [
              1,
              "#f0f921"
             ]
            ],
            "type": "surface"
           }
          ],
          "table": [
           {
            "cells": {
             "fill": {
              "color": "#EBF0F8"
             },
             "line": {
              "color": "white"
             }
            },
            "header": {
             "fill": {
              "color": "#C8D4E3"
             },
             "line": {
              "color": "white"
             }
            },
            "type": "table"
           }
          ]
         },
         "layout": {
          "annotationdefaults": {
           "arrowcolor": "#2a3f5f",
           "arrowhead": 0,
           "arrowwidth": 1
          },
          "autotypenumbers": "strict",
          "coloraxis": {
           "colorbar": {
            "outlinewidth": 0,
            "ticks": ""
           }
          },
          "colorscale": {
           "diverging": [
            [
             0,
             "#8e0152"
            ],
            [
             0.1,
             "#c51b7d"
            ],
            [
             0.2,
             "#de77ae"
            ],
            [
             0.3,
             "#f1b6da"
            ],
            [
             0.4,
             "#fde0ef"
            ],
            [
             0.5,
             "#f7f7f7"
            ],
            [
             0.6,
             "#e6f5d0"
            ],
            [
             0.7,
             "#b8e186"
            ],
            [
             0.8,
             "#7fbc41"
            ],
            [
             0.9,
             "#4d9221"
            ],
            [
             1,
             "#276419"
            ]
           ],
           "sequential": [
            [
             0,
             "#0d0887"
            ],
            [
             0.1111111111111111,
             "#46039f"
            ],
            [
             0.2222222222222222,
             "#7201a8"
            ],
            [
             0.3333333333333333,
             "#9c179e"
            ],
            [
             0.4444444444444444,
             "#bd3786"
            ],
            [
             0.5555555555555556,
             "#d8576b"
            ],
            [
             0.6666666666666666,
             "#ed7953"
            ],
            [
             0.7777777777777778,
             "#fb9f3a"
            ],
            [
             0.8888888888888888,
             "#fdca26"
            ],
            [
             1,
             "#f0f921"
            ]
           ],
           "sequentialminus": [
            [
             0,
             "#0d0887"
            ],
            [
             0.1111111111111111,
             "#46039f"
            ],
            [
             0.2222222222222222,
             "#7201a8"
            ],
            [
             0.3333333333333333,
             "#9c179e"
            ],
            [
             0.4444444444444444,
             "#bd3786"
            ],
            [
             0.5555555555555556,
             "#d8576b"
            ],
            [
             0.6666666666666666,
             "#ed7953"
            ],
            [
             0.7777777777777778,
             "#fb9f3a"
            ],
            [
             0.8888888888888888,
             "#fdca26"
            ],
            [
             1,
             "#f0f921"
            ]
           ]
          },
          "colorway": [
           "#636efa",
           "#EF553B",
           "#00cc96",
           "#ab63fa",
           "#FFA15A",
           "#19d3f3",
           "#FF6692",
           "#B6E880",
           "#FF97FF",
           "#FECB52"
          ],
          "font": {
           "color": "#2a3f5f"
          },
          "geo": {
           "bgcolor": "white",
           "lakecolor": "white",
           "landcolor": "#E5ECF6",
           "showlakes": true,
           "showland": true,
           "subunitcolor": "white"
          },
          "hoverlabel": {
           "align": "left"
          },
          "hovermode": "closest",
          "mapbox": {
           "style": "light"
          },
          "paper_bgcolor": "white",
          "plot_bgcolor": "#E5ECF6",
          "polar": {
           "angularaxis": {
            "gridcolor": "white",
            "linecolor": "white",
            "ticks": ""
           },
           "bgcolor": "#E5ECF6",
           "radialaxis": {
            "gridcolor": "white",
            "linecolor": "white",
            "ticks": ""
           }
          },
          "scene": {
           "xaxis": {
            "backgroundcolor": "#E5ECF6",
            "gridcolor": "white",
            "gridwidth": 2,
            "linecolor": "white",
            "showbackground": true,
            "ticks": "",
            "zerolinecolor": "white"
           },
           "yaxis": {
            "backgroundcolor": "#E5ECF6",
            "gridcolor": "white",
            "gridwidth": 2,
            "linecolor": "white",
            "showbackground": true,
            "ticks": "",
            "zerolinecolor": "white"
           },
           "zaxis": {
            "backgroundcolor": "#E5ECF6",
            "gridcolor": "white",
            "gridwidth": 2,
            "linecolor": "white",
            "showbackground": true,
            "ticks": "",
            "zerolinecolor": "white"
           }
          },
          "shapedefaults": {
           "line": {
            "color": "#2a3f5f"
           }
          },
          "ternary": {
           "aaxis": {
            "gridcolor": "white",
            "linecolor": "white",
            "ticks": ""
           },
           "baxis": {
            "gridcolor": "white",
            "linecolor": "white",
            "ticks": ""
           },
           "bgcolor": "#E5ECF6",
           "caxis": {
            "gridcolor": "white",
            "linecolor": "white",
            "ticks": ""
           }
          },
          "title": {
           "x": 0.05
          },
          "xaxis": {
           "automargin": true,
           "gridcolor": "white",
           "linecolor": "white",
           "ticks": "",
           "title": {
            "standoff": 15
           },
           "zerolinecolor": "white",
           "zerolinewidth": 2
          },
          "yaxis": {
           "automargin": true,
           "gridcolor": "white",
           "linecolor": "white",
           "ticks": "",
           "title": {
            "standoff": 15
           },
           "zerolinecolor": "white",
           "zerolinewidth": 2
          }
         }
        },
        "width": 700,
        "xaxis": {
         "anchor": "y",
         "constrain": "domain",
         "domain": [
          0,
          1
         ],
         "scaleanchor": "y",
         "side": "top",
         "title": {
          "text": "Prediction"
         }
        },
        "yaxis": {
         "anchor": "x",
         "autorange": "reversed",
         "constrain": "domain",
         "domain": [
          0,
          1
         ],
         "title": {
          "text": "Class"
         }
        }
       }
      }
     },
     "metadata": {},
     "output_type": "display_data"
    }
   ],
   "source": [
    "fig = px.imshow(c_mat,\n",
    "                labels=dict(x=\"Prediction\", y=\"Class\"),\n",
    "                x=available_classes_r,\n",
    "                y=available_classes_r,\n",
    "                text_auto=True, \n",
    "            #    aspect=\"auto\",\n",
    "                color_continuous_scale=px.colors.sequential.Burg,\n",
    "                width=700,\n",
    "                height=700,\n",
    "               )\n",
    "fig.update_xaxes(side=\"top\")\n",
    "\n",
    "# fig['layout']['xaxis']['autorange'] = \"reversed\"\n",
    "\n",
    "fig.show()"
   ]
  },
  {
   "cell_type": "code",
   "execution_count": 29,
   "metadata": {},
   "outputs": [
    {
     "data": {
      "text/plain": [
       "{'sett': {'precision': 0.06451612903225806,\n",
       "  'recall': 0.004,\n",
       "  'f1-score': 0.007532956685499058,\n",
       "  'support': 500.0},\n",
       " 'paving_stones': {'precision': 0.6398763523956723,\n",
       "  'recall': 0.828,\n",
       "  'f1-score': 0.7218831734960767,\n",
       "  'support': 500.0},\n",
       " 'ground': {'precision': 0.41395793499043976,\n",
       "  'recall': 0.866,\n",
       "  'f1-score': 0.5601552393272963,\n",
       "  'support': 500.0},\n",
       " 'gravel': {'precision': 0.9068736141906873,\n",
       "  'recall': 0.818,\n",
       "  'f1-score': 0.8601472134595163,\n",
       "  'support': 500.0},\n",
       " 'grass': {'precision': 0.9393939393939394,\n",
       "  'recall': 0.992,\n",
       "  'f1-score': 0.9649805447470817,\n",
       "  'support': 500.0},\n",
       " 'concrete_plates': {'precision': 0.6904761904761905,\n",
       "  'recall': 0.232,\n",
       "  'f1-score': 0.3473053892215569,\n",
       "  'support': 500.0},\n",
       " 'concrete': {'precision': 0.49930651872399445,\n",
       "  'recall': 0.72,\n",
       "  'f1-score': 0.5896805896805897,\n",
       "  'support': 500.0},\n",
       " 'compacted': {'precision': 0.0,\n",
       "  'recall': 0.0,\n",
       "  'f1-score': 0.0,\n",
       "  'support': 500.0},\n",
       " 'cobblestone': {'precision': 0.4937142857142857,\n",
       "  'recall': 0.864,\n",
       "  'f1-score': 0.6283636363636363,\n",
       "  'support': 500.0},\n",
       " 'asphalt': {'precision': 0.6396588486140725,\n",
       "  'recall': 0.6,\n",
       "  'f1-score': 0.6191950464396285,\n",
       "  'support': 500.0},\n",
       " 'accuracy': 0.5924,\n",
       " 'macro avg': {'precision': 0.528777381353154,\n",
       "  'recall': 0.5923999999999999,\n",
       "  'f1-score': 0.5299243789420882,\n",
       "  'support': 5000.0},\n",
       " 'weighted avg': {'precision': 0.528777381353154,\n",
       "  'recall': 0.5924,\n",
       "  'f1-score': 0.5299243789420881,\n",
       "  'support': 5000.0}}"
      ]
     },
     "execution_count": 29,
     "metadata": {},
     "output_type": "execute_result"
    }
   ],
   "source": [
    "classification_report(\n",
    "    true_labels,\n",
    "    predicted_labels,\n",
    "    labels=available_classes_r,\n",
    "    output_dict=True\n",
    ")"
   ]
  },
  {
   "cell_type": "code",
   "execution_count": 30,
   "metadata": {},
   "outputs": [
    {
     "data": {
      "text/plain": [
       "74.05"
      ]
     },
     "execution_count": 30,
     "metadata": {},
     "output_type": "execute_result"
    }
   ],
   "source": [
    "c_mat.diagonal().sum() / (len(available_models))"
   ]
  }
 ],
 "metadata": {
  "kernelspec": {
   "display_name": ".venv",
   "language": "python",
   "name": "python3"
  },
  "language_info": {
   "codemirror_mode": {
    "name": "ipython",
    "version": 3
   },
   "file_extension": ".py",
   "mimetype": "text/x-python",
   "name": "python",
   "nbconvert_exporter": "python",
   "pygments_lexer": "ipython3",
   "version": "3.12.1"
  }
 },
 "nbformat": 4,
 "nbformat_minor": 2
}
