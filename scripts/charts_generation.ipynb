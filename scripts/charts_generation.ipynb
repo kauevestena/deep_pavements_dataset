{
 "cells": [
  {
   "cell_type": "code",
   "execution_count": 1,
   "metadata": {},
   "outputs": [],
   "source": [
    "import sys\n",
    "sys.path.append('scripts')\n",
    "from lib import *\n",
    "from sklearn.metrics import confusion_matrix, classification_report\n",
    "from math import ceil\n",
    "import plotly.express as px\n",
    "from plotly.subplots import make_subplots\n",
    "import plotly.graph_objects as go"
   ]
  },
  {
   "cell_type": "code",
   "execution_count": 2,
   "metadata": {},
   "outputs": [],
   "source": [
    "dfs, available_classes, available_models = read_raw_reports(os.path.join('..',raw_reports_path))\n",
    "\n",
    "# replacing spaces with underscores:\n",
    "available_classes = [cname.replace(' ', '_') for cname in available_classes]"
   ]
  },
  {
   "cell_type": "code",
   "execution_count": 3,
   "metadata": {},
   "outputs": [],
   "source": [
    "# having it reverse for plot:\n",
    "available_classes_r = available_classes[::-1]\n",
    "\n",
    "available_classes_r_upper = [cname.upper() for cname in available_classes_r]"
   ]
  },
  {
   "cell_type": "code",
   "execution_count": 4,
   "metadata": {},
   "outputs": [
    {
     "data": {
      "text/plain": [
       "['ViT-bigG-14-CLIPA-336',\n",
       " 'ViT-L_14',\n",
       " 'ViT-SO400M-14-SigLIP-384',\n",
       " 'ViT-H-14-378-quickgelu',\n",
       " 'RN50x64',\n",
       " 'ViT-B_32',\n",
       " 'EVA02-E-14-plus',\n",
       " 'RN101']"
      ]
     },
     "execution_count": 4,
     "metadata": {},
     "output_type": "execute_result"
    }
   ],
   "source": [
    "available_models"
   ]
  },
  {
   "cell_type": "code",
   "execution_count": 5,
   "metadata": {},
   "outputs": [
    {
     "data": {
      "text/plain": [
       "['asphalt',\n",
       " 'concrete',\n",
       " 'concrete_plates',\n",
       " 'grass',\n",
       " 'ground',\n",
       " 'paving_stones',\n",
       " 'sett']"
      ]
     },
     "execution_count": 5,
     "metadata": {},
     "output_type": "execute_result"
    }
   ],
   "source": [
    "available_classes"
   ]
  },
  {
   "cell_type": "code",
   "execution_count": 6,
   "metadata": {},
   "outputs": [],
   "source": [
    "all_dfs = []\n",
    "modelwise_dfs = {}\n",
    "\n",
    "for class_dict in dfs:\n",
    "    for model_name in dfs[class_dict]:\n",
    "        model_df = dfs[class_dict][model_name]\n",
    "        all_dfs.append(model_df)\n",
    "\n",
    "        if not model_name in modelwise_dfs:\n",
    "            modelwise_dfs[model_name] = []\n",
    "\n",
    "        modelwise_dfs[model_name].append(model_df)\n",
    "\n",
    "\n",
    "for model_name in modelwise_dfs:\n",
    "    modelwise_dfs[model_name] = pd.concat(modelwise_dfs[model_name]).copy()"
   ]
  },
  {
   "cell_type": "code",
   "execution_count": 7,
   "metadata": {},
   "outputs": [
    {
     "data": {
      "text/plain": [
       "{'EVA02-E-14-plus': 2619,\n",
       " 'RN101': 2619,\n",
       " 'RN50x64': 2619,\n",
       " 'ViT-bigG-14-CLIPA-336': 2619,\n",
       " 'ViT-B_32': 2619,\n",
       " 'ViT-H-14-378-quickgelu': 2619,\n",
       " 'ViT-L_14': 2619,\n",
       " 'ViT-SO400M-14-SigLIP-384': 2619}"
      ]
     },
     "execution_count": 7,
     "metadata": {},
     "output_type": "execute_result"
    }
   ],
   "source": [
    "{model_name: len(modelwise_dfs[model_name]) for model_name in modelwise_dfs}"
   ]
  },
  {
   "cell_type": "code",
   "execution_count": 8,
   "metadata": {},
   "outputs": [],
   "source": [
    "merged_df = pd.concat(all_dfs)"
   ]
  },
  {
   "cell_type": "code",
   "execution_count": 9,
   "metadata": {},
   "outputs": [],
   "source": [
    "true_classes = merged_df.groupby('image_name').agg('first')[class_label] #.str.replace('_', ' ')\n",
    "merged_pred = merged_df.groupby('image_name').sum(numeric_only=True)\n",
    "\n",
    "merged_pred[prediction_label] = merged_pred.idxmax(axis=1)\n",
    "merged_pred[class_label] = true_classes\n"
   ]
  },
  {
   "cell_type": "code",
   "execution_count": 10,
   "metadata": {},
   "outputs": [
    {
     "data": {
      "text/html": [
       "<div>\n",
       "<style scoped>\n",
       "    .dataframe tbody tr th:only-of-type {\n",
       "        vertical-align: middle;\n",
       "    }\n",
       "\n",
       "    .dataframe tbody tr th {\n",
       "        vertical-align: top;\n",
       "    }\n",
       "\n",
       "    .dataframe thead th {\n",
       "        text-align: right;\n",
       "    }\n",
       "</style>\n",
       "<table border=\"1\" class=\"dataframe\">\n",
       "  <thead>\n",
       "    <tr style=\"text-align: right;\">\n",
       "      <th></th>\n",
       "      <th>asphalt</th>\n",
       "      <th>concrete</th>\n",
       "      <th>concrete_plates</th>\n",
       "      <th>grass</th>\n",
       "      <th>ground</th>\n",
       "      <th>paving_stones</th>\n",
       "      <th>sett</th>\n",
       "      <th>prediction</th>\n",
       "      <th>class</th>\n",
       "    </tr>\n",
       "    <tr>\n",
       "      <th>image_name</th>\n",
       "      <th></th>\n",
       "      <th></th>\n",
       "      <th></th>\n",
       "      <th></th>\n",
       "      <th></th>\n",
       "      <th></th>\n",
       "      <th></th>\n",
       "      <th></th>\n",
       "      <th></th>\n",
       "    </tr>\n",
       "  </thead>\n",
       "  <tbody>\n",
       "    <tr>\n",
       "      <th>00098db7c6cd6ee36d590ff0d5db7ad1.png</th>\n",
       "      <td>0.213754</td>\n",
       "      <td>3.985507</td>\n",
       "      <td>0.961183</td>\n",
       "      <td>0.019217</td>\n",
       "      <td>0.534829</td>\n",
       "      <td>1.280490</td>\n",
       "      <td>0.005109</td>\n",
       "      <td>concrete</td>\n",
       "      <td>concrete</td>\n",
       "    </tr>\n",
       "    <tr>\n",
       "      <th>00157343508e08f1dbc0efc1f8066f3d.png</th>\n",
       "      <td>0.601964</td>\n",
       "      <td>0.216773</td>\n",
       "      <td>0.454248</td>\n",
       "      <td>0.994805</td>\n",
       "      <td>2.932286</td>\n",
       "      <td>1.649854</td>\n",
       "      <td>0.149998</td>\n",
       "      <td>ground</td>\n",
       "      <td>ground</td>\n",
       "    </tr>\n",
       "    <tr>\n",
       "      <th>003a08eff81fe589f95102bf2ce1ecf5.png</th>\n",
       "      <td>0.007631</td>\n",
       "      <td>0.002122</td>\n",
       "      <td>0.013925</td>\n",
       "      <td>5.955048</td>\n",
       "      <td>0.965288</td>\n",
       "      <td>0.043469</td>\n",
       "      <td>0.012785</td>\n",
       "      <td>grass</td>\n",
       "      <td>grass</td>\n",
       "    </tr>\n",
       "    <tr>\n",
       "      <th>005b94f55127ae460c0741eac3a89b25.png</th>\n",
       "      <td>4.938634</td>\n",
       "      <td>0.277412</td>\n",
       "      <td>1.465858</td>\n",
       "      <td>0.012804</td>\n",
       "      <td>0.181552</td>\n",
       "      <td>0.108702</td>\n",
       "      <td>0.015524</td>\n",
       "      <td>asphalt</td>\n",
       "      <td>asphalt</td>\n",
       "    </tr>\n",
       "    <tr>\n",
       "      <th>006d04cdfa79fac8f108a0a1cd34d0f8.png</th>\n",
       "      <td>0.018306</td>\n",
       "      <td>0.004128</td>\n",
       "      <td>0.016005</td>\n",
       "      <td>6.087209</td>\n",
       "      <td>0.791766</td>\n",
       "      <td>0.057336</td>\n",
       "      <td>0.025230</td>\n",
       "      <td>grass</td>\n",
       "      <td>grass</td>\n",
       "    </tr>\n",
       "    <tr>\n",
       "      <th>...</th>\n",
       "      <td>...</td>\n",
       "      <td>...</td>\n",
       "      <td>...</td>\n",
       "      <td>...</td>\n",
       "      <td>...</td>\n",
       "      <td>...</td>\n",
       "      <td>...</td>\n",
       "      <td>...</td>\n",
       "      <td>...</td>\n",
       "    </tr>\n",
       "    <tr>\n",
       "      <th>ffbd835981460b0e1b7825681c7b9449.png</th>\n",
       "      <td>0.544958</td>\n",
       "      <td>0.495025</td>\n",
       "      <td>0.475408</td>\n",
       "      <td>0.098204</td>\n",
       "      <td>0.890578</td>\n",
       "      <td>3.950697</td>\n",
       "      <td>0.545128</td>\n",
       "      <td>paving_stones</td>\n",
       "      <td>concrete_plates</td>\n",
       "    </tr>\n",
       "    <tr>\n",
       "      <th>ffd0ab8395fc05d8d14f3cfe8a6a6b4a.png</th>\n",
       "      <td>0.600495</td>\n",
       "      <td>0.556082</td>\n",
       "      <td>0.496194</td>\n",
       "      <td>0.633679</td>\n",
       "      <td>3.802484</td>\n",
       "      <td>0.742776</td>\n",
       "      <td>0.168145</td>\n",
       "      <td>ground</td>\n",
       "      <td>ground</td>\n",
       "    </tr>\n",
       "    <tr>\n",
       "      <th>ffd4bc27fe750ca5fedac61da4f7a397.png</th>\n",
       "      <td>0.428585</td>\n",
       "      <td>0.148436</td>\n",
       "      <td>0.752849</td>\n",
       "      <td>0.359114</td>\n",
       "      <td>3.330605</td>\n",
       "      <td>1.677660</td>\n",
       "      <td>0.302741</td>\n",
       "      <td>ground</td>\n",
       "      <td>ground</td>\n",
       "    </tr>\n",
       "    <tr>\n",
       "      <th>ffeebe48ab30925a6b36cd74dd6228c4.png</th>\n",
       "      <td>0.840501</td>\n",
       "      <td>2.088754</td>\n",
       "      <td>0.988602</td>\n",
       "      <td>1.011774</td>\n",
       "      <td>0.781206</td>\n",
       "      <td>0.251292</td>\n",
       "      <td>1.037581</td>\n",
       "      <td>concrete</td>\n",
       "      <td>concrete</td>\n",
       "    </tr>\n",
       "    <tr>\n",
       "      <th>fff2773854e0aee66f7e0a9ccf671da6.png</th>\n",
       "      <td>0.695587</td>\n",
       "      <td>2.741512</td>\n",
       "      <td>1.657231</td>\n",
       "      <td>0.290738</td>\n",
       "      <td>0.389413</td>\n",
       "      <td>0.467209</td>\n",
       "      <td>0.758292</td>\n",
       "      <td>concrete</td>\n",
       "      <td>concrete</td>\n",
       "    </tr>\n",
       "  </tbody>\n",
       "</table>\n",
       "<p>2619 rows × 9 columns</p>\n",
       "</div>"
      ],
      "text/plain": [
       "                                       asphalt  concrete  concrete_plates  \\\n",
       "image_name                                                                  \n",
       "00098db7c6cd6ee36d590ff0d5db7ad1.png  0.213754  3.985507         0.961183   \n",
       "00157343508e08f1dbc0efc1f8066f3d.png  0.601964  0.216773         0.454248   \n",
       "003a08eff81fe589f95102bf2ce1ecf5.png  0.007631  0.002122         0.013925   \n",
       "005b94f55127ae460c0741eac3a89b25.png  4.938634  0.277412         1.465858   \n",
       "006d04cdfa79fac8f108a0a1cd34d0f8.png  0.018306  0.004128         0.016005   \n",
       "...                                        ...       ...              ...   \n",
       "ffbd835981460b0e1b7825681c7b9449.png  0.544958  0.495025         0.475408   \n",
       "ffd0ab8395fc05d8d14f3cfe8a6a6b4a.png  0.600495  0.556082         0.496194   \n",
       "ffd4bc27fe750ca5fedac61da4f7a397.png  0.428585  0.148436         0.752849   \n",
       "ffeebe48ab30925a6b36cd74dd6228c4.png  0.840501  2.088754         0.988602   \n",
       "fff2773854e0aee66f7e0a9ccf671da6.png  0.695587  2.741512         1.657231   \n",
       "\n",
       "                                         grass    ground  paving_stones  \\\n",
       "image_name                                                                \n",
       "00098db7c6cd6ee36d590ff0d5db7ad1.png  0.019217  0.534829       1.280490   \n",
       "00157343508e08f1dbc0efc1f8066f3d.png  0.994805  2.932286       1.649854   \n",
       "003a08eff81fe589f95102bf2ce1ecf5.png  5.955048  0.965288       0.043469   \n",
       "005b94f55127ae460c0741eac3a89b25.png  0.012804  0.181552       0.108702   \n",
       "006d04cdfa79fac8f108a0a1cd34d0f8.png  6.087209  0.791766       0.057336   \n",
       "...                                        ...       ...            ...   \n",
       "ffbd835981460b0e1b7825681c7b9449.png  0.098204  0.890578       3.950697   \n",
       "ffd0ab8395fc05d8d14f3cfe8a6a6b4a.png  0.633679  3.802484       0.742776   \n",
       "ffd4bc27fe750ca5fedac61da4f7a397.png  0.359114  3.330605       1.677660   \n",
       "ffeebe48ab30925a6b36cd74dd6228c4.png  1.011774  0.781206       0.251292   \n",
       "fff2773854e0aee66f7e0a9ccf671da6.png  0.290738  0.389413       0.467209   \n",
       "\n",
       "                                          sett     prediction            class  \n",
       "image_name                                                                      \n",
       "00098db7c6cd6ee36d590ff0d5db7ad1.png  0.005109       concrete         concrete  \n",
       "00157343508e08f1dbc0efc1f8066f3d.png  0.149998         ground           ground  \n",
       "003a08eff81fe589f95102bf2ce1ecf5.png  0.012785          grass            grass  \n",
       "005b94f55127ae460c0741eac3a89b25.png  0.015524        asphalt          asphalt  \n",
       "006d04cdfa79fac8f108a0a1cd34d0f8.png  0.025230          grass            grass  \n",
       "...                                        ...            ...              ...  \n",
       "ffbd835981460b0e1b7825681c7b9449.png  0.545128  paving_stones  concrete_plates  \n",
       "ffd0ab8395fc05d8d14f3cfe8a6a6b4a.png  0.168145         ground           ground  \n",
       "ffd4bc27fe750ca5fedac61da4f7a397.png  0.302741         ground           ground  \n",
       "ffeebe48ab30925a6b36cd74dd6228c4.png  1.037581       concrete         concrete  \n",
       "fff2773854e0aee66f7e0a9ccf671da6.png  0.758292       concrete         concrete  \n",
       "\n",
       "[2619 rows x 9 columns]"
      ]
     },
     "execution_count": 10,
     "metadata": {},
     "output_type": "execute_result"
    }
   ],
   "source": [
    "merged_pred"
   ]
  },
  {
   "cell_type": "code",
   "execution_count": 11,
   "metadata": {},
   "outputs": [],
   "source": [
    "true_labels =      merged_pred[class_label]#.tolist()\n",
    "predicted_labels = merged_pred[prediction_label]#.tolist()\n",
    "\n",
    "c_mat = confusion_matrix(true_labels,\n",
    "                         predicted_labels,\n",
    "                         labels=available_classes_r,\n",
    "                           normalize='true'\n",
    "                           ) * 100\n",
    "c_mat = c_mat.round(3)"
   ]
  },
  {
   "cell_type": "code",
   "execution_count": 12,
   "metadata": {},
   "outputs": [
    {
     "data": {
      "application/vnd.plotly.v1+json": {
       "config": {
        "plotlyServerURL": "https://plot.ly"
       },
       "data": [
        {
         "coloraxis": "coloraxis",
         "hovertemplate": "Prediction: %{x}<br>Class: %{y}<br>color: %{z}<extra></extra>",
         "name": "0",
         "texttemplate": "%{z}",
         "type": "heatmap",
         "x": [
          "sett",
          "paving_stones",
          "ground",
          "grass",
          "concrete_plates",
          "concrete",
          "asphalt"
         ],
         "xaxis": "x",
         "y": [
          "sett",
          "paving_stones",
          "ground",
          "grass",
          "concrete_plates",
          "concrete",
          "asphalt"
         ],
         "yaxis": "y",
         "z": [
          [
           0,
           84.104,
           11.85,
           0.289,
           0.578,
           2.023,
           1.156
          ],
          [
           0,
           97.885,
           0.604,
           0,
           0,
           0.302,
           1.208
          ],
          [
           0,
           0.212,
           98.729,
           0,
           0,
           0,
           1.059
          ],
          [
           0,
           0,
           1.096,
           98.904,
           0,
           0,
           0
          ],
          [
           0,
           49.714,
           20,
           2.857,
           15.429,
           9.143,
           2.857
          ],
          [
           2.332,
           2.332,
           8.808,
           2.073,
           4.404,
           72.539,
           7.513
          ],
          [
           1.325,
           0,
           13.466,
           5.96,
           2.649,
           22.517,
           54.084
          ]
         ]
        }
       ],
       "layout": {
        "coloraxis": {
         "colorscale": [
          [
           0,
           "rgb(255, 198, 196)"
          ],
          [
           0.16666666666666666,
           "rgb(244, 163, 168)"
          ],
          [
           0.3333333333333333,
           "rgb(227, 129, 145)"
          ],
          [
           0.5,
           "rgb(204, 96, 125)"
          ],
          [
           0.6666666666666666,
           "rgb(173, 70, 108)"
          ],
          [
           0.8333333333333334,
           "rgb(139, 48, 88)"
          ],
          [
           1,
           "rgb(103, 32, 68)"
          ]
         ]
        },
        "height": 700,
        "margin": {
         "t": 60
        },
        "template": {
         "data": {
          "bar": [
           {
            "error_x": {
             "color": "#2a3f5f"
            },
            "error_y": {
             "color": "#2a3f5f"
            },
            "marker": {
             "line": {
              "color": "#E5ECF6",
              "width": 0.5
             },
             "pattern": {
              "fillmode": "overlay",
              "size": 10,
              "solidity": 0.2
             }
            },
            "type": "bar"
           }
          ],
          "barpolar": [
           {
            "marker": {
             "line": {
              "color": "#E5ECF6",
              "width": 0.5
             },
             "pattern": {
              "fillmode": "overlay",
              "size": 10,
              "solidity": 0.2
             }
            },
            "type": "barpolar"
           }
          ],
          "carpet": [
           {
            "aaxis": {
             "endlinecolor": "#2a3f5f",
             "gridcolor": "white",
             "linecolor": "white",
             "minorgridcolor": "white",
             "startlinecolor": "#2a3f5f"
            },
            "baxis": {
             "endlinecolor": "#2a3f5f",
             "gridcolor": "white",
             "linecolor": "white",
             "minorgridcolor": "white",
             "startlinecolor": "#2a3f5f"
            },
            "type": "carpet"
           }
          ],
          "choropleth": [
           {
            "colorbar": {
             "outlinewidth": 0,
             "ticks": ""
            },
            "type": "choropleth"
           }
          ],
          "contour": [
           {
            "colorbar": {
             "outlinewidth": 0,
             "ticks": ""
            },
            "colorscale": [
             [
              0,
              "#0d0887"
             ],
             [
              0.1111111111111111,
              "#46039f"
             ],
             [
              0.2222222222222222,
              "#7201a8"
             ],
             [
              0.3333333333333333,
              "#9c179e"
             ],
             [
              0.4444444444444444,
              "#bd3786"
             ],
             [
              0.5555555555555556,
              "#d8576b"
             ],
             [
              0.6666666666666666,
              "#ed7953"
             ],
             [
              0.7777777777777778,
              "#fb9f3a"
             ],
             [
              0.8888888888888888,
              "#fdca26"
             ],
             [
              1,
              "#f0f921"
             ]
            ],
            "type": "contour"
           }
          ],
          "contourcarpet": [
           {
            "colorbar": {
             "outlinewidth": 0,
             "ticks": ""
            },
            "type": "contourcarpet"
           }
          ],
          "heatmap": [
           {
            "colorbar": {
             "outlinewidth": 0,
             "ticks": ""
            },
            "colorscale": [
             [
              0,
              "#0d0887"
             ],
             [
              0.1111111111111111,
              "#46039f"
             ],
             [
              0.2222222222222222,
              "#7201a8"
             ],
             [
              0.3333333333333333,
              "#9c179e"
             ],
             [
              0.4444444444444444,
              "#bd3786"
             ],
             [
              0.5555555555555556,
              "#d8576b"
             ],
             [
              0.6666666666666666,
              "#ed7953"
             ],
             [
              0.7777777777777778,
              "#fb9f3a"
             ],
             [
              0.8888888888888888,
              "#fdca26"
             ],
             [
              1,
              "#f0f921"
             ]
            ],
            "type": "heatmap"
           }
          ],
          "heatmapgl": [
           {
            "colorbar": {
             "outlinewidth": 0,
             "ticks": ""
            },
            "colorscale": [
             [
              0,
              "#0d0887"
             ],
             [
              0.1111111111111111,
              "#46039f"
             ],
             [
              0.2222222222222222,
              "#7201a8"
             ],
             [
              0.3333333333333333,
              "#9c179e"
             ],
             [
              0.4444444444444444,
              "#bd3786"
             ],
             [
              0.5555555555555556,
              "#d8576b"
             ],
             [
              0.6666666666666666,
              "#ed7953"
             ],
             [
              0.7777777777777778,
              "#fb9f3a"
             ],
             [
              0.8888888888888888,
              "#fdca26"
             ],
             [
              1,
              "#f0f921"
             ]
            ],
            "type": "heatmapgl"
           }
          ],
          "histogram": [
           {
            "marker": {
             "pattern": {
              "fillmode": "overlay",
              "size": 10,
              "solidity": 0.2
             }
            },
            "type": "histogram"
           }
          ],
          "histogram2d": [
           {
            "colorbar": {
             "outlinewidth": 0,
             "ticks": ""
            },
            "colorscale": [
             [
              0,
              "#0d0887"
             ],
             [
              0.1111111111111111,
              "#46039f"
             ],
             [
              0.2222222222222222,
              "#7201a8"
             ],
             [
              0.3333333333333333,
              "#9c179e"
             ],
             [
              0.4444444444444444,
              "#bd3786"
             ],
             [
              0.5555555555555556,
              "#d8576b"
             ],
             [
              0.6666666666666666,
              "#ed7953"
             ],
             [
              0.7777777777777778,
              "#fb9f3a"
             ],
             [
              0.8888888888888888,
              "#fdca26"
             ],
             [
              1,
              "#f0f921"
             ]
            ],
            "type": "histogram2d"
           }
          ],
          "histogram2dcontour": [
           {
            "colorbar": {
             "outlinewidth": 0,
             "ticks": ""
            },
            "colorscale": [
             [
              0,
              "#0d0887"
             ],
             [
              0.1111111111111111,
              "#46039f"
             ],
             [
              0.2222222222222222,
              "#7201a8"
             ],
             [
              0.3333333333333333,
              "#9c179e"
             ],
             [
              0.4444444444444444,
              "#bd3786"
             ],
             [
              0.5555555555555556,
              "#d8576b"
             ],
             [
              0.6666666666666666,
              "#ed7953"
             ],
             [
              0.7777777777777778,
              "#fb9f3a"
             ],
             [
              0.8888888888888888,
              "#fdca26"
             ],
             [
              1,
              "#f0f921"
             ]
            ],
            "type": "histogram2dcontour"
           }
          ],
          "mesh3d": [
           {
            "colorbar": {
             "outlinewidth": 0,
             "ticks": ""
            },
            "type": "mesh3d"
           }
          ],
          "parcoords": [
           {
            "line": {
             "colorbar": {
              "outlinewidth": 0,
              "ticks": ""
             }
            },
            "type": "parcoords"
           }
          ],
          "pie": [
           {
            "automargin": true,
            "type": "pie"
           }
          ],
          "scatter": [
           {
            "fillpattern": {
             "fillmode": "overlay",
             "size": 10,
             "solidity": 0.2
            },
            "type": "scatter"
           }
          ],
          "scatter3d": [
           {
            "line": {
             "colorbar": {
              "outlinewidth": 0,
              "ticks": ""
             }
            },
            "marker": {
             "colorbar": {
              "outlinewidth": 0,
              "ticks": ""
             }
            },
            "type": "scatter3d"
           }
          ],
          "scattercarpet": [
           {
            "marker": {
             "colorbar": {
              "outlinewidth": 0,
              "ticks": ""
             }
            },
            "type": "scattercarpet"
           }
          ],
          "scattergeo": [
           {
            "marker": {
             "colorbar": {
              "outlinewidth": 0,
              "ticks": ""
             }
            },
            "type": "scattergeo"
           }
          ],
          "scattergl": [
           {
            "marker": {
             "colorbar": {
              "outlinewidth": 0,
              "ticks": ""
             }
            },
            "type": "scattergl"
           }
          ],
          "scattermapbox": [
           {
            "marker": {
             "colorbar": {
              "outlinewidth": 0,
              "ticks": ""
             }
            },
            "type": "scattermapbox"
           }
          ],
          "scatterpolar": [
           {
            "marker": {
             "colorbar": {
              "outlinewidth": 0,
              "ticks": ""
             }
            },
            "type": "scatterpolar"
           }
          ],
          "scatterpolargl": [
           {
            "marker": {
             "colorbar": {
              "outlinewidth": 0,
              "ticks": ""
             }
            },
            "type": "scatterpolargl"
           }
          ],
          "scatterternary": [
           {
            "marker": {
             "colorbar": {
              "outlinewidth": 0,
              "ticks": ""
             }
            },
            "type": "scatterternary"
           }
          ],
          "surface": [
           {
            "colorbar": {
             "outlinewidth": 0,
             "ticks": ""
            },
            "colorscale": [
             [
              0,
              "#0d0887"
             ],
             [
              0.1111111111111111,
              "#46039f"
             ],
             [
              0.2222222222222222,
              "#7201a8"
             ],
             [
              0.3333333333333333,
              "#9c179e"
             ],
             [
              0.4444444444444444,
              "#bd3786"
             ],
             [
              0.5555555555555556,
              "#d8576b"
             ],
             [
              0.6666666666666666,
              "#ed7953"
             ],
             [
              0.7777777777777778,
              "#fb9f3a"
             ],
             [
              0.8888888888888888,
              "#fdca26"
             ],
             [
              1,
              "#f0f921"
             ]
            ],
            "type": "surface"
           }
          ],
          "table": [
           {
            "cells": {
             "fill": {
              "color": "#EBF0F8"
             },
             "line": {
              "color": "white"
             }
            },
            "header": {
             "fill": {
              "color": "#C8D4E3"
             },
             "line": {
              "color": "white"
             }
            },
            "type": "table"
           }
          ]
         },
         "layout": {
          "annotationdefaults": {
           "arrowcolor": "#2a3f5f",
           "arrowhead": 0,
           "arrowwidth": 1
          },
          "autotypenumbers": "strict",
          "coloraxis": {
           "colorbar": {
            "outlinewidth": 0,
            "ticks": ""
           }
          },
          "colorscale": {
           "diverging": [
            [
             0,
             "#8e0152"
            ],
            [
             0.1,
             "#c51b7d"
            ],
            [
             0.2,
             "#de77ae"
            ],
            [
             0.3,
             "#f1b6da"
            ],
            [
             0.4,
             "#fde0ef"
            ],
            [
             0.5,
             "#f7f7f7"
            ],
            [
             0.6,
             "#e6f5d0"
            ],
            [
             0.7,
             "#b8e186"
            ],
            [
             0.8,
             "#7fbc41"
            ],
            [
             0.9,
             "#4d9221"
            ],
            [
             1,
             "#276419"
            ]
           ],
           "sequential": [
            [
             0,
             "#0d0887"
            ],
            [
             0.1111111111111111,
             "#46039f"
            ],
            [
             0.2222222222222222,
             "#7201a8"
            ],
            [
             0.3333333333333333,
             "#9c179e"
            ],
            [
             0.4444444444444444,
             "#bd3786"
            ],
            [
             0.5555555555555556,
             "#d8576b"
            ],
            [
             0.6666666666666666,
             "#ed7953"
            ],
            [
             0.7777777777777778,
             "#fb9f3a"
            ],
            [
             0.8888888888888888,
             "#fdca26"
            ],
            [
             1,
             "#f0f921"
            ]
           ],
           "sequentialminus": [
            [
             0,
             "#0d0887"
            ],
            [
             0.1111111111111111,
             "#46039f"
            ],
            [
             0.2222222222222222,
             "#7201a8"
            ],
            [
             0.3333333333333333,
             "#9c179e"
            ],
            [
             0.4444444444444444,
             "#bd3786"
            ],
            [
             0.5555555555555556,
             "#d8576b"
            ],
            [
             0.6666666666666666,
             "#ed7953"
            ],
            [
             0.7777777777777778,
             "#fb9f3a"
            ],
            [
             0.8888888888888888,
             "#fdca26"
            ],
            [
             1,
             "#f0f921"
            ]
           ]
          },
          "colorway": [
           "#636efa",
           "#EF553B",
           "#00cc96",
           "#ab63fa",
           "#FFA15A",
           "#19d3f3",
           "#FF6692",
           "#B6E880",
           "#FF97FF",
           "#FECB52"
          ],
          "font": {
           "color": "#2a3f5f"
          },
          "geo": {
           "bgcolor": "white",
           "lakecolor": "white",
           "landcolor": "#E5ECF6",
           "showlakes": true,
           "showland": true,
           "subunitcolor": "white"
          },
          "hoverlabel": {
           "align": "left"
          },
          "hovermode": "closest",
          "mapbox": {
           "style": "light"
          },
          "paper_bgcolor": "white",
          "plot_bgcolor": "#E5ECF6",
          "polar": {
           "angularaxis": {
            "gridcolor": "white",
            "linecolor": "white",
            "ticks": ""
           },
           "bgcolor": "#E5ECF6",
           "radialaxis": {
            "gridcolor": "white",
            "linecolor": "white",
            "ticks": ""
           }
          },
          "scene": {
           "xaxis": {
            "backgroundcolor": "#E5ECF6",
            "gridcolor": "white",
            "gridwidth": 2,
            "linecolor": "white",
            "showbackground": true,
            "ticks": "",
            "zerolinecolor": "white"
           },
           "yaxis": {
            "backgroundcolor": "#E5ECF6",
            "gridcolor": "white",
            "gridwidth": 2,
            "linecolor": "white",
            "showbackground": true,
            "ticks": "",
            "zerolinecolor": "white"
           },
           "zaxis": {
            "backgroundcolor": "#E5ECF6",
            "gridcolor": "white",
            "gridwidth": 2,
            "linecolor": "white",
            "showbackground": true,
            "ticks": "",
            "zerolinecolor": "white"
           }
          },
          "shapedefaults": {
           "line": {
            "color": "#2a3f5f"
           }
          },
          "ternary": {
           "aaxis": {
            "gridcolor": "white",
            "linecolor": "white",
            "ticks": ""
           },
           "baxis": {
            "gridcolor": "white",
            "linecolor": "white",
            "ticks": ""
           },
           "bgcolor": "#E5ECF6",
           "caxis": {
            "gridcolor": "white",
            "linecolor": "white",
            "ticks": ""
           }
          },
          "title": {
           "x": 0.05
          },
          "xaxis": {
           "automargin": true,
           "gridcolor": "white",
           "linecolor": "white",
           "ticks": "",
           "title": {
            "standoff": 15
           },
           "zerolinecolor": "white",
           "zerolinewidth": 2
          },
          "yaxis": {
           "automargin": true,
           "gridcolor": "white",
           "linecolor": "white",
           "ticks": "",
           "title": {
            "standoff": 15
           },
           "zerolinecolor": "white",
           "zerolinewidth": 2
          }
         }
        },
        "width": 700,
        "xaxis": {
         "anchor": "y",
         "constrain": "domain",
         "domain": [
          0,
          1
         ],
         "scaleanchor": "y",
         "side": "top",
         "title": {
          "text": "Prediction"
         }
        },
        "yaxis": {
         "anchor": "x",
         "autorange": "reversed",
         "constrain": "domain",
         "domain": [
          0,
          1
         ],
         "title": {
          "text": "Class"
         }
        }
       }
      }
     },
     "metadata": {},
     "output_type": "display_data"
    }
   ],
   "source": [
    "fig = px.imshow(c_mat,\n",
    "                labels=dict(x=\"Prediction\", y=\"Class\"),\n",
    "                x=available_classes_r,\n",
    "                y=available_classes_r,\n",
    "                text_auto=True, \n",
    "            #    aspect=\"auto\",\n",
    "                color_continuous_scale=px.colors.sequential.Burg,\n",
    "                width=700,\n",
    "                height=700,\n",
    "               )\n",
    "fig.update_xaxes(side=\"top\")\n",
    "\n",
    "# fig['layout']['xaxis']['autorange'] = \"reversed\"\n",
    "\n",
    "fig.show()"
   ]
  },
  {
   "cell_type": "code",
   "execution_count": 13,
   "metadata": {},
   "outputs": [
    {
     "data": {
      "text/plain": [
       "{'sett': {'precision': 0.0, 'recall': 0.0, 'f1-score': 0.0, 'support': 346.0},\n",
       " 'paving_stones': {'precision': 0.4550561797752809,\n",
       "  'recall': 0.9788519637462235,\n",
       "  'f1-score': 0.6212847555129435,\n",
       "  'support': 331.0},\n",
       " 'ground': {'precision': 0.7236024844720497,\n",
       "  'recall': 0.9872881355932204,\n",
       "  'f1-score': 0.8351254480286738,\n",
       "  'support': 472.0},\n",
       " 'grass': {'precision': 0.9166666666666666,\n",
       "  'recall': 0.9890350877192983,\n",
       "  'f1-score': 0.9514767932489452,\n",
       "  'support': 456.0},\n",
       " 'concrete_plates': {'precision': 0.46551724137931033,\n",
       "  'recall': 0.15428571428571428,\n",
       "  'f1-score': 0.2317596566523605,\n",
       "  'support': 175.0},\n",
       " 'concrete': {'precision': 0.6896551724137931,\n",
       "  'recall': 0.7253886010362695,\n",
       "  'f1-score': 0.7070707070707071,\n",
       "  'support': 386.0},\n",
       " 'asphalt': {'precision': 0.839041095890411,\n",
       "  'recall': 0.5408388520971302,\n",
       "  'f1-score': 0.6577181208053692,\n",
       "  'support': 453.0},\n",
       " 'accuracy': 0.6846124474990455,\n",
       " 'macro avg': {'precision': 0.584219834371073,\n",
       "  'recall': 0.6250983363539795,\n",
       "  'f1-score': 0.5720622116169999,\n",
       "  'support': 2619.0},\n",
       " 'weighted avg': {'precision': 0.625399770297016,\n",
       "  'recall': 0.6846124474990455,\n",
       "  'f1-score': 0.628152510436856,\n",
       "  'support': 2619.0}}"
      ]
     },
     "execution_count": 13,
     "metadata": {},
     "output_type": "execute_result"
    }
   ],
   "source": [
    "classification_report(\n",
    "    true_labels,\n",
    "    predicted_labels,\n",
    "    labels=available_classes_r,\n",
    "    output_dict=True\n",
    ")"
   ]
  },
  {
   "cell_type": "code",
   "execution_count": 14,
   "metadata": {},
   "outputs": [],
   "source": [
    "n_rows = int(ceil(len(available_models)/2))"
   ]
  },
  {
   "cell_type": "code",
   "execution_count": 15,
   "metadata": {},
   "outputs": [],
   "source": [
    "modelwise_confusion_matrices = {}\n",
    "\n",
    "for model in modelwise_dfs:\n",
    "    true_labels =      modelwise_dfs[model][class_label]#.tolist()\n",
    "    predicted_labels = modelwise_dfs[model][prediction_label]#.tolist()\n",
    "\n",
    "    modelwise_confusion_matrices[model] = confusion_matrix(\n",
    "        true_labels,\n",
    "        predicted_labels,\n",
    "        labels=available_classes,\n",
    "        normalize='true'\n",
    "        ) *  100\n",
    "    modelwise_confusion_matrices[model] = modelwise_confusion_matrices[model].round(3)"
   ]
  },
  {
   "cell_type": "code",
   "execution_count": 16,
   "metadata": {},
   "outputs": [
    {
     "data": {
      "text/plain": [
       "{'EVA02-E-14-plus': array([[59.603, 28.256,  0.883,  5.077,  3.753,  0.   ,  2.428],\n",
       "        [17.098, 72.539,  0.777,  3.109,  5.44 ,  0.259,  0.777],\n",
       "        [ 9.714, 32.   ,  4.571,  8.   , 24.571, 21.143,  0.   ],\n",
       "        [ 0.439,  0.219,  0.   , 98.465,  0.877,  0.   ,  0.   ],\n",
       "        [15.042,  1.907,  0.   ,  1.483, 77.754,  0.847,  2.966],\n",
       "        [ 4.834,  0.906,  0.   ,  0.   ,  2.115, 92.145,  0.   ],\n",
       "        [ 4.046,  3.179,  0.   ,  1.734, 11.85 , 79.191,  0.   ]]),\n",
       " 'RN101': array([[23.841,  0.221, 37.969,  4.636, 19.426,  5.077,  8.83 ],\n",
       "        [ 2.591,  0.777, 64.767,  0.259,  5.699, 20.207,  5.699],\n",
       "        [ 0.571,  0.571, 50.286,  0.571, 10.286, 37.714,  0.   ],\n",
       "        [ 0.   ,  0.   ,  0.877, 84.211, 14.254,  0.219,  0.439],\n",
       "        [ 0.424,  0.   ,  5.508,  1.483, 76.271, 15.89 ,  0.424],\n",
       "        [ 0.604,  0.   ,  3.625,  0.   ,  0.604, 94.864,  0.302],\n",
       "        [ 2.312,  0.   ,  5.78 ,  0.578,  4.046, 87.283,  0.   ]]),\n",
       " 'RN50x64': array([[ 9.934, 45.475,  0.221, 27.373,  2.649,  1.325, 13.024],\n",
       "        [ 0.777, 50.777,  0.   ,  9.585,  3.109, 12.694, 23.057],\n",
       "        [ 2.857, 26.286,  0.   , 12.571, 18.857, 37.714,  1.714],\n",
       "        [ 0.   ,  0.   ,  0.   , 88.158, 10.526,  0.877,  0.439],\n",
       "        [16.525, 17.797,  0.   , 31.568, 26.907,  3.39 ,  3.814],\n",
       "        [ 2.417,  6.344,  0.   ,  0.302,  1.511, 89.426,  0.   ],\n",
       "        [ 2.601,  8.382,  0.   ,  3.757, 12.139, 73.121,  0.   ]]),\n",
       " 'ViT-bigG-14-CLIPA-336': array([[67.55 , 23.62 ,  0.221,  0.   ,  7.947,  0.   ,  0.662],\n",
       "        [ 8.29 , 75.907,  1.036,  0.518, 12.435,  1.554,  0.259],\n",
       "        [ 9.714, 10.857,  3.429,  0.571, 22.857, 52.571,  0.   ],\n",
       "        [ 0.877,  0.   ,  0.   , 89.912,  9.211,  0.   ,  0.   ],\n",
       "        [27.966,  0.212,  0.   ,  0.   , 71.61 ,  0.212,  0.   ],\n",
       "        [ 0.302,  0.   ,  0.   ,  0.   ,  1.511, 98.187,  0.   ],\n",
       "        [ 0.867,  1.734,  0.   ,  0.   ,  6.069, 91.329,  0.   ]]),\n",
       " 'ViT-B_32': array([[49.669,  0.   , 27.152,  6.181,  6.181,  9.934,  0.883],\n",
       "        [17.098,  0.518, 64.767,  2.073,  3.886, 11.399,  0.259],\n",
       "        [ 3.429,  0.   , 30.286,  4.571,  0.571, 61.143,  0.   ],\n",
       "        [ 0.   ,  0.   ,  0.   , 98.684,  1.316,  0.   ,  0.   ],\n",
       "        [ 5.297,  0.   , 19.915,  6.356, 26.271, 34.746,  7.415],\n",
       "        [ 1.511,  0.   ,  9.366,  0.   ,  0.   , 89.124,  0.   ],\n",
       "        [ 0.867,  0.   ,  5.202,  0.   ,  0.   , 93.931,  0.   ]]),\n",
       " 'ViT-H-14-378-quickgelu': array([[43.709,  5.077, 20.53 ,  2.428, 27.373,  0.   ,  0.883],\n",
       "        [ 9.585, 30.829, 32.124,  0.   , 23.575,  0.259,  3.627],\n",
       "        [ 1.143,  0.571, 44.   ,  0.   , 14.857, 23.429, 16.   ],\n",
       "        [ 0.   ,  0.   ,  0.219, 96.711,  2.851,  0.   ,  0.219],\n",
       "        [ 0.424,  0.   ,  0.   ,  0.   , 99.576,  0.   ,  0.   ],\n",
       "        [ 0.   ,  0.   ,  0.604,  0.   ,  0.604, 59.517, 39.275],\n",
       "        [ 0.578,  0.   ,  2.023,  0.   , 12.139, 35.549, 49.711]]),\n",
       " 'ViT-L_14': array([[26.049,  6.843,  1.325,  6.181, 56.512,  1.766,  1.325],\n",
       "        [ 2.073, 30.052, 16.839,  2.073, 32.124, 13.472,  3.368],\n",
       "        [ 0.   ,  3.429,  1.143,  0.571, 41.143, 53.143,  0.571],\n",
       "        [ 0.   ,  0.   ,  0.   , 91.886,  8.114,  0.   ,  0.   ],\n",
       "        [ 2.966,  0.   ,  0.212,  1.059, 94.915,  0.636,  0.212],\n",
       "        [ 1.208,  0.   ,  0.302,  0.   ,  1.208, 97.281,  0.   ],\n",
       "        [ 0.289,  0.   ,  0.867,  1.445, 15.607, 81.792,  0.   ]]),\n",
       " 'ViT-SO400M-14-SigLIP-384': array([[46.578, 41.06 ,  0.   ,  6.843,  5.519,  0.   ,  0.   ],\n",
       "        [ 5.44 , 88.86 ,  0.   ,  3.368,  2.332,  0.   ,  0.   ],\n",
       "        [13.143, 40.571,  1.714, 10.857, 10.857, 22.857,  0.   ],\n",
       "        [ 0.   ,  0.   ,  0.   , 98.684,  1.316,  0.   ,  0.   ],\n",
       "        [ 0.212, 16.314,  0.212,  4.873, 77.331,  1.059,  0.   ],\n",
       "        [ 8.459,  3.927,  0.906,  0.604,  2.115, 83.988,  0.   ],\n",
       "        [ 6.358,  8.092,  0.   ,  2.023, 10.694, 72.832,  0.   ]])}"
      ]
     },
     "execution_count": 16,
     "metadata": {},
     "output_type": "execute_result"
    }
   ],
   "source": [
    "modelwise_confusion_matrices"
   ]
  },
  {
   "cell_type": "code",
   "execution_count": 17,
   "metadata": {},
   "outputs": [
    {
     "data": {
      "application/vnd.plotly.v1+json": {
       "config": {
        "plotlyServerURL": "https://plot.ly"
       },
       "data": [
        {
         "coloraxis": "coloraxis",
         "hovertemplate": "x: %{x}<br>y: %{y}<br>color: %{z}<extra></extra>",
         "name": "0",
         "texttemplate": "%{z}",
         "type": "heatmap",
         "x": [
          "asphalt",
          "concrete",
          "concrete_plates",
          "grass",
          "ground",
          "paving_stones",
          "sett"
         ],
         "xaxis": "x",
         "y": [
          "asphalt",
          "concrete",
          "concrete_plates",
          "grass",
          "ground",
          "paving_stones",
          "sett"
         ],
         "yaxis": "y",
         "z": [
          [
           59.603,
           28.256,
           0.883,
           5.077,
           3.753,
           0,
           2.428
          ],
          [
           17.098,
           72.539,
           0.777,
           3.109,
           5.44,
           0.259,
           0.777
          ],
          [
           9.714,
           32,
           4.571,
           8,
           24.571,
           21.143,
           0
          ],
          [
           0.439,
           0.219,
           0,
           98.465,
           0.877,
           0,
           0
          ],
          [
           15.042,
           1.907,
           0,
           1.483,
           77.754,
           0.847,
           2.966
          ],
          [
           4.834,
           0.906,
           0,
           0,
           2.115,
           92.145,
           0
          ],
          [
           4.046,
           3.179,
           0,
           1.734,
           11.85,
           79.191,
           0
          ]
         ]
        },
        {
         "coloraxis": "coloraxis",
         "hovertemplate": "x: %{x}<br>y: %{y}<br>color: %{z}<extra></extra>",
         "name": "0",
         "texttemplate": "%{z}",
         "type": "heatmap",
         "x": [
          "asphalt",
          "concrete",
          "concrete_plates",
          "grass",
          "ground",
          "paving_stones",
          "sett"
         ],
         "xaxis": "x2",
         "y": [
          "asphalt",
          "concrete",
          "concrete_plates",
          "grass",
          "ground",
          "paving_stones",
          "sett"
         ],
         "yaxis": "y2",
         "z": [
          [
           23.841,
           0.221,
           37.969,
           4.636,
           19.426,
           5.077,
           8.83
          ],
          [
           2.591,
           0.777,
           64.767,
           0.259,
           5.699,
           20.207,
           5.699
          ],
          [
           0.571,
           0.571,
           50.286,
           0.571,
           10.286,
           37.714,
           0
          ],
          [
           0,
           0,
           0.877,
           84.211,
           14.254,
           0.219,
           0.439
          ],
          [
           0.424,
           0,
           5.508,
           1.483,
           76.271,
           15.89,
           0.424
          ],
          [
           0.604,
           0,
           3.625,
           0,
           0.604,
           94.864,
           0.302
          ],
          [
           2.312,
           0,
           5.78,
           0.578,
           4.046,
           87.283,
           0
          ]
         ]
        },
        {
         "coloraxis": "coloraxis",
         "hovertemplate": "x: %{x}<br>y: %{y}<br>color: %{z}<extra></extra>",
         "name": "0",
         "texttemplate": "%{z}",
         "type": "heatmap",
         "x": [
          "asphalt",
          "concrete",
          "concrete_plates",
          "grass",
          "ground",
          "paving_stones",
          "sett"
         ],
         "xaxis": "x3",
         "y": [
          "asphalt",
          "concrete",
          "concrete_plates",
          "grass",
          "ground",
          "paving_stones",
          "sett"
         ],
         "yaxis": "y3",
         "z": [
          [
           9.934,
           45.475,
           0.221,
           27.373,
           2.649,
           1.325,
           13.024
          ],
          [
           0.777,
           50.777,
           0,
           9.585,
           3.109,
           12.694,
           23.057
          ],
          [
           2.857,
           26.286,
           0,
           12.571,
           18.857,
           37.714,
           1.714
          ],
          [
           0,
           0,
           0,
           88.158,
           10.526,
           0.877,
           0.439
          ],
          [
           16.525,
           17.797,
           0,
           31.568,
           26.907,
           3.39,
           3.814
          ],
          [
           2.417,
           6.344,
           0,
           0.302,
           1.511,
           89.426,
           0
          ],
          [
           2.601,
           8.382,
           0,
           3.757,
           12.139,
           73.121,
           0
          ]
         ]
        },
        {
         "coloraxis": "coloraxis",
         "hovertemplate": "x: %{x}<br>y: %{y}<br>color: %{z}<extra></extra>",
         "name": "0",
         "texttemplate": "%{z}",
         "type": "heatmap",
         "x": [
          "asphalt",
          "concrete",
          "concrete_plates",
          "grass",
          "ground",
          "paving_stones",
          "sett"
         ],
         "xaxis": "x4",
         "y": [
          "asphalt",
          "concrete",
          "concrete_plates",
          "grass",
          "ground",
          "paving_stones",
          "sett"
         ],
         "yaxis": "y4",
         "z": [
          [
           67.55,
           23.62,
           0.221,
           0,
           7.947,
           0,
           0.662
          ],
          [
           8.29,
           75.907,
           1.036,
           0.518,
           12.435,
           1.554,
           0.259
          ],
          [
           9.714,
           10.857,
           3.429,
           0.571,
           22.857,
           52.571,
           0
          ],
          [
           0.877,
           0,
           0,
           89.912,
           9.211,
           0,
           0
          ],
          [
           27.966,
           0.212,
           0,
           0,
           71.61,
           0.212,
           0
          ],
          [
           0.302,
           0,
           0,
           0,
           1.511,
           98.187,
           0
          ],
          [
           0.867,
           1.734,
           0,
           0,
           6.069,
           91.329,
           0
          ]
         ]
        },
        {
         "coloraxis": "coloraxis",
         "hovertemplate": "x: %{x}<br>y: %{y}<br>color: %{z}<extra></extra>",
         "name": "0",
         "texttemplate": "%{z}",
         "type": "heatmap",
         "x": [
          "asphalt",
          "concrete",
          "concrete_plates",
          "grass",
          "ground",
          "paving_stones",
          "sett"
         ],
         "xaxis": "x5",
         "y": [
          "asphalt",
          "concrete",
          "concrete_plates",
          "grass",
          "ground",
          "paving_stones",
          "sett"
         ],
         "yaxis": "y5",
         "z": [
          [
           49.669,
           0,
           27.152,
           6.181,
           6.181,
           9.934,
           0.883
          ],
          [
           17.098,
           0.518,
           64.767,
           2.073,
           3.886,
           11.399,
           0.259
          ],
          [
           3.429,
           0,
           30.286,
           4.571,
           0.571,
           61.143,
           0
          ],
          [
           0,
           0,
           0,
           98.684,
           1.316,
           0,
           0
          ],
          [
           5.297,
           0,
           19.915,
           6.356,
           26.271,
           34.746,
           7.415
          ],
          [
           1.511,
           0,
           9.366,
           0,
           0,
           89.124,
           0
          ],
          [
           0.867,
           0,
           5.202,
           0,
           0,
           93.931,
           0
          ]
         ]
        },
        {
         "coloraxis": "coloraxis",
         "hovertemplate": "x: %{x}<br>y: %{y}<br>color: %{z}<extra></extra>",
         "name": "0",
         "texttemplate": "%{z}",
         "type": "heatmap",
         "x": [
          "asphalt",
          "concrete",
          "concrete_plates",
          "grass",
          "ground",
          "paving_stones",
          "sett"
         ],
         "xaxis": "x6",
         "y": [
          "asphalt",
          "concrete",
          "concrete_plates",
          "grass",
          "ground",
          "paving_stones",
          "sett"
         ],
         "yaxis": "y6",
         "z": [
          [
           43.709,
           5.077,
           20.53,
           2.428,
           27.373,
           0,
           0.883
          ],
          [
           9.585,
           30.829,
           32.124,
           0,
           23.575,
           0.259,
           3.627
          ],
          [
           1.143,
           0.571,
           44,
           0,
           14.857,
           23.429,
           16
          ],
          [
           0,
           0,
           0.219,
           96.711,
           2.851,
           0,
           0.219
          ],
          [
           0.424,
           0,
           0,
           0,
           99.576,
           0,
           0
          ],
          [
           0,
           0,
           0.604,
           0,
           0.604,
           59.517,
           39.275
          ],
          [
           0.578,
           0,
           2.023,
           0,
           12.139,
           35.549,
           49.711
          ]
         ]
        },
        {
         "coloraxis": "coloraxis",
         "hovertemplate": "x: %{x}<br>y: %{y}<br>color: %{z}<extra></extra>",
         "name": "0",
         "texttemplate": "%{z}",
         "type": "heatmap",
         "x": [
          "asphalt",
          "concrete",
          "concrete_plates",
          "grass",
          "ground",
          "paving_stones",
          "sett"
         ],
         "xaxis": "x7",
         "y": [
          "asphalt",
          "concrete",
          "concrete_plates",
          "grass",
          "ground",
          "paving_stones",
          "sett"
         ],
         "yaxis": "y7",
         "z": [
          [
           26.049,
           6.843,
           1.325,
           6.181,
           56.512,
           1.766,
           1.325
          ],
          [
           2.073,
           30.052,
           16.839,
           2.073,
           32.124,
           13.472,
           3.368
          ],
          [
           0,
           3.429,
           1.143,
           0.571,
           41.143,
           53.143,
           0.571
          ],
          [
           0,
           0,
           0,
           91.886,
           8.114,
           0,
           0
          ],
          [
           2.966,
           0,
           0.212,
           1.059,
           94.915,
           0.636,
           0.212
          ],
          [
           1.208,
           0,
           0.302,
           0,
           1.208,
           97.281,
           0
          ],
          [
           0.289,
           0,
           0.867,
           1.445,
           15.607,
           81.792,
           0
          ]
         ]
        },
        {
         "coloraxis": "coloraxis",
         "hovertemplate": "x: %{x}<br>y: %{y}<br>color: %{z}<extra></extra>",
         "name": "0",
         "texttemplate": "%{z}",
         "type": "heatmap",
         "x": [
          "asphalt",
          "concrete",
          "concrete_plates",
          "grass",
          "ground",
          "paving_stones",
          "sett"
         ],
         "xaxis": "x8",
         "y": [
          "asphalt",
          "concrete",
          "concrete_plates",
          "grass",
          "ground",
          "paving_stones",
          "sett"
         ],
         "yaxis": "y8",
         "z": [
          [
           46.578,
           41.06,
           0,
           6.843,
           5.519,
           0,
           0
          ],
          [
           5.44,
           88.86,
           0,
           3.368,
           2.332,
           0,
           0
          ],
          [
           13.143,
           40.571,
           1.714,
           10.857,
           10.857,
           22.857,
           0
          ],
          [
           0,
           0,
           0,
           98.684,
           1.316,
           0,
           0
          ],
          [
           0.212,
           16.314,
           0.212,
           4.873,
           77.331,
           1.059,
           0
          ],
          [
           8.459,
           3.927,
           0.906,
           0.604,
           2.115,
           83.988,
           0
          ],
          [
           6.358,
           8.092,
           0,
           2.023,
           10.694,
           72.832,
           0
          ]
         ]
        }
       ],
       "layout": {
        "annotations": [
         {
          "font": {
           "size": 16
          },
          "showarrow": false,
          "text": "EVA02-E-14-plus",
          "x": 0.2475,
          "xanchor": "center",
          "xref": "paper",
          "y": 1,
          "yanchor": "bottom",
          "yref": "paper"
         },
         {
          "font": {
           "size": 16
          },
          "showarrow": false,
          "text": "RN101",
          "x": 0.7525,
          "xanchor": "center",
          "xref": "paper",
          "y": 1,
          "yanchor": "bottom",
          "yref": "paper"
         },
         {
          "font": {
           "size": 16
          },
          "showarrow": false,
          "text": "RN50x64",
          "x": 0.2475,
          "xanchor": "center",
          "xref": "paper",
          "y": 0.74625,
          "yanchor": "bottom",
          "yref": "paper"
         },
         {
          "font": {
           "size": 16
          },
          "showarrow": false,
          "text": "ViT-bigG-14-CLIPA-336",
          "x": 0.7525,
          "xanchor": "center",
          "xref": "paper",
          "y": 0.74625,
          "yanchor": "bottom",
          "yref": "paper"
         },
         {
          "font": {
           "size": 16
          },
          "showarrow": false,
          "text": "ViT-B_32",
          "x": 0.2475,
          "xanchor": "center",
          "xref": "paper",
          "y": 0.49249999999999994,
          "yanchor": "bottom",
          "yref": "paper"
         },
         {
          "font": {
           "size": 16
          },
          "showarrow": false,
          "text": "ViT-H-14-378-quickgelu",
          "x": 0.7525,
          "xanchor": "center",
          "xref": "paper",
          "y": 0.49249999999999994,
          "yanchor": "bottom",
          "yref": "paper"
         },
         {
          "font": {
           "size": 16
          },
          "showarrow": false,
          "text": "ViT-L_14",
          "x": 0.2475,
          "xanchor": "center",
          "xref": "paper",
          "y": 0.23875,
          "yanchor": "bottom",
          "yref": "paper"
         },
         {
          "font": {
           "size": 16
          },
          "showarrow": false,
          "text": "ViT-SO400M-14-SigLIP-384",
          "x": 0.7525,
          "xanchor": "center",
          "xref": "paper",
          "y": 0.23875,
          "yanchor": "bottom",
          "yref": "paper"
         }
        ],
        "coloraxis": {
         "colorscale": [
          [
           0,
           "rgb(255, 198, 196)"
          ],
          [
           0.16666666666666666,
           "rgb(244, 163, 168)"
          ],
          [
           0.3333333333333333,
           "rgb(227, 129, 145)"
          ],
          [
           0.5,
           "rgb(204, 96, 125)"
          ],
          [
           0.6666666666666666,
           "rgb(173, 70, 108)"
          ],
          [
           0.8333333333333334,
           "rgb(139, 48, 88)"
          ],
          [
           1,
           "rgb(103, 32, 68)"
          ]
         ]
        },
        "height": 1600,
        "showlegend": true,
        "template": {
         "data": {
          "bar": [
           {
            "error_x": {
             "color": "#2a3f5f"
            },
            "error_y": {
             "color": "#2a3f5f"
            },
            "marker": {
             "line": {
              "color": "#E5ECF6",
              "width": 0.5
             },
             "pattern": {
              "fillmode": "overlay",
              "size": 10,
              "solidity": 0.2
             }
            },
            "type": "bar"
           }
          ],
          "barpolar": [
           {
            "marker": {
             "line": {
              "color": "#E5ECF6",
              "width": 0.5
             },
             "pattern": {
              "fillmode": "overlay",
              "size": 10,
              "solidity": 0.2
             }
            },
            "type": "barpolar"
           }
          ],
          "carpet": [
           {
            "aaxis": {
             "endlinecolor": "#2a3f5f",
             "gridcolor": "white",
             "linecolor": "white",
             "minorgridcolor": "white",
             "startlinecolor": "#2a3f5f"
            },
            "baxis": {
             "endlinecolor": "#2a3f5f",
             "gridcolor": "white",
             "linecolor": "white",
             "minorgridcolor": "white",
             "startlinecolor": "#2a3f5f"
            },
            "type": "carpet"
           }
          ],
          "choropleth": [
           {
            "colorbar": {
             "outlinewidth": 0,
             "ticks": ""
            },
            "type": "choropleth"
           }
          ],
          "contour": [
           {
            "colorbar": {
             "outlinewidth": 0,
             "ticks": ""
            },
            "colorscale": [
             [
              0,
              "#0d0887"
             ],
             [
              0.1111111111111111,
              "#46039f"
             ],
             [
              0.2222222222222222,
              "#7201a8"
             ],
             [
              0.3333333333333333,
              "#9c179e"
             ],
             [
              0.4444444444444444,
              "#bd3786"
             ],
             [
              0.5555555555555556,
              "#d8576b"
             ],
             [
              0.6666666666666666,
              "#ed7953"
             ],
             [
              0.7777777777777778,
              "#fb9f3a"
             ],
             [
              0.8888888888888888,
              "#fdca26"
             ],
             [
              1,
              "#f0f921"
             ]
            ],
            "type": "contour"
           }
          ],
          "contourcarpet": [
           {
            "colorbar": {
             "outlinewidth": 0,
             "ticks": ""
            },
            "type": "contourcarpet"
           }
          ],
          "heatmap": [
           {
            "colorbar": {
             "outlinewidth": 0,
             "ticks": ""
            },
            "colorscale": [
             [
              0,
              "#0d0887"
             ],
             [
              0.1111111111111111,
              "#46039f"
             ],
             [
              0.2222222222222222,
              "#7201a8"
             ],
             [
              0.3333333333333333,
              "#9c179e"
             ],
             [
              0.4444444444444444,
              "#bd3786"
             ],
             [
              0.5555555555555556,
              "#d8576b"
             ],
             [
              0.6666666666666666,
              "#ed7953"
             ],
             [
              0.7777777777777778,
              "#fb9f3a"
             ],
             [
              0.8888888888888888,
              "#fdca26"
             ],
             [
              1,
              "#f0f921"
             ]
            ],
            "type": "heatmap"
           }
          ],
          "heatmapgl": [
           {
            "colorbar": {
             "outlinewidth": 0,
             "ticks": ""
            },
            "colorscale": [
             [
              0,
              "#0d0887"
             ],
             [
              0.1111111111111111,
              "#46039f"
             ],
             [
              0.2222222222222222,
              "#7201a8"
             ],
             [
              0.3333333333333333,
              "#9c179e"
             ],
             [
              0.4444444444444444,
              "#bd3786"
             ],
             [
              0.5555555555555556,
              "#d8576b"
             ],
             [
              0.6666666666666666,
              "#ed7953"
             ],
             [
              0.7777777777777778,
              "#fb9f3a"
             ],
             [
              0.8888888888888888,
              "#fdca26"
             ],
             [
              1,
              "#f0f921"
             ]
            ],
            "type": "heatmapgl"
           }
          ],
          "histogram": [
           {
            "marker": {
             "pattern": {
              "fillmode": "overlay",
              "size": 10,
              "solidity": 0.2
             }
            },
            "type": "histogram"
           }
          ],
          "histogram2d": [
           {
            "colorbar": {
             "outlinewidth": 0,
             "ticks": ""
            },
            "colorscale": [
             [
              0,
              "#0d0887"
             ],
             [
              0.1111111111111111,
              "#46039f"
             ],
             [
              0.2222222222222222,
              "#7201a8"
             ],
             [
              0.3333333333333333,
              "#9c179e"
             ],
             [
              0.4444444444444444,
              "#bd3786"
             ],
             [
              0.5555555555555556,
              "#d8576b"
             ],
             [
              0.6666666666666666,
              "#ed7953"
             ],
             [
              0.7777777777777778,
              "#fb9f3a"
             ],
             [
              0.8888888888888888,
              "#fdca26"
             ],
             [
              1,
              "#f0f921"
             ]
            ],
            "type": "histogram2d"
           }
          ],
          "histogram2dcontour": [
           {
            "colorbar": {
             "outlinewidth": 0,
             "ticks": ""
            },
            "colorscale": [
             [
              0,
              "#0d0887"
             ],
             [
              0.1111111111111111,
              "#46039f"
             ],
             [
              0.2222222222222222,
              "#7201a8"
             ],
             [
              0.3333333333333333,
              "#9c179e"
             ],
             [
              0.4444444444444444,
              "#bd3786"
             ],
             [
              0.5555555555555556,
              "#d8576b"
             ],
             [
              0.6666666666666666,
              "#ed7953"
             ],
             [
              0.7777777777777778,
              "#fb9f3a"
             ],
             [
              0.8888888888888888,
              "#fdca26"
             ],
             [
              1,
              "#f0f921"
             ]
            ],
            "type": "histogram2dcontour"
           }
          ],
          "mesh3d": [
           {
            "colorbar": {
             "outlinewidth": 0,
             "ticks": ""
            },
            "type": "mesh3d"
           }
          ],
          "parcoords": [
           {
            "line": {
             "colorbar": {
              "outlinewidth": 0,
              "ticks": ""
             }
            },
            "type": "parcoords"
           }
          ],
          "pie": [
           {
            "automargin": true,
            "type": "pie"
           }
          ],
          "scatter": [
           {
            "fillpattern": {
             "fillmode": "overlay",
             "size": 10,
             "solidity": 0.2
            },
            "type": "scatter"
           }
          ],
          "scatter3d": [
           {
            "line": {
             "colorbar": {
              "outlinewidth": 0,
              "ticks": ""
             }
            },
            "marker": {
             "colorbar": {
              "outlinewidth": 0,
              "ticks": ""
             }
            },
            "type": "scatter3d"
           }
          ],
          "scattercarpet": [
           {
            "marker": {
             "colorbar": {
              "outlinewidth": 0,
              "ticks": ""
             }
            },
            "type": "scattercarpet"
           }
          ],
          "scattergeo": [
           {
            "marker": {
             "colorbar": {
              "outlinewidth": 0,
              "ticks": ""
             }
            },
            "type": "scattergeo"
           }
          ],
          "scattergl": [
           {
            "marker": {
             "colorbar": {
              "outlinewidth": 0,
              "ticks": ""
             }
            },
            "type": "scattergl"
           }
          ],
          "scattermapbox": [
           {
            "marker": {
             "colorbar": {
              "outlinewidth": 0,
              "ticks": ""
             }
            },
            "type": "scattermapbox"
           }
          ],
          "scatterpolar": [
           {
            "marker": {
             "colorbar": {
              "outlinewidth": 0,
              "ticks": ""
             }
            },
            "type": "scatterpolar"
           }
          ],
          "scatterpolargl": [
           {
            "marker": {
             "colorbar": {
              "outlinewidth": 0,
              "ticks": ""
             }
            },
            "type": "scatterpolargl"
           }
          ],
          "scatterternary": [
           {
            "marker": {
             "colorbar": {
              "outlinewidth": 0,
              "ticks": ""
             }
            },
            "type": "scatterternary"
           }
          ],
          "surface": [
           {
            "colorbar": {
             "outlinewidth": 0,
             "ticks": ""
            },
            "colorscale": [
             [
              0,
              "#0d0887"
             ],
             [
              0.1111111111111111,
              "#46039f"
             ],
             [
              0.2222222222222222,
              "#7201a8"
             ],
             [
              0.3333333333333333,
              "#9c179e"
             ],
             [
              0.4444444444444444,
              "#bd3786"
             ],
             [
              0.5555555555555556,
              "#d8576b"
             ],
             [
              0.6666666666666666,
              "#ed7953"
             ],
             [
              0.7777777777777778,
              "#fb9f3a"
             ],
             [
              0.8888888888888888,
              "#fdca26"
             ],
             [
              1,
              "#f0f921"
             ]
            ],
            "type": "surface"
           }
          ],
          "table": [
           {
            "cells": {
             "fill": {
              "color": "#EBF0F8"
             },
             "line": {
              "color": "white"
             }
            },
            "header": {
             "fill": {
              "color": "#C8D4E3"
             },
             "line": {
              "color": "white"
             }
            },
            "type": "table"
           }
          ]
         },
         "layout": {
          "annotationdefaults": {
           "arrowcolor": "#2a3f5f",
           "arrowhead": 0,
           "arrowwidth": 1
          },
          "autotypenumbers": "strict",
          "coloraxis": {
           "colorbar": {
            "outlinewidth": 0,
            "ticks": ""
           }
          },
          "colorscale": {
           "diverging": [
            [
             0,
             "#8e0152"
            ],
            [
             0.1,
             "#c51b7d"
            ],
            [
             0.2,
             "#de77ae"
            ],
            [
             0.3,
             "#f1b6da"
            ],
            [
             0.4,
             "#fde0ef"
            ],
            [
             0.5,
             "#f7f7f7"
            ],
            [
             0.6,
             "#e6f5d0"
            ],
            [
             0.7,
             "#b8e186"
            ],
            [
             0.8,
             "#7fbc41"
            ],
            [
             0.9,
             "#4d9221"
            ],
            [
             1,
             "#276419"
            ]
           ],
           "sequential": [
            [
             0,
             "#0d0887"
            ],
            [
             0.1111111111111111,
             "#46039f"
            ],
            [
             0.2222222222222222,
             "#7201a8"
            ],
            [
             0.3333333333333333,
             "#9c179e"
            ],
            [
             0.4444444444444444,
             "#bd3786"
            ],
            [
             0.5555555555555556,
             "#d8576b"
            ],
            [
             0.6666666666666666,
             "#ed7953"
            ],
            [
             0.7777777777777778,
             "#fb9f3a"
            ],
            [
             0.8888888888888888,
             "#fdca26"
            ],
            [
             1,
             "#f0f921"
            ]
           ],
           "sequentialminus": [
            [
             0,
             "#0d0887"
            ],
            [
             0.1111111111111111,
             "#46039f"
            ],
            [
             0.2222222222222222,
             "#7201a8"
            ],
            [
             0.3333333333333333,
             "#9c179e"
            ],
            [
             0.4444444444444444,
             "#bd3786"
            ],
            [
             0.5555555555555556,
             "#d8576b"
            ],
            [
             0.6666666666666666,
             "#ed7953"
            ],
            [
             0.7777777777777778,
             "#fb9f3a"
            ],
            [
             0.8888888888888888,
             "#fdca26"
            ],
            [
             1,
             "#f0f921"
            ]
           ]
          },
          "colorway": [
           "#636efa",
           "#EF553B",
           "#00cc96",
           "#ab63fa",
           "#FFA15A",
           "#19d3f3",
           "#FF6692",
           "#B6E880",
           "#FF97FF",
           "#FECB52"
          ],
          "font": {
           "color": "#2a3f5f"
          },
          "geo": {
           "bgcolor": "white",
           "lakecolor": "white",
           "landcolor": "#E5ECF6",
           "showlakes": true,
           "showland": true,
           "subunitcolor": "white"
          },
          "hoverlabel": {
           "align": "left"
          },
          "hovermode": "closest",
          "mapbox": {
           "style": "light"
          },
          "paper_bgcolor": "white",
          "plot_bgcolor": "#E5ECF6",
          "polar": {
           "angularaxis": {
            "gridcolor": "white",
            "linecolor": "white",
            "ticks": ""
           },
           "bgcolor": "#E5ECF6",
           "radialaxis": {
            "gridcolor": "white",
            "linecolor": "white",
            "ticks": ""
           }
          },
          "scene": {
           "xaxis": {
            "backgroundcolor": "#E5ECF6",
            "gridcolor": "white",
            "gridwidth": 2,
            "linecolor": "white",
            "showbackground": true,
            "ticks": "",
            "zerolinecolor": "white"
           },
           "yaxis": {
            "backgroundcolor": "#E5ECF6",
            "gridcolor": "white",
            "gridwidth": 2,
            "linecolor": "white",
            "showbackground": true,
            "ticks": "",
            "zerolinecolor": "white"
           },
           "zaxis": {
            "backgroundcolor": "#E5ECF6",
            "gridcolor": "white",
            "gridwidth": 2,
            "linecolor": "white",
            "showbackground": true,
            "ticks": "",
            "zerolinecolor": "white"
           }
          },
          "shapedefaults": {
           "line": {
            "color": "#2a3f5f"
           }
          },
          "ternary": {
           "aaxis": {
            "gridcolor": "white",
            "linecolor": "white",
            "ticks": ""
           },
           "baxis": {
            "gridcolor": "white",
            "linecolor": "white",
            "ticks": ""
           },
           "bgcolor": "#E5ECF6",
           "caxis": {
            "gridcolor": "white",
            "linecolor": "white",
            "ticks": ""
           }
          },
          "title": {
           "x": 0.05
          },
          "xaxis": {
           "automargin": true,
           "gridcolor": "white",
           "linecolor": "white",
           "ticks": "",
           "title": {
            "standoff": 15
           },
           "zerolinecolor": "white",
           "zerolinewidth": 2
          },
          "yaxis": {
           "automargin": true,
           "gridcolor": "white",
           "linecolor": "white",
           "ticks": "",
           "title": {
            "standoff": 15
           },
           "zerolinecolor": "white",
           "zerolinewidth": 2
          }
         }
        },
        "width": 800,
        "xaxis": {
         "anchor": "y",
         "autorange": "reversed",
         "domain": [
          0,
          0.495
         ],
         "matches": "x7",
         "showticklabels": false,
         "title": {
          "text": "Prediction"
         }
        },
        "xaxis2": {
         "anchor": "y2",
         "autorange": "reversed",
         "domain": [
          0.505,
          1
         ],
         "matches": "x8",
         "showticklabels": false
        },
        "xaxis3": {
         "anchor": "y3",
         "autorange": "reversed",
         "domain": [
          0,
          0.495
         ],
         "matches": "x7",
         "showticklabels": false
        },
        "xaxis4": {
         "anchor": "y4",
         "autorange": "reversed",
         "domain": [
          0.505,
          1
         ],
         "matches": "x8",
         "showticklabels": false
        },
        "xaxis5": {
         "anchor": "y5",
         "autorange": "reversed",
         "domain": [
          0,
          0.495
         ],
         "matches": "x7",
         "showticklabels": false
        },
        "xaxis6": {
         "anchor": "y6",
         "autorange": "reversed",
         "domain": [
          0.505,
          1
         ],
         "matches": "x8",
         "showticklabels": false
        },
        "xaxis7": {
         "anchor": "y7",
         "autorange": "reversed",
         "domain": [
          0,
          0.495
         ]
        },
        "xaxis8": {
         "anchor": "y8",
         "autorange": "reversed",
         "domain": [
          0.505,
          1
         ]
        },
        "yaxis": {
         "anchor": "x",
         "domain": [
          0.76125,
          1
         ],
         "title": {
          "text": "Class"
         }
        },
        "yaxis2": {
         "anchor": "x2",
         "domain": [
          0.76125,
          1
         ],
         "matches": "y",
         "showticklabels": false
        },
        "yaxis3": {
         "anchor": "x3",
         "domain": [
          0.5075,
          0.74625
         ]
        },
        "yaxis4": {
         "anchor": "x4",
         "domain": [
          0.5075,
          0.74625
         ],
         "matches": "y3",
         "showticklabels": false
        },
        "yaxis5": {
         "anchor": "x5",
         "domain": [
          0.25375,
          0.49249999999999994
         ]
        },
        "yaxis6": {
         "anchor": "x6",
         "domain": [
          0.25375,
          0.49249999999999994
         ],
         "matches": "y5",
         "showticklabels": false
        },
        "yaxis7": {
         "anchor": "x7",
         "domain": [
          0,
          0.23875
         ]
        },
        "yaxis8": {
         "anchor": "x8",
         "domain": [
          0,
          0.23875
         ],
         "matches": "y7",
         "showticklabels": false
        }
       }
      }
     },
     "metadata": {},
     "output_type": "display_data"
    }
   ],
   "source": [
    "# fig = go.Figure().set_subplots(rows=n_rows, cols=2, shared_xaxes=True, shared_yaxes=True, vertical_spacing=0.05, horizontal_spacing=0.01)\n",
    "fig = make_subplots(rows=n_rows, cols=2, \n",
    "                    shared_xaxes=True, \n",
    "                    shared_yaxes=True,\n",
    "                    subplot_titles=list(modelwise_confusion_matrices.keys()),\n",
    "                    vertical_spacing=0.015, \n",
    "                    horizontal_spacing=0.01,\n",
    "                    # x_title=\"Prediction\",\n",
    "                    # y_title=\"Class\",\n",
    "                    )\n",
    "\n",
    "for i,modelname in enumerate(modelwise_confusion_matrices):\n",
    "    subplot = px.imshow(modelwise_confusion_matrices[modelname],\n",
    "                \n",
    "                x=available_classes,\n",
    "                y=available_classes,\n",
    "              text_auto=True, \n",
    "              #  aspect=\"auto\",\n",
    "               )\n",
    "    \n",
    "    # print(i//2+1,i%2+1)\n",
    "    subplot['layout']['xaxis']['autorange'] = \"reversed\"\n",
    "\n",
    "    fig.add_trace(subplot.data[0], row=i//2+1, col=i%2+1)\n",
    "    fig.update_xaxes(row=i//2+1, col=i%2+1, autorange='reversed')\n",
    "    # fig.append_trace(subplot.data[0], row=i//2+1, col=i%2+1)\n",
    "\n",
    "fig.update_coloraxes(colorscale=px.colors.sequential.Burg)\n",
    "fig.update_layout(height=400*n_rows, width=400*2,\n",
    "                  xaxis_title=\"Prediction\",\n",
    "                  yaxis_title=\"Class\",\n",
    "                  showlegend=True,)\n",
    "fig.show()\n"
   ]
  },
  {
   "cell_type": "code",
   "execution_count": 18,
   "metadata": {},
   "outputs": [
    {
     "data": {
      "text/html": [
       "<div>\n",
       "<style scoped>\n",
       "    .dataframe tbody tr th:only-of-type {\n",
       "        vertical-align: middle;\n",
       "    }\n",
       "\n",
       "    .dataframe tbody tr th {\n",
       "        vertical-align: top;\n",
       "    }\n",
       "\n",
       "    .dataframe thead th {\n",
       "        text-align: right;\n",
       "    }\n",
       "</style>\n",
       "<table border=\"1\" class=\"dataframe\">\n",
       "  <thead>\n",
       "    <tr style=\"text-align: right;\">\n",
       "      <th></th>\n",
       "      <th>model_name</th>\n",
       "      <th>score</th>\n",
       "    </tr>\n",
       "  </thead>\n",
       "  <tbody>\n",
       "    <tr>\n",
       "      <th>8</th>\n",
       "      <td>combined</td>\n",
       "      <td>54.70</td>\n",
       "    </tr>\n",
       "    <tr>\n",
       "      <th>5</th>\n",
       "      <td>ViT-H-14-378-quickgelu</td>\n",
       "      <td>53.01</td>\n",
       "    </tr>\n",
       "    <tr>\n",
       "      <th>3</th>\n",
       "      <td>ViT-bigG-14-CLIPA-336</td>\n",
       "      <td>50.82</td>\n",
       "    </tr>\n",
       "    <tr>\n",
       "      <th>0</th>\n",
       "      <td>EVA02-E-14-plus</td>\n",
       "      <td>50.63</td>\n",
       "    </tr>\n",
       "    <tr>\n",
       "      <th>7</th>\n",
       "      <td>ViT-SO400M-14-SigLIP-384</td>\n",
       "      <td>49.64</td>\n",
       "    </tr>\n",
       "    <tr>\n",
       "      <th>6</th>\n",
       "      <td>ViT-L_14</td>\n",
       "      <td>42.67</td>\n",
       "    </tr>\n",
       "    <tr>\n",
       "      <th>1</th>\n",
       "      <td>RN101</td>\n",
       "      <td>41.28</td>\n",
       "    </tr>\n",
       "    <tr>\n",
       "      <th>4</th>\n",
       "      <td>ViT-B_32</td>\n",
       "      <td>36.82</td>\n",
       "    </tr>\n",
       "    <tr>\n",
       "      <th>2</th>\n",
       "      <td>RN50x64</td>\n",
       "      <td>33.15</td>\n",
       "    </tr>\n",
       "  </tbody>\n",
       "</table>\n",
       "</div>"
      ],
      "text/plain": [
       "                 model_name  score\n",
       "8                  combined  54.70\n",
       "5    ViT-H-14-378-quickgelu  53.01\n",
       "3     ViT-bigG-14-CLIPA-336  50.82\n",
       "0           EVA02-E-14-plus  50.63\n",
       "7  ViT-SO400M-14-SigLIP-384  49.64\n",
       "6                  ViT-L_14  42.67\n",
       "1                     RN101  41.28\n",
       "4                  ViT-B_32  36.82\n",
       "2                   RN50x64  33.15"
      ]
     },
     "execution_count": 18,
     "metadata": {},
     "output_type": "execute_result"
    }
   ],
   "source": [
    "# getting the diagonal sum of the confusion matrix:\n",
    "diagonals = {}\n",
    "\n",
    "for model in modelwise_confusion_matrices:\n",
    "    diagonals[model] = modelwise_confusion_matrices[model].diagonal().sum()\n",
    "\n",
    "diagonals['combined'] = c_mat.diagonal().sum() \n",
    "\n",
    "diagonals_df = pd.DataFrame.from_dict(diagonals, orient='index',columns=['score']).reset_index().rename(columns={'index':'model_name'}).sort_values(by='score', ascending=False)\n",
    "\n",
    "diagonals_df['score'] = round(100 *  diagonals_df['score'] / (len(available_models) * 100),2)\n",
    "\n",
    "diagonals_df"
   ]
  },
  {
   "cell_type": "code",
   "execution_count": 19,
   "metadata": {},
   "outputs": [
    {
     "data": {
      "application/vnd.plotly.v1+json": {
       "config": {
        "plotlyServerURL": "https://plot.ly"
       },
       "data": [
        {
         "alignmentgroup": "True",
         "hovertemplate": "model_name=%{x}<br>score=%{y}<extra></extra>",
         "legendgroup": "",
         "marker": {
          "color": "#636efa",
          "pattern": {
           "shape": ""
          }
         },
         "name": "",
         "offsetgroup": "",
         "orientation": "v",
         "showlegend": false,
         "textposition": "auto",
         "texttemplate": "%{y}",
         "type": "bar",
         "x": [
          "combined",
          "ViT-H-14-378-quickgelu",
          "ViT-bigG-14-CLIPA-336",
          "EVA02-E-14-plus",
          "ViT-SO400M-14-SigLIP-384",
          "ViT-L_14",
          "RN101",
          "ViT-B_32",
          "RN50x64"
         ],
         "xaxis": "x",
         "y": [
          54.7,
          53.01,
          50.82,
          50.63,
          49.64,
          42.67,
          41.28,
          36.82,
          33.15
         ],
         "yaxis": "y"
        }
       ],
       "layout": {
        "barmode": "relative",
        "legend": {
         "tracegroupgap": 0
        },
        "margin": {
         "t": 60
        },
        "template": {
         "data": {
          "bar": [
           {
            "error_x": {
             "color": "#2a3f5f"
            },
            "error_y": {
             "color": "#2a3f5f"
            },
            "marker": {
             "line": {
              "color": "#E5ECF6",
              "width": 0.5
             },
             "pattern": {
              "fillmode": "overlay",
              "size": 10,
              "solidity": 0.2
             }
            },
            "type": "bar"
           }
          ],
          "barpolar": [
           {
            "marker": {
             "line": {
              "color": "#E5ECF6",
              "width": 0.5
             },
             "pattern": {
              "fillmode": "overlay",
              "size": 10,
              "solidity": 0.2
             }
            },
            "type": "barpolar"
           }
          ],
          "carpet": [
           {
            "aaxis": {
             "endlinecolor": "#2a3f5f",
             "gridcolor": "white",
             "linecolor": "white",
             "minorgridcolor": "white",
             "startlinecolor": "#2a3f5f"
            },
            "baxis": {
             "endlinecolor": "#2a3f5f",
             "gridcolor": "white",
             "linecolor": "white",
             "minorgridcolor": "white",
             "startlinecolor": "#2a3f5f"
            },
            "type": "carpet"
           }
          ],
          "choropleth": [
           {
            "colorbar": {
             "outlinewidth": 0,
             "ticks": ""
            },
            "type": "choropleth"
           }
          ],
          "contour": [
           {
            "colorbar": {
             "outlinewidth": 0,
             "ticks": ""
            },
            "colorscale": [
             [
              0,
              "#0d0887"
             ],
             [
              0.1111111111111111,
              "#46039f"
             ],
             [
              0.2222222222222222,
              "#7201a8"
             ],
             [
              0.3333333333333333,
              "#9c179e"
             ],
             [
              0.4444444444444444,
              "#bd3786"
             ],
             [
              0.5555555555555556,
              "#d8576b"
             ],
             [
              0.6666666666666666,
              "#ed7953"
             ],
             [
              0.7777777777777778,
              "#fb9f3a"
             ],
             [
              0.8888888888888888,
              "#fdca26"
             ],
             [
              1,
              "#f0f921"
             ]
            ],
            "type": "contour"
           }
          ],
          "contourcarpet": [
           {
            "colorbar": {
             "outlinewidth": 0,
             "ticks": ""
            },
            "type": "contourcarpet"
           }
          ],
          "heatmap": [
           {
            "colorbar": {
             "outlinewidth": 0,
             "ticks": ""
            },
            "colorscale": [
             [
              0,
              "#0d0887"
             ],
             [
              0.1111111111111111,
              "#46039f"
             ],
             [
              0.2222222222222222,
              "#7201a8"
             ],
             [
              0.3333333333333333,
              "#9c179e"
             ],
             [
              0.4444444444444444,
              "#bd3786"
             ],
             [
              0.5555555555555556,
              "#d8576b"
             ],
             [
              0.6666666666666666,
              "#ed7953"
             ],
             [
              0.7777777777777778,
              "#fb9f3a"
             ],
             [
              0.8888888888888888,
              "#fdca26"
             ],
             [
              1,
              "#f0f921"
             ]
            ],
            "type": "heatmap"
           }
          ],
          "heatmapgl": [
           {
            "colorbar": {
             "outlinewidth": 0,
             "ticks": ""
            },
            "colorscale": [
             [
              0,
              "#0d0887"
             ],
             [
              0.1111111111111111,
              "#46039f"
             ],
             [
              0.2222222222222222,
              "#7201a8"
             ],
             [
              0.3333333333333333,
              "#9c179e"
             ],
             [
              0.4444444444444444,
              "#bd3786"
             ],
             [
              0.5555555555555556,
              "#d8576b"
             ],
             [
              0.6666666666666666,
              "#ed7953"
             ],
             [
              0.7777777777777778,
              "#fb9f3a"
             ],
             [
              0.8888888888888888,
              "#fdca26"
             ],
             [
              1,
              "#f0f921"
             ]
            ],
            "type": "heatmapgl"
           }
          ],
          "histogram": [
           {
            "marker": {
             "pattern": {
              "fillmode": "overlay",
              "size": 10,
              "solidity": 0.2
             }
            },
            "type": "histogram"
           }
          ],
          "histogram2d": [
           {
            "colorbar": {
             "outlinewidth": 0,
             "ticks": ""
            },
            "colorscale": [
             [
              0,
              "#0d0887"
             ],
             [
              0.1111111111111111,
              "#46039f"
             ],
             [
              0.2222222222222222,
              "#7201a8"
             ],
             [
              0.3333333333333333,
              "#9c179e"
             ],
             [
              0.4444444444444444,
              "#bd3786"
             ],
             [
              0.5555555555555556,
              "#d8576b"
             ],
             [
              0.6666666666666666,
              "#ed7953"
             ],
             [
              0.7777777777777778,
              "#fb9f3a"
             ],
             [
              0.8888888888888888,
              "#fdca26"
             ],
             [
              1,
              "#f0f921"
             ]
            ],
            "type": "histogram2d"
           }
          ],
          "histogram2dcontour": [
           {
            "colorbar": {
             "outlinewidth": 0,
             "ticks": ""
            },
            "colorscale": [
             [
              0,
              "#0d0887"
             ],
             [
              0.1111111111111111,
              "#46039f"
             ],
             [
              0.2222222222222222,
              "#7201a8"
             ],
             [
              0.3333333333333333,
              "#9c179e"
             ],
             [
              0.4444444444444444,
              "#bd3786"
             ],
             [
              0.5555555555555556,
              "#d8576b"
             ],
             [
              0.6666666666666666,
              "#ed7953"
             ],
             [
              0.7777777777777778,
              "#fb9f3a"
             ],
             [
              0.8888888888888888,
              "#fdca26"
             ],
             [
              1,
              "#f0f921"
             ]
            ],
            "type": "histogram2dcontour"
           }
          ],
          "mesh3d": [
           {
            "colorbar": {
             "outlinewidth": 0,
             "ticks": ""
            },
            "type": "mesh3d"
           }
          ],
          "parcoords": [
           {
            "line": {
             "colorbar": {
              "outlinewidth": 0,
              "ticks": ""
             }
            },
            "type": "parcoords"
           }
          ],
          "pie": [
           {
            "automargin": true,
            "type": "pie"
           }
          ],
          "scatter": [
           {
            "fillpattern": {
             "fillmode": "overlay",
             "size": 10,
             "solidity": 0.2
            },
            "type": "scatter"
           }
          ],
          "scatter3d": [
           {
            "line": {
             "colorbar": {
              "outlinewidth": 0,
              "ticks": ""
             }
            },
            "marker": {
             "colorbar": {
              "outlinewidth": 0,
              "ticks": ""
             }
            },
            "type": "scatter3d"
           }
          ],
          "scattercarpet": [
           {
            "marker": {
             "colorbar": {
              "outlinewidth": 0,
              "ticks": ""
             }
            },
            "type": "scattercarpet"
           }
          ],
          "scattergeo": [
           {
            "marker": {
             "colorbar": {
              "outlinewidth": 0,
              "ticks": ""
             }
            },
            "type": "scattergeo"
           }
          ],
          "scattergl": [
           {
            "marker": {
             "colorbar": {
              "outlinewidth": 0,
              "ticks": ""
             }
            },
            "type": "scattergl"
           }
          ],
          "scattermapbox": [
           {
            "marker": {
             "colorbar": {
              "outlinewidth": 0,
              "ticks": ""
             }
            },
            "type": "scattermapbox"
           }
          ],
          "scatterpolar": [
           {
            "marker": {
             "colorbar": {
              "outlinewidth": 0,
              "ticks": ""
             }
            },
            "type": "scatterpolar"
           }
          ],
          "scatterpolargl": [
           {
            "marker": {
             "colorbar": {
              "outlinewidth": 0,
              "ticks": ""
             }
            },
            "type": "scatterpolargl"
           }
          ],
          "scatterternary": [
           {
            "marker": {
             "colorbar": {
              "outlinewidth": 0,
              "ticks": ""
             }
            },
            "type": "scatterternary"
           }
          ],
          "surface": [
           {
            "colorbar": {
             "outlinewidth": 0,
             "ticks": ""
            },
            "colorscale": [
             [
              0,
              "#0d0887"
             ],
             [
              0.1111111111111111,
              "#46039f"
             ],
             [
              0.2222222222222222,
              "#7201a8"
             ],
             [
              0.3333333333333333,
              "#9c179e"
             ],
             [
              0.4444444444444444,
              "#bd3786"
             ],
             [
              0.5555555555555556,
              "#d8576b"
             ],
             [
              0.6666666666666666,
              "#ed7953"
             ],
             [
              0.7777777777777778,
              "#fb9f3a"
             ],
             [
              0.8888888888888888,
              "#fdca26"
             ],
             [
              1,
              "#f0f921"
             ]
            ],
            "type": "surface"
           }
          ],
          "table": [
           {
            "cells": {
             "fill": {
              "color": "#EBF0F8"
             },
             "line": {
              "color": "white"
             }
            },
            "header": {
             "fill": {
              "color": "#C8D4E3"
             },
             "line": {
              "color": "white"
             }
            },
            "type": "table"
           }
          ]
         },
         "layout": {
          "annotationdefaults": {
           "arrowcolor": "#2a3f5f",
           "arrowhead": 0,
           "arrowwidth": 1
          },
          "autotypenumbers": "strict",
          "coloraxis": {
           "colorbar": {
            "outlinewidth": 0,
            "ticks": ""
           }
          },
          "colorscale": {
           "diverging": [
            [
             0,
             "#8e0152"
            ],
            [
             0.1,
             "#c51b7d"
            ],
            [
             0.2,
             "#de77ae"
            ],
            [
             0.3,
             "#f1b6da"
            ],
            [
             0.4,
             "#fde0ef"
            ],
            [
             0.5,
             "#f7f7f7"
            ],
            [
             0.6,
             "#e6f5d0"
            ],
            [
             0.7,
             "#b8e186"
            ],
            [
             0.8,
             "#7fbc41"
            ],
            [
             0.9,
             "#4d9221"
            ],
            [
             1,
             "#276419"
            ]
           ],
           "sequential": [
            [
             0,
             "#0d0887"
            ],
            [
             0.1111111111111111,
             "#46039f"
            ],
            [
             0.2222222222222222,
             "#7201a8"
            ],
            [
             0.3333333333333333,
             "#9c179e"
            ],
            [
             0.4444444444444444,
             "#bd3786"
            ],
            [
             0.5555555555555556,
             "#d8576b"
            ],
            [
             0.6666666666666666,
             "#ed7953"
            ],
            [
             0.7777777777777778,
             "#fb9f3a"
            ],
            [
             0.8888888888888888,
             "#fdca26"
            ],
            [
             1,
             "#f0f921"
            ]
           ],
           "sequentialminus": [
            [
             0,
             "#0d0887"
            ],
            [
             0.1111111111111111,
             "#46039f"
            ],
            [
             0.2222222222222222,
             "#7201a8"
            ],
            [
             0.3333333333333333,
             "#9c179e"
            ],
            [
             0.4444444444444444,
             "#bd3786"
            ],
            [
             0.5555555555555556,
             "#d8576b"
            ],
            [
             0.6666666666666666,
             "#ed7953"
            ],
            [
             0.7777777777777778,
             "#fb9f3a"
            ],
            [
             0.8888888888888888,
             "#fdca26"
            ],
            [
             1,
             "#f0f921"
            ]
           ]
          },
          "colorway": [
           "#636efa",
           "#EF553B",
           "#00cc96",
           "#ab63fa",
           "#FFA15A",
           "#19d3f3",
           "#FF6692",
           "#B6E880",
           "#FF97FF",
           "#FECB52"
          ],
          "font": {
           "color": "#2a3f5f"
          },
          "geo": {
           "bgcolor": "white",
           "lakecolor": "white",
           "landcolor": "#E5ECF6",
           "showlakes": true,
           "showland": true,
           "subunitcolor": "white"
          },
          "hoverlabel": {
           "align": "left"
          },
          "hovermode": "closest",
          "mapbox": {
           "style": "light"
          },
          "paper_bgcolor": "white",
          "plot_bgcolor": "#E5ECF6",
          "polar": {
           "angularaxis": {
            "gridcolor": "white",
            "linecolor": "white",
            "ticks": ""
           },
           "bgcolor": "#E5ECF6",
           "radialaxis": {
            "gridcolor": "white",
            "linecolor": "white",
            "ticks": ""
           }
          },
          "scene": {
           "xaxis": {
            "backgroundcolor": "#E5ECF6",
            "gridcolor": "white",
            "gridwidth": 2,
            "linecolor": "white",
            "showbackground": true,
            "ticks": "",
            "zerolinecolor": "white"
           },
           "yaxis": {
            "backgroundcolor": "#E5ECF6",
            "gridcolor": "white",
            "gridwidth": 2,
            "linecolor": "white",
            "showbackground": true,
            "ticks": "",
            "zerolinecolor": "white"
           },
           "zaxis": {
            "backgroundcolor": "#E5ECF6",
            "gridcolor": "white",
            "gridwidth": 2,
            "linecolor": "white",
            "showbackground": true,
            "ticks": "",
            "zerolinecolor": "white"
           }
          },
          "shapedefaults": {
           "line": {
            "color": "#2a3f5f"
           }
          },
          "ternary": {
           "aaxis": {
            "gridcolor": "white",
            "linecolor": "white",
            "ticks": ""
           },
           "baxis": {
            "gridcolor": "white",
            "linecolor": "white",
            "ticks": ""
           },
           "bgcolor": "#E5ECF6",
           "caxis": {
            "gridcolor": "white",
            "linecolor": "white",
            "ticks": ""
           }
          },
          "title": {
           "x": 0.05
          },
          "xaxis": {
           "automargin": true,
           "gridcolor": "white",
           "linecolor": "white",
           "ticks": "",
           "title": {
            "standoff": 15
           },
           "zerolinecolor": "white",
           "zerolinewidth": 2
          },
          "yaxis": {
           "automargin": true,
           "gridcolor": "white",
           "linecolor": "white",
           "ticks": "",
           "title": {
            "standoff": 15
           },
           "zerolinecolor": "white",
           "zerolinewidth": 2
          }
         }
        },
        "xaxis": {
         "anchor": "y",
         "domain": [
          0,
          1
         ],
         "title": {
          "text": "model_name"
         }
        },
        "yaxis": {
         "anchor": "x",
         "domain": [
          0,
          1
         ],
         "title": {
          "text": "score"
         }
        }
       }
      }
     },
     "metadata": {},
     "output_type": "display_data"
    }
   ],
   "source": [
    "fig = px.bar(diagonals_df,x='model_name', y='score', text_auto=True)\n",
    "fig.show()\n"
   ]
  },
  {
   "cell_type": "code",
   "execution_count": 20,
   "metadata": {},
   "outputs": [],
   "source": [
    "selected_models = {}\n",
    "\n",
    "for modelname in ['ViT-H-14-378-quickgelu', 'ViT-SO400M-14-SigLIP-384', 'EVA02-E-14-plus']:\n",
    "    selected_models[modelname] = modelwise_dfs[modelname]"
   ]
  },
  {
   "cell_type": "code",
   "execution_count": 21,
   "metadata": {},
   "outputs": [],
   "source": [
    "merged_selected = pd.concat(selected_models).reset_index()"
   ]
  },
  {
   "cell_type": "code",
   "execution_count": 22,
   "metadata": {},
   "outputs": [],
   "source": [
    "true_classes = merged_selected.groupby('image_name').agg('first')[class_label] #.str.replace('_', ' ') #.reset_index().rename(columns={class_label:'class'})"
   ]
  },
  {
   "cell_type": "code",
   "execution_count": 23,
   "metadata": {},
   "outputs": [],
   "source": [
    "merged_selected = merged_selected.groupby('image_name').sum(numeric_only=True)"
   ]
  },
  {
   "cell_type": "code",
   "execution_count": 24,
   "metadata": {},
   "outputs": [],
   "source": [
    "merged_selected.drop(columns=['level_1'], inplace=True)"
   ]
  },
  {
   "cell_type": "code",
   "execution_count": 25,
   "metadata": {},
   "outputs": [],
   "source": [
    "merged_pred[prediction_label] = merged_selected.idxmax(axis=1)\n",
    "merged_pred[class_label] = true_classes.tolist()"
   ]
  },
  {
   "cell_type": "code",
   "execution_count": 26,
   "metadata": {},
   "outputs": [],
   "source": [
    "# computing the confusion matrix:\n",
    "true_labels =      merged_pred[class_label]#.tolist()\n",
    "predicted_labels = merged_pred[prediction_label]#.tolist()\n",
    "\n",
    "c_mat = confusion_matrix(true_labels,predicted_labels,labels=available_classes_r,\n",
    "                          normalize='true'\n",
    "                          ) * 100\n",
    "c_mat = c_mat.round(3)"
   ]
  },
  {
   "cell_type": "code",
   "execution_count": 27,
   "metadata": {},
   "outputs": [
    {
     "data": {
      "application/vnd.plotly.v1+json": {
       "config": {
        "plotlyServerURL": "https://plot.ly"
       },
       "data": [
        {
         "coloraxis": "coloraxis",
         "hovertemplate": "Prediction: %{x}<br>Class: %{y}<br>color: %{z}<extra></extra>",
         "name": "0",
         "texttemplate": "%{z}",
         "type": "heatmap",
         "x": [
          "sett",
          "paving_stones",
          "ground",
          "grass",
          "concrete_plates",
          "concrete",
          "asphalt"
         ],
         "xaxis": "x",
         "y": [
          "sett",
          "paving_stones",
          "ground",
          "grass",
          "concrete_plates",
          "concrete",
          "asphalt"
         ],
         "yaxis": "y",
         "z": [
          [
           1.734,
           78.902,
           13.006,
           0.867,
           0,
           3.179,
           2.312
          ],
          [
           0,
           94.562,
           1.208,
           0,
           0,
           1.208,
           3.021
          ],
          [
           0.212,
           0,
           99.364,
           0,
           0,
           0,
           0.424
          ],
          [
           0,
           0,
           0.658,
           98.904,
           0,
           0,
           0.439
          ],
          [
           2.286,
           25.714,
           18.857,
           4,
           22.286,
           18.857,
           8
          ],
          [
           0,
           0,
           8.031,
           1.813,
           0.777,
           79.016,
           10.363
          ],
          [
           0.442,
           0,
           9.934,
           3.091,
           2.428,
           25.166,
           58.94
          ]
         ]
        }
       ],
       "layout": {
        "coloraxis": {
         "colorscale": [
          [
           0,
           "rgb(255, 198, 196)"
          ],
          [
           0.16666666666666666,
           "rgb(244, 163, 168)"
          ],
          [
           0.3333333333333333,
           "rgb(227, 129, 145)"
          ],
          [
           0.5,
           "rgb(204, 96, 125)"
          ],
          [
           0.6666666666666666,
           "rgb(173, 70, 108)"
          ],
          [
           0.8333333333333334,
           "rgb(139, 48, 88)"
          ],
          [
           1,
           "rgb(103, 32, 68)"
          ]
         ]
        },
        "height": 700,
        "margin": {
         "t": 60
        },
        "template": {
         "data": {
          "bar": [
           {
            "error_x": {
             "color": "#2a3f5f"
            },
            "error_y": {
             "color": "#2a3f5f"
            },
            "marker": {
             "line": {
              "color": "#E5ECF6",
              "width": 0.5
             },
             "pattern": {
              "fillmode": "overlay",
              "size": 10,
              "solidity": 0.2
             }
            },
            "type": "bar"
           }
          ],
          "barpolar": [
           {
            "marker": {
             "line": {
              "color": "#E5ECF6",
              "width": 0.5
             },
             "pattern": {
              "fillmode": "overlay",
              "size": 10,
              "solidity": 0.2
             }
            },
            "type": "barpolar"
           }
          ],
          "carpet": [
           {
            "aaxis": {
             "endlinecolor": "#2a3f5f",
             "gridcolor": "white",
             "linecolor": "white",
             "minorgridcolor": "white",
             "startlinecolor": "#2a3f5f"
            },
            "baxis": {
             "endlinecolor": "#2a3f5f",
             "gridcolor": "white",
             "linecolor": "white",
             "minorgridcolor": "white",
             "startlinecolor": "#2a3f5f"
            },
            "type": "carpet"
           }
          ],
          "choropleth": [
           {
            "colorbar": {
             "outlinewidth": 0,
             "ticks": ""
            },
            "type": "choropleth"
           }
          ],
          "contour": [
           {
            "colorbar": {
             "outlinewidth": 0,
             "ticks": ""
            },
            "colorscale": [
             [
              0,
              "#0d0887"
             ],
             [
              0.1111111111111111,
              "#46039f"
             ],
             [
              0.2222222222222222,
              "#7201a8"
             ],
             [
              0.3333333333333333,
              "#9c179e"
             ],
             [
              0.4444444444444444,
              "#bd3786"
             ],
             [
              0.5555555555555556,
              "#d8576b"
             ],
             [
              0.6666666666666666,
              "#ed7953"
             ],
             [
              0.7777777777777778,
              "#fb9f3a"
             ],
             [
              0.8888888888888888,
              "#fdca26"
             ],
             [
              1,
              "#f0f921"
             ]
            ],
            "type": "contour"
           }
          ],
          "contourcarpet": [
           {
            "colorbar": {
             "outlinewidth": 0,
             "ticks": ""
            },
            "type": "contourcarpet"
           }
          ],
          "heatmap": [
           {
            "colorbar": {
             "outlinewidth": 0,
             "ticks": ""
            },
            "colorscale": [
             [
              0,
              "#0d0887"
             ],
             [
              0.1111111111111111,
              "#46039f"
             ],
             [
              0.2222222222222222,
              "#7201a8"
             ],
             [
              0.3333333333333333,
              "#9c179e"
             ],
             [
              0.4444444444444444,
              "#bd3786"
             ],
             [
              0.5555555555555556,
              "#d8576b"
             ],
             [
              0.6666666666666666,
              "#ed7953"
             ],
             [
              0.7777777777777778,
              "#fb9f3a"
             ],
             [
              0.8888888888888888,
              "#fdca26"
             ],
             [
              1,
              "#f0f921"
             ]
            ],
            "type": "heatmap"
           }
          ],
          "heatmapgl": [
           {
            "colorbar": {
             "outlinewidth": 0,
             "ticks": ""
            },
            "colorscale": [
             [
              0,
              "#0d0887"
             ],
             [
              0.1111111111111111,
              "#46039f"
             ],
             [
              0.2222222222222222,
              "#7201a8"
             ],
             [
              0.3333333333333333,
              "#9c179e"
             ],
             [
              0.4444444444444444,
              "#bd3786"
             ],
             [
              0.5555555555555556,
              "#d8576b"
             ],
             [
              0.6666666666666666,
              "#ed7953"
             ],
             [
              0.7777777777777778,
              "#fb9f3a"
             ],
             [
              0.8888888888888888,
              "#fdca26"
             ],
             [
              1,
              "#f0f921"
             ]
            ],
            "type": "heatmapgl"
           }
          ],
          "histogram": [
           {
            "marker": {
             "pattern": {
              "fillmode": "overlay",
              "size": 10,
              "solidity": 0.2
             }
            },
            "type": "histogram"
           }
          ],
          "histogram2d": [
           {
            "colorbar": {
             "outlinewidth": 0,
             "ticks": ""
            },
            "colorscale": [
             [
              0,
              "#0d0887"
             ],
             [
              0.1111111111111111,
              "#46039f"
             ],
             [
              0.2222222222222222,
              "#7201a8"
             ],
             [
              0.3333333333333333,
              "#9c179e"
             ],
             [
              0.4444444444444444,
              "#bd3786"
             ],
             [
              0.5555555555555556,
              "#d8576b"
             ],
             [
              0.6666666666666666,
              "#ed7953"
             ],
             [
              0.7777777777777778,
              "#fb9f3a"
             ],
             [
              0.8888888888888888,
              "#fdca26"
             ],
             [
              1,
              "#f0f921"
             ]
            ],
            "type": "histogram2d"
           }
          ],
          "histogram2dcontour": [
           {
            "colorbar": {
             "outlinewidth": 0,
             "ticks": ""
            },
            "colorscale": [
             [
              0,
              "#0d0887"
             ],
             [
              0.1111111111111111,
              "#46039f"
             ],
             [
              0.2222222222222222,
              "#7201a8"
             ],
             [
              0.3333333333333333,
              "#9c179e"
             ],
             [
              0.4444444444444444,
              "#bd3786"
             ],
             [
              0.5555555555555556,
              "#d8576b"
             ],
             [
              0.6666666666666666,
              "#ed7953"
             ],
             [
              0.7777777777777778,
              "#fb9f3a"
             ],
             [
              0.8888888888888888,
              "#fdca26"
             ],
             [
              1,
              "#f0f921"
             ]
            ],
            "type": "histogram2dcontour"
           }
          ],
          "mesh3d": [
           {
            "colorbar": {
             "outlinewidth": 0,
             "ticks": ""
            },
            "type": "mesh3d"
           }
          ],
          "parcoords": [
           {
            "line": {
             "colorbar": {
              "outlinewidth": 0,
              "ticks": ""
             }
            },
            "type": "parcoords"
           }
          ],
          "pie": [
           {
            "automargin": true,
            "type": "pie"
           }
          ],
          "scatter": [
           {
            "fillpattern": {
             "fillmode": "overlay",
             "size": 10,
             "solidity": 0.2
            },
            "type": "scatter"
           }
          ],
          "scatter3d": [
           {
            "line": {
             "colorbar": {
              "outlinewidth": 0,
              "ticks": ""
             }
            },
            "marker": {
             "colorbar": {
              "outlinewidth": 0,
              "ticks": ""
             }
            },
            "type": "scatter3d"
           }
          ],
          "scattercarpet": [
           {
            "marker": {
             "colorbar": {
              "outlinewidth": 0,
              "ticks": ""
             }
            },
            "type": "scattercarpet"
           }
          ],
          "scattergeo": [
           {
            "marker": {
             "colorbar": {
              "outlinewidth": 0,
              "ticks": ""
             }
            },
            "type": "scattergeo"
           }
          ],
          "scattergl": [
           {
            "marker": {
             "colorbar": {
              "outlinewidth": 0,
              "ticks": ""
             }
            },
            "type": "scattergl"
           }
          ],
          "scattermapbox": [
           {
            "marker": {
             "colorbar": {
              "outlinewidth": 0,
              "ticks": ""
             }
            },
            "type": "scattermapbox"
           }
          ],
          "scatterpolar": [
           {
            "marker": {
             "colorbar": {
              "outlinewidth": 0,
              "ticks": ""
             }
            },
            "type": "scatterpolar"
           }
          ],
          "scatterpolargl": [
           {
            "marker": {
             "colorbar": {
              "outlinewidth": 0,
              "ticks": ""
             }
            },
            "type": "scatterpolargl"
           }
          ],
          "scatterternary": [
           {
            "marker": {
             "colorbar": {
              "outlinewidth": 0,
              "ticks": ""
             }
            },
            "type": "scatterternary"
           }
          ],
          "surface": [
           {
            "colorbar": {
             "outlinewidth": 0,
             "ticks": ""
            },
            "colorscale": [
             [
              0,
              "#0d0887"
             ],
             [
              0.1111111111111111,
              "#46039f"
             ],
             [
              0.2222222222222222,
              "#7201a8"
             ],
             [
              0.3333333333333333,
              "#9c179e"
             ],
             [
              0.4444444444444444,
              "#bd3786"
             ],
             [
              0.5555555555555556,
              "#d8576b"
             ],
             [
              0.6666666666666666,
              "#ed7953"
             ],
             [
              0.7777777777777778,
              "#fb9f3a"
             ],
             [
              0.8888888888888888,
              "#fdca26"
             ],
             [
              1,
              "#f0f921"
             ]
            ],
            "type": "surface"
           }
          ],
          "table": [
           {
            "cells": {
             "fill": {
              "color": "#EBF0F8"
             },
             "line": {
              "color": "white"
             }
            },
            "header": {
             "fill": {
              "color": "#C8D4E3"
             },
             "line": {
              "color": "white"
             }
            },
            "type": "table"
           }
          ]
         },
         "layout": {
          "annotationdefaults": {
           "arrowcolor": "#2a3f5f",
           "arrowhead": 0,
           "arrowwidth": 1
          },
          "autotypenumbers": "strict",
          "coloraxis": {
           "colorbar": {
            "outlinewidth": 0,
            "ticks": ""
           }
          },
          "colorscale": {
           "diverging": [
            [
             0,
             "#8e0152"
            ],
            [
             0.1,
             "#c51b7d"
            ],
            [
             0.2,
             "#de77ae"
            ],
            [
             0.3,
             "#f1b6da"
            ],
            [
             0.4,
             "#fde0ef"
            ],
            [
             0.5,
             "#f7f7f7"
            ],
            [
             0.6,
             "#e6f5d0"
            ],
            [
             0.7,
             "#b8e186"
            ],
            [
             0.8,
             "#7fbc41"
            ],
            [
             0.9,
             "#4d9221"
            ],
            [
             1,
             "#276419"
            ]
           ],
           "sequential": [
            [
             0,
             "#0d0887"
            ],
            [
             0.1111111111111111,
             "#46039f"
            ],
            [
             0.2222222222222222,
             "#7201a8"
            ],
            [
             0.3333333333333333,
             "#9c179e"
            ],
            [
             0.4444444444444444,
             "#bd3786"
            ],
            [
             0.5555555555555556,
             "#d8576b"
            ],
            [
             0.6666666666666666,
             "#ed7953"
            ],
            [
             0.7777777777777778,
             "#fb9f3a"
            ],
            [
             0.8888888888888888,
             "#fdca26"
            ],
            [
             1,
             "#f0f921"
            ]
           ],
           "sequentialminus": [
            [
             0,
             "#0d0887"
            ],
            [
             0.1111111111111111,
             "#46039f"
            ],
            [
             0.2222222222222222,
             "#7201a8"
            ],
            [
             0.3333333333333333,
             "#9c179e"
            ],
            [
             0.4444444444444444,
             "#bd3786"
            ],
            [
             0.5555555555555556,
             "#d8576b"
            ],
            [
             0.6666666666666666,
             "#ed7953"
            ],
            [
             0.7777777777777778,
             "#fb9f3a"
            ],
            [
             0.8888888888888888,
             "#fdca26"
            ],
            [
             1,
             "#f0f921"
            ]
           ]
          },
          "colorway": [
           "#636efa",
           "#EF553B",
           "#00cc96",
           "#ab63fa",
           "#FFA15A",
           "#19d3f3",
           "#FF6692",
           "#B6E880",
           "#FF97FF",
           "#FECB52"
          ],
          "font": {
           "color": "#2a3f5f"
          },
          "geo": {
           "bgcolor": "white",
           "lakecolor": "white",
           "landcolor": "#E5ECF6",
           "showlakes": true,
           "showland": true,
           "subunitcolor": "white"
          },
          "hoverlabel": {
           "align": "left"
          },
          "hovermode": "closest",
          "mapbox": {
           "style": "light"
          },
          "paper_bgcolor": "white",
          "plot_bgcolor": "#E5ECF6",
          "polar": {
           "angularaxis": {
            "gridcolor": "white",
            "linecolor": "white",
            "ticks": ""
           },
           "bgcolor": "#E5ECF6",
           "radialaxis": {
            "gridcolor": "white",
            "linecolor": "white",
            "ticks": ""
           }
          },
          "scene": {
           "xaxis": {
            "backgroundcolor": "#E5ECF6",
            "gridcolor": "white",
            "gridwidth": 2,
            "linecolor": "white",
            "showbackground": true,
            "ticks": "",
            "zerolinecolor": "white"
           },
           "yaxis": {
            "backgroundcolor": "#E5ECF6",
            "gridcolor": "white",
            "gridwidth": 2,
            "linecolor": "white",
            "showbackground": true,
            "ticks": "",
            "zerolinecolor": "white"
           },
           "zaxis": {
            "backgroundcolor": "#E5ECF6",
            "gridcolor": "white",
            "gridwidth": 2,
            "linecolor": "white",
            "showbackground": true,
            "ticks": "",
            "zerolinecolor": "white"
           }
          },
          "shapedefaults": {
           "line": {
            "color": "#2a3f5f"
           }
          },
          "ternary": {
           "aaxis": {
            "gridcolor": "white",
            "linecolor": "white",
            "ticks": ""
           },
           "baxis": {
            "gridcolor": "white",
            "linecolor": "white",
            "ticks": ""
           },
           "bgcolor": "#E5ECF6",
           "caxis": {
            "gridcolor": "white",
            "linecolor": "white",
            "ticks": ""
           }
          },
          "title": {
           "x": 0.05
          },
          "xaxis": {
           "automargin": true,
           "gridcolor": "white",
           "linecolor": "white",
           "ticks": "",
           "title": {
            "standoff": 15
           },
           "zerolinecolor": "white",
           "zerolinewidth": 2
          },
          "yaxis": {
           "automargin": true,
           "gridcolor": "white",
           "linecolor": "white",
           "ticks": "",
           "title": {
            "standoff": 15
           },
           "zerolinecolor": "white",
           "zerolinewidth": 2
          }
         }
        },
        "width": 700,
        "xaxis": {
         "anchor": "y",
         "constrain": "domain",
         "domain": [
          0,
          1
         ],
         "scaleanchor": "y",
         "side": "top",
         "title": {
          "text": "Prediction"
         }
        },
        "yaxis": {
         "anchor": "x",
         "autorange": "reversed",
         "constrain": "domain",
         "domain": [
          0,
          1
         ],
         "title": {
          "text": "Class"
         }
        }
       }
      }
     },
     "metadata": {},
     "output_type": "display_data"
    }
   ],
   "source": [
    "fig = px.imshow(c_mat,\n",
    "                labels=dict(x=\"Prediction\", y=\"Class\"),\n",
    "                x=available_classes_r,\n",
    "                y=available_classes_r,\n",
    "                text_auto=True, \n",
    "            #    aspect=\"auto\",\n",
    "                color_continuous_scale=px.colors.sequential.Burg,\n",
    "                width=700,\n",
    "                height=700,\n",
    "               )\n",
    "fig.update_xaxes(side=\"top\")\n",
    "\n",
    "# fig['layout']['xaxis']['autorange'] = \"reversed\"\n",
    "\n",
    "fig.show()"
   ]
  },
  {
   "cell_type": "code",
   "execution_count": 28,
   "metadata": {},
   "outputs": [
    {
     "data": {
      "text/plain": [
       "{'sett': {'precision': 0.46153846153846156,\n",
       "  'recall': 0.017341040462427744,\n",
       "  'f1-score': 0.033426183844011144,\n",
       "  'support': 346.0},\n",
       " 'paving_stones': {'precision': 0.4960380348652932,\n",
       "  'recall': 0.945619335347432,\n",
       "  'f1-score': 0.6507276507276507,\n",
       "  'support': 331.0},\n",
       " 'ground': {'precision': 0.7444444444444445,\n",
       "  'recall': 0.9936440677966102,\n",
       "  'f1-score': 0.8511796733212341,\n",
       "  'support': 472.0},\n",
       " 'grass': {'precision': 0.9356846473029046,\n",
       "  'recall': 0.9890350877192983,\n",
       "  'f1-score': 0.9616204690831557,\n",
       "  'support': 456.0},\n",
       " 'concrete_plates': {'precision': 0.7358490566037735,\n",
       "  'recall': 0.22285714285714286,\n",
       "  'f1-score': 0.34210526315789475,\n",
       "  'support': 175.0},\n",
       " 'concrete': {'precision': 0.6531049250535332,\n",
       "  'recall': 0.7901554404145078,\n",
       "  'f1-score': 0.7151230949589683,\n",
       "  'support': 386.0},\n",
       " 'asphalt': {'precision': 0.7784256559766763,\n",
       "  'recall': 0.5894039735099338,\n",
       "  'f1-score': 0.6708542713567839,\n",
       "  'support': 453.0},\n",
       " 'accuracy': 0.7063764795723558,\n",
       " 'macro avg': {'precision': 0.6864407465407266,\n",
       "  'recall': 0.6497222983010503,\n",
       "  'f1-score': 0.6035766580642427,\n",
       "  'support': 2619.0},\n",
       " 'weighted avg': {'precision': 0.7008132043964799,\n",
       "  'recall': 0.7063764795723558,\n",
       "  'f1-score': 0.6517812036433137,\n",
       "  'support': 2619.0}}"
      ]
     },
     "execution_count": 28,
     "metadata": {},
     "output_type": "execute_result"
    }
   ],
   "source": [
    "classification_report(\n",
    "    true_labels,\n",
    "    predicted_labels,\n",
    "    labels=available_classes_r,\n",
    "    output_dict=True\n",
    ")"
   ]
  },
  {
   "cell_type": "code",
   "execution_count": 35,
   "metadata": {},
   "outputs": [
    {
     "data": {
      "text/plain": [
       "56.85075"
      ]
     },
     "execution_count": 35,
     "metadata": {},
     "output_type": "execute_result"
    }
   ],
   "source": [
    "c_mat.diagonal().sum() / (len(available_models))"
   ]
  }
 ],
 "metadata": {
  "kernelspec": {
   "display_name": ".venv",
   "language": "python",
   "name": "python3"
  },
  "language_info": {
   "codemirror_mode": {
    "name": "ipython",
    "version": 3
   },
   "file_extension": ".py",
   "mimetype": "text/x-python",
   "name": "python",
   "nbconvert_exporter": "python",
   "pygments_lexer": "ipython3",
   "version": "3.12.1"
  }
 },
 "nbformat": 4,
 "nbformat_minor": 2
}
